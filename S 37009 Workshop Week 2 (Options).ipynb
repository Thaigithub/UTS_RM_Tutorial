{
 "cells": [
  {
   "cell_type": "markdown",
   "id": "2cdfa3e7",
   "metadata": {},
   "source": [
    "# 37009 Workshop Week 2: Review of Financial Market Instruments (Part 2)\n",
    "\n",
    "**Note:** This notebook implements the option pricing routines for the workshop exercises. Keep this notebook in hand as you will find useful the creation of functions to implement the Black-Scholes-Merton pricing formulas.\n",
    "\n",
    "**Reference:** These codes are adapted from Alos, E. & Merino, R. (2023). *Introduction to Financial Derivatives with Python*. CRC Press, Florida, USA."
   ]
  },
  {
   "cell_type": "markdown",
   "id": "6ef07495",
   "metadata": {},
   "source": [
    "## European options under the Black-Scholes-Merton model\n",
    "\n",
    "We first create the functions that provide the prices of European call and put options on an underlying asset that pays a known dividend yield."
   ]
  },
  {
   "cell_type": "code",
   "execution_count": 10,
   "id": "8cbebc72",
   "metadata": {},
   "outputs": [],
   "source": [
    "# Required modules\n",
    "import numpy as np\n",
    "import scipy as sp\n",
    "import scipy.stats\n",
    "import pandas as pd\n",
    "import math\n",
    "from datetime import datetime\n",
    "from datetime import timedelta\n",
    "\n",
    "# Pricing function for European calls and puts\n",
    "def BSprice(spot_price, strike_price, time_to_maturity, risk_free_rate, dividend_yield, volatility, option_type):\n",
    "    \n",
    "    # Use mathematical notation for function inputs\n",
    "    s = spot_price\n",
    "    K = strike_price\n",
    "    tau = time_to_maturity # (T-t) in notes\n",
    "    r = risk_free_rate\n",
    "    q = dividend_yield\n",
    "    sigma = volatility\n",
    "    \n",
    "    # Calculate d1 and d2\n",
    "    d1 = (np.log(s / K) + (r - q + 0.5 * sigma ** 2) * tau) / (sigma * np.sqrt(tau))\n",
    "    d2 = d1 - sigma * np.sqrt(tau)\n",
    "    \n",
    "    # Calculate option prices\n",
    "    if option_type == 'call':\n",
    "        price = (np.exp(-q * tau) * s * sp.stats.norm.cdf(d1, 0.0, 1.0) \\\n",
    "                 - np.exp(-r * tau) * K * sp.stats.norm.cdf(d2, 0.0, 1.0))\n",
    "        \n",
    "    if option_type == 'put':\n",
    "        price = (np.exp(-r * tau) * K * sp.stats.norm.cdf(-d2, 0.0, 1.0) \\\n",
    "                 - np.exp(-q * tau) * s * sp.stats.norm.cdf(-d1, 0.0, 1.0))\n",
    "        \n",
    "    return price"
   ]
  },
  {
   "cell_type": "code",
   "execution_count": 11,
   "id": "d02ec205",
   "metadata": {},
   "outputs": [
    {
     "name": "stdout",
     "output_type": "stream",
     "text": [
      "3.6895968278176454\n",
      "8.479806687887631\n"
     ]
    }
   ],
   "source": [
    "# Test option pricing function\n",
    "call_price = BSprice(100, 105, 0.02, 0.1, 0, 1, 'call')\n",
    "print(call_price)\n",
    "\n",
    "put_price = BSprice(100, 105, 0.02, 0.1, 0, 1, 'put')\n",
    "print(put_price)"
   ]
  },
  {
   "cell_type": "code",
   "execution_count": 12,
   "id": "fc31ea35",
   "metadata": {},
   "outputs": [],
   "source": [
    "# Function to calculate option delta under the Black-Scholes-Merton model\n",
    "def BSdelta(spot_price, strike_price, time_to_maturity, risk_free_rate, dividend_yield, volatility, option_type):\n",
    "    \n",
    "    # Use mathematical notation for function inputs\n",
    "    s = spot_price\n",
    "    K = strike_price\n",
    "    tau = time_to_maturity # (T-t) in notes\n",
    "    r = risk_free_rate\n",
    "    q = dividend_yield\n",
    "    sigma = volatility\n",
    "    \n",
    "    # Calculate d1 and d2\n",
    "    d1 = (np.log(s / K) + (r - q + 0.5 * sigma ** 2) * tau) / (sigma * np.sqrt(tau))\n",
    "    \n",
    "    # Calculate option delta\n",
    "    if option_type == 'call':\n",
    "        value = sp.stats.norm.cdf(d1, 0.0, 1.0)\n",
    "    \n",
    "    if option_type == 'put':\n",
    "        value = sp.stats.norm.cdf(d1, 0.0, 1.0) - 1\n",
    "    \n",
    "    return value    "
   ]
  },
  {
   "cell_type": "code",
   "execution_count": 13,
   "id": "21ccdb8c",
   "metadata": {},
   "outputs": [
    {
     "name": "stdout",
     "output_type": "stream",
     "text": [
      "0.39737567618946446\n",
      "-0.6026243238105355\n"
     ]
    }
   ],
   "source": [
    "# Test option delta function\n",
    "call_delta = BSdelta(100, 105, 0.02, 0.1, 0, 1, 'call')\n",
    "print(call_delta)\n",
    "\n",
    "put_delta = BSdelta(100, 105, 0.02, 0.1, 0, 1, 'put')\n",
    "print(put_delta)"
   ]
  },
  {
   "cell_type": "code",
   "execution_count": 14,
   "id": "37669e4c",
   "metadata": {},
   "outputs": [],
   "source": [
    "# Function to calculate option gamma under the Black-Scholes-Merton model\n",
    "def BSgamma(spot_price, strike_price, time_to_maturity, risk_free_rate, dividend_yield, volatility):\n",
    "    \n",
    "    # Use mathematical notation for function inputs\n",
    "    s = spot_price\n",
    "    K = strike_price\n",
    "    tau = time_to_maturity # (T-t) in notes\n",
    "    r = risk_free_rate\n",
    "    q = dividend_yield\n",
    "    sigma = volatility\n",
    "    \n",
    "    # Compute option gamma (same for calls and puts)\n",
    "    d1 = (np.log(s / K) + (r - q + 0.5 * sigma ** 2) * tau) / (sigma * np.sqrt(tau))\n",
    "    value = sp.stats.norm.pdf(d1, 0.0, 1.0) / (s * sigma * np.sqrt(tau))\n",
    "    \n",
    "    return value"
   ]
  },
  {
   "cell_type": "code",
   "execution_count": 15,
   "id": "ff90509a",
   "metadata": {},
   "outputs": [
    {
     "name": "stdout",
     "output_type": "stream",
     "text": [
      "0.027270898865527086\n"
     ]
    }
   ],
   "source": [
    "# Test option gamma function\n",
    "call_gamma = BSgamma(100, 105, 0.02, 0.1, 0, 1)\n",
    "print(call_gamma)"
   ]
  },
  {
   "cell_type": "markdown",
   "id": "175929a4",
   "metadata": {},
   "source": [
    "## European options on indices\n",
    "\n",
    "This is question (6) in the Workshop Exercises. From the statement of the exercise, we know that $K = 7000$, $s = 6900$, $\\sigma = 0.25$, and $q = 0$. We are missing the time to maturity and the relevant risk-free rate.\n",
    "\n",
    "The time to maturity is the amount of time in years between today, 15 August 2023, and the option maturity date, 1 April 2024. We assume that the risk-free rate is the applicable zero rate interpolated from the given zero rates for the Australian market. "
   ]
  },
  {
   "cell_type": "code",
   "execution_count": 19,
   "id": "4733f9dc",
   "metadata": {},
   "outputs": [
    {
     "name": "stdout",
     "output_type": "stream",
     "text": [
      "0.6388888888888888\n",
      "   Tenor  Domestic  Foreign\n",
      "0   0.25    0.0286   0.0425\n",
      "1   0.50    0.0296   0.0464\n",
      "2   0.75    0.0306   0.0489\n",
      "0.030155555555555554\n"
     ]
    }
   ],
   "source": [
    "# Time to maturity\n",
    "date_today = datetime(2023, 8, 15)\n",
    "maturity_date = datetime(2024, 4, 1)\n",
    "time_diff = maturity_date - date_today\n",
    "time_diff = time_diff.days / 360\n",
    "print(time_diff)\n",
    "\n",
    "# Zero rates for domestic and foreign markets\n",
    "zero_rates = pd.DataFrame({'Tenor':[3/12, 6/12, 9/12],\n",
    "                          'Domestic':[0.0286, 0.0296, 0.0306],\n",
    "                          'Foreign':[0.0425, 0.0464, 0.0489]})\n",
    "print(zero_rates)\n",
    "\n",
    "# Interpolate required zero rate\n",
    "risk_free_rate = np.interp(x = time_diff, xp = zero_rates['Tenor'], fp = zero_rates['Domestic'])\n",
    "print(risk_free_rate)\n"
   ]
  },
  {
   "cell_type": "markdown",
   "id": "e979d228",
   "metadata": {},
   "source": [
    "We are now ready to calculate the European put option price, its $\\Delta$, and its $\\Gamma$ using the functions we have defined above."
   ]
  },
  {
   "cell_type": "code",
   "execution_count": 21,
   "id": "1eef98b8",
   "metadata": {},
   "outputs": [
    {
     "name": "stdout",
     "output_type": "stream",
     "text": [
      "The price of the put option per share is AUD 531.1893737204286\n",
      "The delta of the put option per share is AUD -0.4505305948330025\n",
      "The gamma of the put option per share is AUD 0.0002871125249362881\n"
     ]
    }
   ],
   "source": [
    "# Option price\n",
    "put_price = BSprice(6900, 7000, time_diff, risk_free_rate, 0.0, 0.25, 'put')\n",
    "\n",
    "# Option delta\n",
    "put_delta = BSdelta(6900, 7000, time_diff, risk_free_rate, 0.0, 0.25, 'put')\n",
    "\n",
    "# Option gamma\n",
    "put_gamma = BSgamma(6900, 7000, time_diff, risk_free_rate, 0.0, 0.25)\n",
    "\n",
    "print('The price of the put option per share is AUD', put_price)\n",
    "print('The delta of the put option per share is AUD', put_delta)\n",
    "print('The gamma of the put option per share is AUD', put_gamma)"
   ]
  },
  {
   "cell_type": "markdown",
   "id": "3e46bb89",
   "metadata": {},
   "source": [
    "## European currency options\n",
    "\n",
    "This is question (5) in the Workshop Exercises. We first express the strike price and spot exchange rate as the price in AUD of one KRW."
   ]
  },
  {
   "cell_type": "code",
   "execution_count": 24,
   "id": "e84126af",
   "metadata": {},
   "outputs": [],
   "source": [
    "# Given information\n",
    "strike_fx = 1 / 875\n",
    "spot_fx = 1 / 865\n",
    "sigma = 0.20"
   ]
  },
  {
   "cell_type": "markdown",
   "id": "d965f9d1",
   "metadata": {},
   "source": [
    "We also need to determine the time to maturity and the applicable risk-free rates in the domestic and foreign markets."
   ]
  },
  {
   "cell_type": "code",
   "execution_count": 25,
   "id": "9aabe097",
   "metadata": {},
   "outputs": [],
   "source": [
    "# Time to maturity\n",
    "date_today = datetime(2023, 8, 15)\n",
    "maturity_date = datetime(2023, 12, 31)\n",
    "time_diff = maturity_date - date_today\n",
    "time_diff = time_diff.days / 360\n",
    "\n",
    "# Interpolate required zero rates\n",
    "r_dom = np.interp(x = time_diff, xp = zero_rates['Tenor'], fp = zero_rates['Domestic'])\n",
    "r_for = np.interp(x = time_diff, xp = zero_rates['Tenor'], fp = zero_rates['Foreign'])"
   ]
  },
  {
   "cell_type": "markdown",
   "id": "d056c0f5",
   "metadata": {},
   "source": [
    "We can now compute the price of the currency option"
   ]
  },
  {
   "cell_type": "code",
   "execution_count": 26,
   "id": "114f0b6d",
   "metadata": {},
   "outputs": [
    {
     "name": "stdout",
     "output_type": "stream",
     "text": [
      "The price of the call option is AUD 5.916526358285814e-05 per KRW\n",
      "The delta of the call option is AUD 0.5425742620546902 per KRW\n",
      "The gamma of the call option is AUD 2770.9291753674343 per KRW\n"
     ]
    }
   ],
   "source": [
    "# Currency option price. Also calculate delta and gamma\n",
    "curr_call_price = BSprice(spot_fx, strike_fx, time_diff, r_dom, r_for, sigma, 'call')\n",
    "curr_call_delta = BSdelta(spot_fx, strike_fx, time_diff, r_dom, r_for, sigma, 'call')\n",
    "curr_call_gamma = BSgamma(spot_fx, strike_fx, time_diff, r_dom, r_for, sigma)\n",
    "\n",
    "print('The price of the call option is AUD', curr_call_price, 'per KRW')\n",
    "print('The delta of the call option is AUD', curr_call_delta, 'per KRW')\n",
    "print('The gamma of the call option is AUD', curr_call_gamma, 'per KRW')"
   ]
  }
 ],
 "metadata": {
  "kernelspec": {
   "display_name": "Python 3 (ipykernel)",
   "language": "python",
   "name": "python3"
  },
  "language_info": {
   "codemirror_mode": {
    "name": "ipython",
    "version": 3
   },
   "file_extension": ".py",
   "mimetype": "text/x-python",
   "name": "python",
   "nbconvert_exporter": "python",
   "pygments_lexer": "ipython3",
   "version": "3.10.9"
  }
 },
 "nbformat": 4,
 "nbformat_minor": 5
}

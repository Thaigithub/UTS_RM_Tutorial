{
 "cells": [
  {
   "cell_type": "markdown",
   "id": "6556ee50",
   "metadata": {},
   "source": [
    "# Introduction\n",
    "\n",
    "## Background (Same as Week 9 Workshop)\n",
    "\n",
    "Today, 21 December 2021, we hold a portfolio consisting of physical assets and European options. The specification of each component is as follows:\n",
    "\n",
    "1. A short position on 1,000 units of the ASX 200\n",
    "2. A long position on 2,500 units of the S\\&P 500 (*Note: prices of the S\\&P 500 provided in the data set are in US dollars*)\n",
    "3. A long position on US\\$ 4 million\n",
    "4. A long position on 10,000 units of a European call option on a share of the ASX 200 with a strike price of \\$6,400 per unit and an expiry date of 26 November 2022\n",
    "5. A long position on 20,000 units of a European put option on a share of the S\\&P 500 with a strike price of \\$ 2,980 per unit and an expiry date of 23 December 2022\n",
    "\n",
    "We assume that the risk-free interest rates with maturity 26 November 2022 and 23 December 2022 are 3\\% and 3.5\\%, respectively. For purposes of option pricing, assume that the (annual) volatility of the ASX 200 and S\\&P 500 prices are 20\\% and 25\\%, respectively. \n",
    "\n",
    "## Tasks\n",
    "\n",
    "Given the time series of financial data in `WorkshopWeek7Data.csv`, perform the following analysis:\n",
    "\n",
    "1. **(Completed in Week 7 Workshop)** Determine the marked-to-market value of the entire portfolio at the valuation date (21 December 2021).\n",
    "2. Calculate the one-day 95\\% VaR using Monte Carlo simulation for each component and the entire portfolio. Use the models specified below to simulate future values of the underlying risk factors/asset prices.\n",
    "3. Calculate the 10-day 95\\% VaR using Monte Carlo simulation for each component and the entire portfolio using the same modelling assumptions on the underlying risk factors/asset prices.\n",
    "\n",
    "## Modelling Assumptions\n",
    "\n",
    "**NOTE:** There is a lot of freedom regarding this aspect of Monte Carlo simulation. The risk manager is free to select any model for the underlying risk factors or asset prices as long as this is consistent with the valuation framework for the constituent financial instruments. Note that this restriction applies especially to financial derivatives where valuation or pricing formulas arise from specific assumptions on the dynamics of the asset prices. For example, the Black-Scholes-Merton pricing formulas rely on the log-normal distribution of underlying asset prices.\n",
    "\n",
    "For this workshop, we shall work with two sets of models:\n",
    "\n",
    "**(M1)** Denote by $R_{\\text{ASX}}^\\ell$, $R_{\\text{SPX}}^\\ell$, and $R_{\\text{USD}}^\\ell$ denote the one-day log-returns of the ASX 200, the S\\&P500 (AUD price), and the AUD/USD exchange rate, and let $\\mathbf{R}^\\ell = (R_{\\text{ASX}}^\\ell, R_{\\text{SPX}}^\\ell, R_{\\text{USD}}^\\ell)^\\top.$ We assume that $\\mathbf{R}^\\ell$ has a (multivariate) normal distribution with mean $\\mathbb{E}(\\mathbf{R}^\\ell) = \\mathbf{0}$ and covariance matrix $\\Sigma := \\widehat{\\text{Cov}(\\mathbf{R}^\\ell)}$, the covariance matrix estimated from the time series of one-day log-returns.\n",
    "\n",
    "**(M2)** Under the historical probability measure $\\mathbb{P}$, assume that $S_{\\text{ASX}}$, $S_{\\text{SPX}}$, and $S_{\\text{USD}}$ are modelled as geometric Brownian motions\n",
    "\n",
    "\\begin{align*}\n",
    "d S_{\\text{ASX}}(t) & = 0.15 S_{\\text{ASX}}(t) dt + 0.20 S_{\\text{ASX}}(t) dW_1(t)\\\\\n",
    "d S_{\\text{SPX}}(t) & = 0.10 S_{\\text{ASX}}(t) dt + 0.25 S_{\\text{SPX}}(t) dW_2(t)\\\\\n",
    "d S_{\\text{USD}}(t) & = 0.15 S_{\\text{USD}}(t) dW_3(t)\n",
    "\\end{align*}\n",
    "\n",
    "where $W_1$, $W_2$, and $W_3$ are Brownian motions with correlations $\\text{Corr}(dW_1(t),dW_2(t)) = 0.13$, $\\text{Corr}(dW_1(t),dW_3(t)) = 0.24$, and $\\text{Corr}(dW_2(t),dW_3(t)) = -0.10$. The specified dynamics for the stock prices and exchange rate implies that the one-day log-returns are given by\n",
    "\n",
    "\\begin{align*}\n",
    "\\ln\\left(\\frac{S_{\\text{ASX}}(t+\\Delta t)}{S_{\\text{ASX}}(t)}\\right) & = \\left(0.15 - \\frac{1}{2} \\times 0.20^2\\right) \\Delta t + 0.20 \\varepsilon_1 \\sqrt{\\Delta t} \\\\\n",
    "\\ln\\left(\\frac{S_{\\text{SPX}}(t+\\Delta t)}{S_{\\text{SPX}}(t)}\\right) & = \\left(0.10 - \\frac{1}{2} \\times 0.25^2\\right) \\Delta t + 0.25 \\varepsilon_2 \\sqrt{\\Delta t} \\\\\n",
    "\\ln\\left(\\frac{S_{\\text{USD}}(t+\\Delta t)}{S_{\\text{USD}}(t)}\\right) & = - \\frac{1}{2} \\times 0.15^2 \\Delta t + 0.15 \\varepsilon_3 \\sqrt{\\Delta t}\n",
    "\\end{align*}\n",
    "\n",
    "where $\\varepsilon_1,\\varepsilon_2,\\varepsilon_3$ are normal random variables zero mean and variance 1 with the same correlation as the Brownian motions and $\\Delta t$ is the time horizon in years.\n",
    "\n",
    "### (M1) and the Black-Scholes-Merton model\n",
    "\n",
    "For valuation and risk management purposes, assume that the Black-Scholes-Merton pricing equations still hold for the European call and put option in the portfolio and that the inputs for the option pricing formulas are as specified in the Background section.\n",
    "\n",
    "Note that using the given annual volatilities 20\\% and 25\\% is *not compatible* with the BSM model. Consider a European call option on a single asset with price process $S = \\{S(t)\\}_{t\\geq 0}$. Under the BSM model, we assume that $S$ follows a geometric Brownian motion\n",
    "\n",
    "$$dS(t) = \\mu S(t) dt + \\sigma S(t) dW(t),$$\n",
    "\n",
    "where $W$ is a standard Brownian motion. Using the Ito formula, the log-return over the period $[t,t+\\Delta t]$ is given by\n",
    "\n",
    "$$\\ln\\left(\\frac{S(t+\\Delta t)}{S(t)}\\right) = \\left(\\mu - \\frac{1}{2}\\sigma^2\\right)\\Delta t + \\sigma \\sqrt{\\Delta t} Z, \\qquad Z \\sim N(0,1).$$\n",
    "\n",
    "This implies that the mean and variance of the log-return over the period $[t,t+\\Delta t]$ are $(\\mu - \\frac{1}{2}\\sigma^2) \\Delta t$ and $\\sigma^2 \\Delta t$, respectively.\n",
    "\n",
    "Consider a univariate version of (M1), where we assume that the **one-day** log-return has zero mean and variance $\\xi^2$ (i.e. $\\xi$ is the standard deviation of the one-day log-returns). This implies that $\\Delta t = \\frac{1}{250}$ or $\\frac{1}{252}$, $\\sigma = \\frac{\\xi}{\\sqrt{\\Delta t}}$, and $\\mu = \\frac{1}{2}\\sigma^2 = \\frac{\\xi^2}{2\\Delta t}$. The last two equations are the result of matching the moments (mean and variance) of the theoretical and empirical distribution of the log-returns. **Therefore, for the assumption $R^\\ell \\sim N(0,\\xi^2)$ to be consistent with the BSM call and put option pricing formulas, we need to use $\\sigma = \\frac{\\xi}{\\sqrt{\\Delta t}}$ in the call and put option pricing formulas.** \n",
    "\n",
    "As we have seen in previous workshops, using the empirically estimated volatility results to a very low or zero option price due to the other features of the option contract. For the sake of discussion in this Workshop, we will still use the given annual volatilities for computing the option price alongside the assumption that the log-returns have the specified distribution.\n",
    "\n",
    "**NOTE: (Assessment Task 2 Hint)** (M1) is the required modelling assumption for the Monte Carlo simulation component of Task 2 of the Assignment. In contrast to this Workshop exercise, you need to use the estimated annual volatility for the option price calculation, thus making the distributional assumption on the log-returns consistent with the BSM model/pricing formula.\n",
    "\n",
    "### (M2) and the Black-Scholes-Merton model \n",
    "\n",
    "While the drift coefficients 0.15 and 0.10 (i.e. the expected returns) for the ASX and SPX price processes are arbitrarily set, the diffusion coefficients 0.20 and 0.25 are not; in fact, they are the annual volatility associated to these price processes and are thus the inputs to the call and put option pricing formulas.\n",
    "\n",
    "Observe also that (M2) is completely unrelated to the historical data that is provided with the workshop exercise. In fact, the only data required when using (M2) is the current price of the underlying assets for the purposes of calculating the marked-to-market value of the instruments in the portfolio.\n"
   ]
  },
  {
   "cell_type": "markdown",
   "id": "510a94d0",
   "metadata": {},
   "source": [
    "# Preparation\n",
    "\n",
    "## Utilities: European Option Pricing Functions\n",
    "\n",
    "We load the required libraries and recall the functions we have written to price European options and to calculate their delta and gamma under the Black-Scholes-Merton model."
   ]
  },
  {
   "cell_type": "code",
   "execution_count": 1,
   "id": "9b9083ab",
   "metadata": {},
   "outputs": [],
   "source": [
    "# Required libraries\n",
    "import numpy as np\n",
    "import scipy as sp\n",
    "import scipy.stats\n",
    "import pandas as pd\n",
    "import math\n",
    "import matplotlib.pyplot as plt\n",
    "import seaborn as sns\n",
    "\n",
    "from datetime import datetime\n",
    "from datetime import timedelta\n",
    "from matplotlib import colors\n",
    "from matplotlib.ticker import PercentFormatter"
   ]
  },
  {
   "cell_type": "code",
   "execution_count": 2,
   "id": "5341bc37",
   "metadata": {},
   "outputs": [],
   "source": [
    "# Pricing function for European calls and puts\n",
    "def BSprice(spot_price, strike_price, time_to_maturity, risk_free_rate, dividend_yield, volatility, option_type):\n",
    "    \n",
    "    # Use mathematical notation for function inputs\n",
    "    s = spot_price\n",
    "    K = strike_price\n",
    "    tau = time_to_maturity # (T-t) in notes\n",
    "    r = risk_free_rate\n",
    "    q = dividend_yield\n",
    "    sigma = volatility\n",
    "    \n",
    "    # Calculate d1 and d2\n",
    "    d1 = (np.log(s / K) + (r - q + 0.5 * sigma ** 2) * tau) / (sigma * np.sqrt(tau))\n",
    "    d2 = d1 - sigma * np.sqrt(tau)\n",
    "    \n",
    "    # Calculate option prices\n",
    "    if option_type == 'call':\n",
    "        price = (np.exp(-q * tau) * s * sp.stats.norm.cdf(d1, 0.0, 1.0) \\\n",
    "                 - np.exp(-r * tau) * K * sp.stats.norm.cdf(d2, 0.0, 1.0))\n",
    "        \n",
    "    if option_type == 'put':\n",
    "        price = (np.exp(-r * tau) * K * sp.stats.norm.cdf(-d2, 0.0, 1.0) \\\n",
    "                 - np.exp(-q * tau) * s * sp.stats.norm.cdf(-d1, 0.0, 1.0))\n",
    "        \n",
    "    return price"
   ]
  },
  {
   "cell_type": "code",
   "execution_count": 3,
   "id": "99687570",
   "metadata": {},
   "outputs": [],
   "source": [
    "# Function to calculate option delta under the Black-Scholes-Merton model\n",
    "def BSdelta(spot_price, strike_price, time_to_maturity, risk_free_rate, dividend_yield, volatility, option_type):\n",
    "    \n",
    "    # Use mathematical notation for function inputs\n",
    "    s = spot_price\n",
    "    K = strike_price\n",
    "    tau = time_to_maturity # (T-t) in notes\n",
    "    r = risk_free_rate\n",
    "    q = dividend_yield\n",
    "    sigma = volatility\n",
    "    \n",
    "    # Calculate d1 and d2\n",
    "    d1 = (np.log(s / K) + (r - q + 0.5 * sigma ** 2) * tau) / (sigma * np.sqrt(tau))\n",
    "    \n",
    "    # Calculate option delta\n",
    "    if option_type == 'call':\n",
    "        value = sp.stats.norm.cdf(d1, 0.0, 1.0)\n",
    "    \n",
    "    if option_type == 'put':\n",
    "        value = sp.stats.norm.cdf(d1, 0.0, 1.0) - 1\n",
    "    \n",
    "    return value    "
   ]
  },
  {
   "cell_type": "code",
   "execution_count": 4,
   "id": "2af156e8",
   "metadata": {},
   "outputs": [],
   "source": [
    "# Function to calculate option gamma under the Black-Scholes-Merton model\n",
    "def BSgamma(spot_price, strike_price, time_to_maturity, risk_free_rate, dividend_yield, volatility):\n",
    "    \n",
    "    # Use mathematical notation for function inputs\n",
    "    s = spot_price\n",
    "    K = strike_price\n",
    "    tau = time_to_maturity # (T-t) in notes\n",
    "    r = risk_free_rate\n",
    "    q = dividend_yield\n",
    "    sigma = volatility\n",
    "    \n",
    "    # Compute option gamma (same for calls and puts)\n",
    "    d1 = (np.log(s / K) + (r - q + 0.5 * sigma ** 2) * tau) / (sigma * np.sqrt(tau))\n",
    "    value = sp.stats.norm.pdf(d1, 0.0, 1.0) / (s * sigma * np.sqrt(tau))\n",
    "    \n",
    "    return value"
   ]
  },
  {
   "cell_type": "markdown",
   "id": "7d504cb4",
   "metadata": {},
   "source": [
    "## Data Pre-processing\n",
    "\n",
    "We load the given historical data in `WorkshopWeek7Data.csv`, express the exchange rates as XX AUD per USD, and compute the Australian dollar price of the S\\&P 500."
   ]
  },
  {
   "cell_type": "code",
   "execution_count": 5,
   "id": "c88e8ea7",
   "metadata": {},
   "outputs": [],
   "source": [
    "# Load data\n",
    "fin_data = pd.read_csv('C:/WorkshopWeek7Data.csv', index_col = 0)\n",
    "\n",
    "# Write exchange rates as XX AUD per USD\n",
    "fin_data['FXrate'] = 1 / fin_data['USDperAUD']\n",
    "\n",
    "# Convert the S&P 500 price to Australian dollars\n",
    "fin_data['SPXComp'] = fin_data['SPXCompUS'] * fin_data['FXrate']\n",
    "\n",
    "# Extract market data on the valuation date\n",
    "fin_data_today = fin_data.loc['2021-12-21']\n",
    "\n",
    "# Compute the log-returns of all market variables\n",
    "fin_data_logret = np.log(fin_data).diff().tail(-1)"
   ]
  },
  {
   "cell_type": "markdown",
   "id": "ee761961",
   "metadata": {},
   "source": [
    "# Mark-to-Market Valuation\n",
    "\n",
    "## European Options"
   ]
  },
  {
   "cell_type": "code",
   "execution_count": 6,
   "id": "3bb6165a",
   "metadata": {},
   "outputs": [],
   "source": [
    "# Given option parameters\n",
    "strike_ASX = 6400\n",
    "strike_SPX = 2980\n",
    "r_ASX = 0.03\n",
    "r_SPX = 0.035\n",
    "vol_ASX = 0.20\n",
    "vol_SPX = 0.25\n",
    "N_op_ASX = 10000\n",
    "N_op_SPX = 20000\n",
    "\n",
    "\n",
    "# Compute time to maturity\n",
    "date_today = datetime(2021, 12, 21)\n",
    "expdate_ASX = datetime(2022, 11, 26)\n",
    "expdate_SPX = datetime(2022, 12, 23)\n",
    "\n",
    "mat_ASX = (expdate_ASX - date_today).days / 360\n",
    "mat_SPX = (expdate_SPX - date_today).days / 360\n",
    "\n",
    "# # Compute the annual volatilities in the underlying asset prices\n",
    "# vol_ASX = np.sqrt(fin_data_logret_cov.loc['ASX200', 'ASX200'] / 252)\n",
    "# vol_SPX = np.sqrt(fin_data_logret_cov.loc['SPXComp', 'SPXComp'] / 252)"
   ]
  },
  {
   "cell_type": "markdown",
   "id": "34fb6450",
   "metadata": {},
   "source": [
    "We are now ready to calculate the option price, delta, and gamma. Note that the quantities below are *per unit* of the option. It is only when we calculate the value of the position that we multiply the option prices by the number of units."
   ]
  },
  {
   "cell_type": "code",
   "execution_count": 7,
   "id": "d39f0d95",
   "metadata": {},
   "outputs": [],
   "source": [
    "# Option prices\n",
    "price_ASX = BSprice(fin_data_today['ASX200'], strike_ASX, mat_ASX, r_ASX, 0, vol_ASX, 'call')\n",
    "price_SPX = BSprice(fin_data_today['SPXComp'], strike_SPX, mat_SPX, r_SPX, 0, vol_SPX, 'put')\n",
    "\n",
    "# Option deltas\n",
    "delta_ASX = BSdelta(fin_data_today['ASX200'], strike_ASX, mat_ASX, r_ASX, 0, vol_ASX, 'call')\n",
    "delta_SPX = BSdelta(fin_data_today['SPXComp'], strike_SPX, mat_SPX, r_SPX, 0, vol_SPX, 'put')\n",
    "\n",
    "# Option gammas\n",
    "gamma_ASX = BSgamma(fin_data_today['ASX200'], strike_ASX, mat_ASX, r_ASX, 0, vol_ASX)\n",
    "gamma_SPX = BSgamma(fin_data_today['SPXComp'], strike_SPX, mat_SPX, r_SPX, 0, vol_SPX)\n",
    "\n",
    "# Position values\n",
    "V_op_ASX = N_op_ASX * price_ASX\n",
    "V_op_SPX = N_op_SPX * price_SPX"
   ]
  },
  {
   "cell_type": "markdown",
   "id": "e738dfd6",
   "metadata": {},
   "source": [
    "## Physical Assets\n",
    "\n",
    "The mark-to-market valuation of the physical assets is straightforward, as shown below."
   ]
  },
  {
   "cell_type": "code",
   "execution_count": 8,
   "id": "005a72cd",
   "metadata": {},
   "outputs": [],
   "source": [
    "# Number of units (negative for short position)\n",
    "N_ASX = -1000\n",
    "N_SPX = 2000\n",
    "N_USD = 4000000\n",
    "\n",
    "# Valuation\n",
    "V_ASX = N_ASX * fin_data_today['ASX200']\n",
    "V_SPX = N_SPX * fin_data_today['SPXComp']\n",
    "V_USD = N_USD * fin_data_today['FXrate']"
   ]
  },
  {
   "cell_type": "markdown",
   "id": "21f35ca0",
   "metadata": {},
   "source": [
    "## Total Portfolio Value"
   ]
  },
  {
   "cell_type": "code",
   "execution_count": 9,
   "id": "0f180365",
   "metadata": {},
   "outputs": [],
   "source": [
    "# Total marked-to-market value of the portfolio\n",
    "V_portfolio = V_ASX + V_SPX + V_USD + V_op_ASX + V_op_SPX"
   ]
  },
  {
   "cell_type": "markdown",
   "id": "227efb84",
   "metadata": {},
   "source": [
    "# (M1) Simulation of Risk Factors\n",
    "\n",
    "Hypothetical values of the risk factors at the end of the VaR time horizon (i.e. at the end of one trading day) are generated by simulating values from the assumed distribution of log-returns in model (M1)."
   ]
  },
  {
   "cell_type": "code",
   "execution_count": 10,
   "id": "8ae3bb49",
   "metadata": {},
   "outputs": [
    {
     "data": {
      "text/html": [
       "<div>\n",
       "<style scoped>\n",
       "    .dataframe tbody tr th:only-of-type {\n",
       "        vertical-align: middle;\n",
       "    }\n",
       "\n",
       "    .dataframe tbody tr th {\n",
       "        vertical-align: top;\n",
       "    }\n",
       "\n",
       "    .dataframe thead th {\n",
       "        text-align: right;\n",
       "    }\n",
       "</style>\n",
       "<table border=\"1\" class=\"dataframe\">\n",
       "  <thead>\n",
       "    <tr style=\"text-align: right;\">\n",
       "      <th></th>\n",
       "      <th>ASX200</th>\n",
       "      <th>SPXComp</th>\n",
       "      <th>FXrate</th>\n",
       "    </tr>\n",
       "  </thead>\n",
       "  <tbody>\n",
       "    <tr>\n",
       "      <th>ASX200</th>\n",
       "      <td>0.000075</td>\n",
       "      <td>0.000006</td>\n",
       "      <td>-0.000007</td>\n",
       "    </tr>\n",
       "    <tr>\n",
       "      <th>SPXComp</th>\n",
       "      <td>0.000006</td>\n",
       "      <td>0.000069</td>\n",
       "      <td>0.000026</td>\n",
       "    </tr>\n",
       "    <tr>\n",
       "      <th>FXrate</th>\n",
       "      <td>-0.000007</td>\n",
       "      <td>0.000026</td>\n",
       "      <td>0.000043</td>\n",
       "    </tr>\n",
       "  </tbody>\n",
       "</table>\n",
       "</div>"
      ],
      "text/plain": [
       "           ASX200   SPXComp    FXrate\n",
       "ASX200   0.000075  0.000006 -0.000007\n",
       "SPXComp  0.000006  0.000069  0.000026\n",
       "FXrate  -0.000007  0.000026  0.000043"
      ]
     },
     "execution_count": 10,
     "metadata": {},
     "output_type": "execute_result"
    }
   ],
   "source": [
    "# Number of simulations\n",
    "N_sim = 5000\n",
    "\n",
    "# Estimate covariance matrix of log-returns\n",
    "logret_cov_full = fin_data_logret.cov()\n",
    "logret_cov = logret_cov_full.loc[['ASX200', 'SPXComp', 'FXrate'], ['ASX200', 'SPXComp', 'FXrate']]\n",
    "logret_cov"
   ]
  },
  {
   "cell_type": "code",
   "execution_count": 11,
   "id": "94439adf",
   "metadata": {},
   "outputs": [
    {
     "data": {
      "text/plain": [
       "array([[ 7.44075592e-05,  5.46933522e-06, -6.11638299e-06],\n",
       "       [ 5.46933522e-06,  6.96806018e-05,  2.66903548e-05],\n",
       "       [-6.11638299e-06,  2.66903548e-05,  4.19725523e-05]])"
      ]
     },
     "execution_count": 11,
     "metadata": {},
     "output_type": "execute_result"
    }
   ],
   "source": [
    "# Simulated log-returns (Method 1: Using sp.stats.multivariate_normal)\n",
    "sim_logret = sp.stats.multivariate_normal.rvs(cov = logret_cov, size = N_sim, random_state = 1234)\n",
    "\n",
    "# Check covariance matrix of simulated samples\n",
    "np.cov(sim_logret, rowvar = False)"
   ]
  },
  {
   "cell_type": "code",
   "execution_count": 12,
   "id": "254e4642",
   "metadata": {},
   "outputs": [
    {
     "data": {
      "text/plain": [
       "array([[ 7.41000321e-05,  7.65652519e-06, -6.63685411e-06],\n",
       "       [ 7.65652519e-06,  6.88891193e-05,  2.61526404e-05],\n",
       "       [-6.63685411e-06,  2.61526404e-05,  4.26692131e-05]])"
      ]
     },
     "execution_count": 12,
     "metadata": {},
     "output_type": "execute_result"
    }
   ],
   "source": [
    "# Simulated log-returns (Method 2: From independent samples)\n",
    "\n",
    "# Cholesky factor of the covariance matrix (can also use other matrix decompositions)\n",
    "logret_cov_chol = sp.linalg.cholesky(logret_cov, lower = True)\n",
    "\n",
    "# Simulate independent normal random vectors of length 3\n",
    "rand_sample = sp.stats.norm.rvs(size = (3, N_sim), random_state = 1234)\n",
    "\n",
    "# Introduce correlation\n",
    "sim_logret2 = np.dot(logret_cov_chol, rand_sample)\n",
    "sim_logret2 = np.transpose(sim_logret2)   # So that it is N_sim x 3\n",
    "\n",
    "# Check covariance matrix of simulated samples\n",
    "np.cov(sim_logret2, rowvar = False)"
   ]
  },
  {
   "cell_type": "code",
   "execution_count": 15,
   "id": "7f0f9fdc",
   "metadata": {},
   "outputs": [
    {
     "data": {
      "text/plain": [
       "array([[ 4.09142591e-03,  1.17211170e-02,  8.26055769e-03],\n",
       "       [-1.03360742e-02, -6.86089288e-04,  2.82272247e-03],\n",
       "       [ 1.24339779e-02, -5.60674536e-03,  1.85670394e-05],\n",
       "       ...,\n",
       "       [ 1.39624365e-02, -7.56234755e-03, -4.39243069e-03],\n",
       "       [ 1.73163752e-02, -2.70359523e-03, -3.33475299e-03],\n",
       "       [ 2.88732581e-04, -2.09258613e-03,  8.32329604e-03]])"
      ]
     },
     "execution_count": 15,
     "metadata": {},
     "output_type": "execute_result"
    }
   ],
   "source": [
    "sim_logret2"
   ]
  },
  {
   "cell_type": "code",
   "execution_count": 16,
   "id": "df215663",
   "metadata": {},
   "outputs": [
    {
     "data": {
      "text/plain": [
       "Text(0.5, 1.0, 'FX Rate (AUD/USD)')"
      ]
     },
     "execution_count": 16,
     "metadata": {},
     "output_type": "execute_result"
    },
    {
     "data": {
      "image/png": "[encoded data removed]",
      "text/plain": [
       "<Figure size 640x480 with 3 Axes>"
      ]
     },
     "metadata": {},
     "output_type": "display_data"
    }
   ],
   "source": [
    "# Simulate asset prices over the next trading day\n",
    "sim_ASX = fin_data_today['ASX200'] * np.exp(sim_logret[:, 0])\n",
    "sim_SPX = fin_data_today['SPXComp'] * np.exp(sim_logret[:, 1])\n",
    "sim_USD = fin_data_today['FXrate'] * np.exp(sim_logret[:, 2])\n",
    "\n",
    "# Histogram of simulated values\n",
    "N_bins = 50\n",
    "\n",
    "fig, sim_rf = plt.subplots(1, 3, sharey = True, tight_layout = True)\n",
    "\n",
    "sim_rf[0].hist(sim_ASX, bins = N_bins)\n",
    "sim_rf[1].hist(sim_SPX, bins = N_bins)\n",
    "sim_rf[2].hist(sim_USD, bins = N_bins)\n",
    "\n",
    "sim_rf[0].set_title('ASX200')\n",
    "sim_rf[1].set_title('SPXComp (AUD)')\n",
    "sim_rf[2].set_title('FX Rate (AUD/USD)')"
   ]
  },
  {
   "cell_type": "markdown",
   "id": "d1ab2b6c",
   "metadata": {},
   "source": [
    "# (M1) Monte Carlo Simulation: VaR of Portfolio of Physical Assets"
   ]
  },
  {
   "cell_type": "code",
   "execution_count": 17,
   "id": "a2067bfa",
   "metadata": {},
   "outputs": [
    {
     "data": {
      "text/plain": [
       "Text(0.5, 1.0, 'Simulated changes in portfolio value')"
      ]
     },
     "execution_count": 17,
     "metadata": {},
     "output_type": "execute_result"
    },
    {
     "data": {
      "image/png": "[encoded data removed]",
      "text/plain": [
       "<Figure size 640x480 with 1 Axes>"
      ]
     },
     "metadata": {},
     "output_type": "display_data"
    }
   ],
   "source": [
    "# Construct samples for the change in portfolio value\n",
    "sim_V_portfolio = N_ASX * sim_ASX + N_SPX * sim_SPX + N_USD * sim_USD\n",
    "sim_delta_V = sim_V_portfolio - (V_ASX + V_SPX + V_USD)\n",
    "\n",
    "# Visualize hypothetical portfolio values\n",
    "fig, axs = plt.subplots()\n",
    "axs.hist(sim_delta_V, bins = N_bins)\n",
    "axs.set_title('Simulated changes in portfolio value')"
   ]
  },
  {
   "cell_type": "code",
   "execution_count": 18,
   "id": "554a1fb7",
   "metadata": {},
   "outputs": [
    {
     "data": {
      "text/plain": [
       "<matplotlib.lines.Line2D at 0x22ae9fb1490>"
      ]
     },
     "execution_count": 18,
     "metadata": {},
     "output_type": "execute_result"
    },
    {
     "data": {
      "image/png": "[encoded data removed]",
      "text/plain": [
       "<Figure size 640x480 with 1 Axes>"
      ]
     },
     "metadata": {},
     "output_type": "display_data"
    }
   ],
   "source": [
    "# Empirical CDF for physical portfolip P&L\n",
    "sim_delta_V_ecdf = sns.ecdfplot(data = sim_delta_V)\n",
    "\n",
    "# Construct horizontal line showing the 5th percentile (corresponding to the 95% VaR)\n",
    "conf_level = 0.95\n",
    "sim_delta_V_ecdf.axhline(y = 1 - conf_level, xmin = 0, xmax = 1, linestyle = 'dashed', color = 'black')"
   ]
  },
  {
   "cell_type": "code",
   "execution_count": 20,
   "id": "60a3b276",
   "metadata": {},
   "outputs": [
    {
     "data": {
      "text/plain": [
       "158516.43889930286"
      ]
     },
     "execution_count": 20,
     "metadata": {},
     "output_type": "execute_result"
    }
   ],
   "source": [
    "# Calculate the 95% VaR\n",
    "sim_delta_V_sort = sorted(sim_delta_V)\n",
    "physical_asset_VaR = -sim_delta_V_sort[int(N_sim * (1-conf_level))]\n",
    "\n",
    "physical_asset_VaR"
   ]
  },
  {
   "cell_type": "code",
   "execution_count": 21,
   "id": "5d8fe007",
   "metadata": {},
   "outputs": [
    {
     "data": {
      "text/plain": [
       "[-380172.059259356,\n",
       " -317275.8364103576,\n",
       " -311298.70938158035,\n",
       " -304523.80141685717,\n",
       " -290292.99427852593,\n",
       " -286274.3441204764,\n",
       " -285281.6860378422,\n",
       " -282663.6630230723,\n",
       " -279407.0963632781,\n",
       " -277452.9458259726,\n",
       " -276708.07150044106,\n",
       " -274731.6758684069,\n",
       " -269128.2178773647,\n",
       " -267449.05112760514,\n",
       " -266599.006205271,\n",
       " -263719.0942606889,\n",
       " -260964.0099901976,\n",
       " -260120.03687919024,\n",
       " -258271.25289647374,\n",
       " -257981.02317892946,\n",
       " -252499.7795774853,\n",
       " -252105.72700973786,\n",
       " -248800.5760028232,\n",
       " -247783.32697218284,\n",
       " -243103.45235073846,\n",
       " -241445.3007674897,\n",
       " -241153.2421906758,\n",
       " -240829.2576272767,\n",
       " -240542.97866137512,\n",
       " -239968.64359581657,\n",
       " -238750.48436974082,\n",
       " -237722.70319109224,\n",
       " -236625.27474953607,\n",
       " -236500.5727004176,\n",
       " -235234.1361762127,\n",
       " -233987.59491902497,\n",
       " -233980.57796308585,\n",
       " -233688.1345607536,\n",
       " -233093.2554409802,\n",
       " -232165.45561276563,\n",
       " -231804.04022681993,\n",
       " -231139.4957454484,\n",
       " -230909.00402767863,\n",
       " -230838.85063001607,\n",
       " -230830.9265716169,\n",
       " -229915.3331506541,\n",
       " -228177.50567965582,\n",
       " -227434.1401876742,\n",
       " -227348.47101091314,\n",
       " -226801.01691869553,\n",
       " -226384.81402380578,\n",
       " -226065.1412798846,\n",
       " -223290.43678714056,\n",
       " -222950.85928741843,\n",
       " -222760.06514487788,\n",
       " -222698.53599627223,\n",
       " -222639.6855345657,\n",
       " -221753.6977178082,\n",
       " -221745.17292045988,\n",
       " -221434.42836371902,\n",
       " -221127.47307789326,\n",
       " -220282.85139811877,\n",
       " -218970.84132591356,\n",
       " -217265.15343882982,\n",
       " -216681.9919429645,\n",
       " -215638.74439059757,\n",
       " -215560.02544743847,\n",
       " -215538.67136417795,\n",
       " -215339.88441447634,\n",
       " -214721.51935889106,\n",
       " -214085.49911707733,\n",
       " -213490.33345982525,\n",
       " -213423.58982583508,\n",
       " -213418.01856685057,\n",
       " -213416.68705189228,\n",
       " -213244.5857929904,\n",
       " -213196.6433828203,\n",
       " -213032.51304984838,\n",
       " -212133.55380368046,\n",
       " -211151.19731484167,\n",
       " -210774.10299821664,\n",
       " -210282.04285800923,\n",
       " -210245.5891979197,\n",
       " -210244.64150243718,\n",
       " -209655.1045581447,\n",
       " -209131.6984192552,\n",
       " -208776.91456381883,\n",
       " -207265.3287676312,\n",
       " -207132.55789995473,\n",
       " -207030.57137966342,\n",
       " -206374.01686271466,\n",
       " -206241.51365249045,\n",
       " -205926.64384495188,\n",
       " -205675.8825673964,\n",
       " -205021.26393764373,\n",
       " -204444.13268996496,\n",
       " -204081.48707951885,\n",
       " -202614.06960710417,\n",
       " -200837.9966106182,\n",
       " -200695.2075154828,\n",
       " -200643.54220083728,\n",
       " -200410.59712435957,\n",
       " -198488.69953107648,\n",
       " -198265.52267821226,\n",
       " -198209.21302417386,\n",
       " -197283.47654758114,\n",
       " -196596.46112958342,\n",
       " -196234.3245912753,\n",
       " -195885.0526225986,\n",
       " -195823.71814150456,\n",
       " -195725.04159701895,\n",
       " -195705.19280891027,\n",
       " -195631.40898281336,\n",
       " -195459.75670863222,\n",
       " -195211.1710694246,\n",
       " -194964.08723662794,\n",
       " -194914.6899567265,\n",
       " -194600.76417418942,\n",
       " -193134.72857940197,\n",
       " -193089.700643491,\n",
       " -192916.5250218371,\n",
       " -192727.69097794592,\n",
       " -191781.3896483779,\n",
       " -191686.2114724461,\n",
       " -191065.8691782551,\n",
       " -191011.7416736083,\n",
       " -190471.65516556706,\n",
       " -189813.05955128465,\n",
       " -189750.6717091296,\n",
       " -189103.24441902898,\n",
       " -189074.89517245814,\n",
       " -188934.15593978297,\n",
       " -188427.74247478228,\n",
       " -188289.6926891217,\n",
       " -188070.51209822763,\n",
       " -187993.0398520846,\n",
       " -187761.5745026283,\n",
       " -187238.82185234502,\n",
       " -186761.97470174264,\n",
       " -186689.68687580805,\n",
       " -186450.31094425265,\n",
       " -186190.74291760102,\n",
       " -185877.12731910124,\n",
       " -185793.12640504912,\n",
       " -185623.71192313824,\n",
       " -184877.17835131288,\n",
       " -183812.52911185753,\n",
       " -183436.54030015972,\n",
       " -183268.63629511,\n",
       " -183254.23860254325,\n",
       " -183025.17465055734,\n",
       " -182809.05825590342,\n",
       " -182791.7934971517,\n",
       " -182734.8726536343,\n",
       " -182251.26871450804,\n",
       " -181977.63249717373,\n",
       " -181412.72662068252,\n",
       " -181185.34095531143,\n",
       " -181002.56887106784,\n",
       " -180553.60849072225,\n",
       " -180476.5939050531,\n",
       " -180435.77046239935,\n",
       " -180207.0276259007,\n",
       " -179637.51867593545,\n",
       " -179431.41988060903,\n",
       " -179428.64985617343,\n",
       " -179277.76968876924,\n",
       " -179151.0165425446,\n",
       " -178755.79581287783,\n",
       " -178740.8372909315,\n",
       " -178612.04649762437,\n",
       " -178230.90891407058,\n",
       " -178093.70304343756,\n",
       " -177794.125123417,\n",
       " -177663.49576712586,\n",
       " -176741.79040990863,\n",
       " -176275.54999569152,\n",
       " -175913.05716533493,\n",
       " -175774.973665894,\n",
       " -175671.40136548132,\n",
       " -175296.63419118896,\n",
       " -174629.98791589867,\n",
       " -174305.76075372193,\n",
       " -173808.7855204232,\n",
       " -173694.97205905057,\n",
       " -173305.57063176204,\n",
       " -173255.81747738086,\n",
       " -173238.25460003875,\n",
       " -173139.89748619124,\n",
       " -173111.12029605452,\n",
       " -173091.42794920597,\n",
       " -172966.9285590863,\n",
       " -172855.04213350825,\n",
       " -172650.08115158603,\n",
       " -172306.06041328795,\n",
       " -171988.8900507372,\n",
       " -171982.26921074186,\n",
       " -171804.235556148,\n",
       " -171453.9319295641,\n",
       " -171280.55019994825,\n",
       " -171031.75159880146,\n",
       " -171024.61989760213,\n",
       " -170905.2135974774,\n",
       " -170658.302474563,\n",
       " -170560.82302542403,\n",
       " -170142.34444705676,\n",
       " -169881.81980954483,\n",
       " -169644.82617843244,\n",
       " -169560.77459585667,\n",
       " -169164.98158805724,\n",
       " -168728.208806457,\n",
       " -168602.74469158892,\n",
       " -168327.4729147954,\n",
       " -168112.10444357432,\n",
       " -167498.31408384256,\n",
       " -167478.0962033542,\n",
       " -167441.49567972124,\n",
       " -167035.95447724685,\n",
       " -166954.0311951656,\n",
       " -166599.16283875145,\n",
       " -166584.15997504164,\n",
       " -166224.03238316346,\n",
       " -165737.6319648493,\n",
       " -165536.31626742985,\n",
       " -165415.85919819865,\n",
       " -165199.584757464,\n",
       " -165063.31765528675,\n",
       " -165060.45364860632,\n",
       " -165048.68946818914,\n",
       " -164784.04529586714,\n",
       " -164739.09922519326,\n",
       " -163767.32399491314,\n",
       " -163663.58381555695,\n",
       " -163337.85205195565,\n",
       " -163227.09806729387,\n",
       " -163208.5158955492,\n",
       " -162580.8951506419,\n",
       " -162121.44303825125,\n",
       " -161688.27394224796,\n",
       " -160728.12240340095,\n",
       " -160283.60113870166,\n",
       " -159798.30470512994,\n",
       " -159536.83807447087,\n",
       " -159386.99566977378,\n",
       " -159362.9286359502,\n",
       " -159295.24211024493,\n",
       " -159219.57714546006,\n",
       " -159199.67984434217,\n",
       " -158650.07644872088,\n",
       " -158540.2231696751,\n",
       " -158516.43889930286,\n",
       " -158515.9574836772,\n",
       " -158312.4473605128,\n",
       " -158133.31590464525,\n",
       " -158074.04024549853,\n",
       " -157865.29857004806,\n",
       " -157803.54599758517,\n",
       " -157658.0816920977,\n",
       " -157612.69114825036,\n",
       " -157580.9643947212,\n",
       " -157212.5218084827,\n",
       " -157178.6689298693,\n",
       " -156684.8664089907,\n",
       " -156564.02953575738,\n",
       " -156480.7544127321,\n",
       " -156090.94508470036,\n",
       " -156046.5357773872,\n",
       " -155858.92916725017,\n",
       " -155745.81428060774,\n",
       " -155554.50097569358,\n",
       " -155454.7015314838,\n",
       " -155428.2477779081,\n",
       " -155398.77203869727,\n",
       " -155122.66917596012,\n",
       " -154840.90111080743,\n",
       " -154769.5813156115,\n",
       " -154711.3324665511,\n",
       " -154520.17994284537,\n",
       " -154385.58813418262,\n",
       " -154377.89537587762,\n",
       " -154366.72382140718,\n",
       " -154297.38556996174,\n",
       " -154214.7327357689,\n",
       " -153938.7431526482,\n",
       " -153906.51389686856,\n",
       " -153648.50877576694,\n",
       " -153387.8105923012,\n",
       " -153293.31779531203,\n",
       " -152974.6100716293,\n",
       " -152910.5732460739,\n",
       " -152825.37152256444,\n",
       " -152534.0489870347,\n",
       " -152439.1533301482,\n",
       " -152275.2258319324,\n",
       " -151931.72218459938,\n",
       " -151813.97976422682,\n",
       " -151775.73889099993,\n",
       " -151569.91097670235,\n",
       " -151560.0185289597,\n",
       " -151439.1182512585,\n",
       " -151294.7517538108,\n",
       " -151220.29880913068,\n",
       " -151204.20831358805,\n",
       " -151178.55124519859,\n",
       " -150822.60138948355,\n",
       " -150361.11188053433,\n",
       " -150329.70148887765,\n",
       " -150059.81518350355,\n",
       " -149936.79332025256,\n",
       " -149884.60043541994,\n",
       " -149783.7028005831,\n",
       " -149513.79770152923,\n",
       " -148897.20288483892,\n",
       " -148841.6554910224,\n",
       " -148793.76310615055,\n",
       " -148672.76668554917,\n",
       " -148643.78141105548,\n",
       " -148613.11911229696,\n",
       " -148459.51543549262,\n",
       " -148388.15540798474,\n",
       " -148024.87862258125,\n",
       " -148007.26394147705,\n",
       " -147954.0826812135,\n",
       " -147680.98507387936,\n",
       " -147423.6260787556,\n",
       " -147208.50999631267,\n",
       " -147043.80875210278,\n",
       " -146862.59371122997,\n",
       " -146535.81473029032,\n",
       " -146470.68364296388,\n",
       " -146180.8230910292,\n",
       " -146026.32389928307,\n",
       " -145910.51232963894,\n",
       " -145833.66195767839,\n",
       " -145428.5270384038,\n",
       " -145307.1779281916,\n",
       " -145170.3236689819,\n",
       " -145126.70128608774,\n",
       " -144654.1321054967,\n",
       " -144358.61982832756,\n",
       " -144346.4258993892,\n",
       " -144116.28978454694,\n",
       " -144087.67422466632,\n",
       " -144036.4902382018,\n",
       " -143813.42361968663,\n",
       " -143633.1622520024,\n",
       " -143627.2046841262,\n",
       " -143503.65820265468,\n",
       " -143414.7255500406,\n",
       " -143099.7471014522,\n",
       " -142781.7587972656,\n",
       " -142666.49206698034,\n",
       " -142469.73066382296,\n",
       " -142362.61867351364,\n",
       " -142286.13012118358,\n",
       " -142215.69557004888,\n",
       " -142204.46196073946,\n",
       " -142051.11651723366,\n",
       " -141667.43460941408,\n",
       " -141448.56683941744,\n",
       " -141210.57513115648,\n",
       " -141018.62727462687,\n",
       " -140853.7142357733,\n",
       " -140841.31615901086,\n",
       " -140618.1158918487,\n",
       " -140580.8625463331,\n",
       " -140562.8803076446,\n",
       " -140532.8914274946,\n",
       " -140487.89127056673,\n",
       " -140419.1660691714,\n",
       " -140398.94140176475,\n",
       " -140241.4314834932,\n",
       " -140115.72384529747,\n",
       " -140019.7104659509,\n",
       " -139921.8518531993,\n",
       " -139919.9926610049,\n",
       " -139854.53228806052,\n",
       " -139756.99001851026,\n",
       " -139742.19099370856,\n",
       " -139616.43707354087,\n",
       " -139439.99864856526,\n",
       " -139360.8918727152,\n",
       " -139063.37724354304,\n",
       " -139023.83692914993,\n",
       " -138994.2540545147,\n",
       " -138760.3012367608,\n",
       " -138726.92020307668,\n",
       " -138620.7689915225,\n",
       " -138226.24150099792,\n",
       " -138081.6421988355,\n",
       " -138008.34227584302,\n",
       " -137749.7778776465,\n",
       " -137706.29630432092,\n",
       " -137705.54617671203,\n",
       " -137380.78474376723,\n",
       " -137199.1261919299,\n",
       " -137134.57893297542,\n",
       " -137029.07570822164,\n",
       " -137017.5625619134,\n",
       " -136782.66981930193,\n",
       " -136489.57327600848,\n",
       " -136227.30668538902,\n",
       " -135909.23605517112,\n",
       " -135768.54145494848,\n",
       " -135646.94891574234,\n",
       " -135613.8806916494,\n",
       " -135519.0906917192,\n",
       " -135320.35066014063,\n",
       " -135209.90911193937,\n",
       " -135037.74704069085,\n",
       " -134876.8691137191,\n",
       " -134830.86098391935,\n",
       " -134818.98413207568,\n",
       " -134795.02111754753,\n",
       " -134713.00578211714,\n",
       " -134607.97552165668,\n",
       " -134577.05019347835,\n",
       " -134469.2577482676,\n",
       " -134164.28657459468,\n",
       " -134042.19773140084,\n",
       " -133998.09511590097,\n",
       " -133867.65142846666,\n",
       " -133621.72842584644,\n",
       " -133486.35598993488,\n",
       " -133422.74089891743,\n",
       " -133333.65447709057,\n",
       " -133311.81318961736,\n",
       " -133071.14094839152,\n",
       " -133035.79812043346,\n",
       " -132458.27449064516,\n",
       " -132446.69807582907,\n",
       " -132379.71582036745,\n",
       " -132342.88711076416,\n",
       " -132186.64165813848,\n",
       " -132065.8601300968,\n",
       " -131915.18054588884,\n",
       " -131764.410062138,\n",
       " -131747.4229479134,\n",
       " -131739.3036595499,\n",
       " -131731.62899082992,\n",
       " -131731.04754031915,\n",
       " -131726.60198970325,\n",
       " -131707.5160832107,\n",
       " -131665.8885652544,\n",
       " -131648.9735589372,\n",
       " -131532.4258835325,\n",
       " -131457.34188019857,\n",
       " -131076.7171846358,\n",
       " -130990.13617764134,\n",
       " -130808.60797217581,\n",
       " -130715.49258613214,\n",
       " -130306.6059364751,\n",
       " -130298.82209305838,\n",
       " -130264.90018506534,\n",
       " -130078.91028255038,\n",
       " -129992.97391129564,\n",
       " -129637.11787694413,\n",
       " -129294.08311004285,\n",
       " -129254.67715733778,\n",
       " -129162.27773300838,\n",
       " -129071.43116101716,\n",
       " -128975.31363095343,\n",
       " -128851.80934740696,\n",
       " -128815.2257923279,\n",
       " -128796.69001774583,\n",
       " -128730.76064159907,\n",
       " -128704.86461431812,\n",
       " -128594.96873949282,\n",
       " -128540.46772501152,\n",
       " -128472.07116939127,\n",
       " -128452.8968853904,\n",
       " -128287.84775156993,\n",
       " -128178.52892015036,\n",
       " -128015.07196988072,\n",
       " -127749.8158565592,\n",
       " -127723.60444075521,\n",
       " -127524.891341988,\n",
       " -127461.77297146898,\n",
       " -127283.67871898413,\n",
       " -127162.48359507229,\n",
       " -127032.60991157778,\n",
       " -126866.56182632502,\n",
       " -126845.58414350357,\n",
       " -126796.45389847737,\n",
       " -126637.135254642,\n",
       " -126551.2459333837,\n",
       " -126435.16748107783,\n",
       " -126407.55012427364,\n",
       " -126376.98522613663,\n",
       " -126297.79820023384,\n",
       " -126287.81422890164,\n",
       " -126071.98648610059,\n",
       " -126058.75452977885,\n",
       " -126006.80691274721,\n",
       " -125886.81871396583,\n",
       " -125421.36538786441,\n",
       " -125401.43043898698,\n",
       " -125342.29865480773,\n",
       " -125312.32329536788,\n",
       " -125282.93386212643,\n",
       " -125027.42848978378,\n",
       " -124978.24097886309,\n",
       " -124952.76791649126,\n",
       " -124856.44552572444,\n",
       " -124696.65785513446,\n",
       " -124656.61309592705,\n",
       " -124523.07986155339,\n",
       " -124221.54794381838,\n",
       " -124098.33970296849,\n",
       " -123644.77851711866,\n",
       " -123427.19473927282,\n",
       " -123396.73578930832,\n",
       " -123368.88514408842,\n",
       " -123341.4642486563,\n",
       " -122789.51582495682,\n",
       " -122734.56287629995,\n",
       " -122654.39893699996,\n",
       " -122586.13954991568,\n",
       " -122243.30224746652,\n",
       " -122197.47260897327,\n",
       " -122170.8787462376,\n",
       " -122012.3530020183,\n",
       " -121947.05531908851,\n",
       " -121840.55930770375,\n",
       " -121808.21713285428,\n",
       " -121617.38707848266,\n",
       " -121255.66524603032,\n",
       " -121215.07515374478,\n",
       " -121198.60564643517,\n",
       " -121111.91736029182,\n",
       " -120984.76566263009,\n",
       " -120933.06297824532,\n",
       " -120875.47181000467,\n",
       " -120839.72491611727,\n",
       " -120823.56217386015,\n",
       " -120818.03961998038,\n",
       " -120704.95114078186,\n",
       " -120685.64811790083,\n",
       " -120541.7269887086,\n",
       " -120459.08767495304,\n",
       " -120337.81619120575,\n",
       " -120254.85850465856,\n",
       " -120231.6169565199,\n",
       " -120167.90698915254,\n",
       " -120134.27195565123,\n",
       " -120097.78053782787,\n",
       " -120007.90023394767,\n",
       " -119968.75525028631,\n",
       " -119926.08855564333,\n",
       " -119843.31146446988,\n",
       " -119724.3143265536,\n",
       " -119274.43642472476,\n",
       " -119131.5430529723,\n",
       " -119086.66178100742,\n",
       " -119065.06813254207,\n",
       " -118817.14156886749,\n",
       " -118783.55646885745,\n",
       " -118768.61553937756,\n",
       " -118750.77566447295,\n",
       " -118666.07393169217,\n",
       " -118551.81296961103,\n",
       " -118476.70862879604,\n",
       " -118460.63131892029,\n",
       " -118250.46842741128,\n",
       " -118161.50393472426,\n",
       " -118133.41727516148,\n",
       " -118130.50431331154,\n",
       " -117927.55309386458,\n",
       " -117848.17894642241,\n",
       " -117834.9139339095,\n",
       " -117683.35943224281,\n",
       " -117655.16671356186,\n",
       " -117592.87809926365,\n",
       " -117365.83508207463,\n",
       " -117239.32026705891,\n",
       " -117204.53588121943,\n",
       " -117133.70369856525,\n",
       " -117087.06984772533,\n",
       " -117083.67995763943,\n",
       " -117039.56866232771,\n",
       " -116974.32281199377,\n",
       " -116746.14991647005,\n",
       " -116671.28406610433,\n",
       " -116615.49921214674,\n",
       " -116576.23338854127,\n",
       " -116435.60561213829,\n",
       " -116428.24648082163,\n",
       " -116394.55246503651,\n",
       " -116280.28922526911,\n",
       " -116154.09580083843,\n",
       " -116150.22504136898,\n",
       " -116116.89191547036,\n",
       " -115910.2802703213,\n",
       " -115906.54914608318,\n",
       " -115573.58188399859,\n",
       " -115523.77640309464,\n",
       " -115392.12785450742,\n",
       " -115336.16927245073,\n",
       " -115226.24312010407,\n",
       " -115203.82439081557,\n",
       " -115183.85354998894,\n",
       " -115055.77791705541,\n",
       " -114779.33880971093,\n",
       " -114654.96029405482,\n",
       " -114533.50619545579,\n",
       " -114509.38120416831,\n",
       " -114494.61364382599,\n",
       " -114375.83453441784,\n",
       " -114170.56369320583,\n",
       " -113941.3083413858,\n",
       " -113735.9745624736,\n",
       " -113710.58414094336,\n",
       " -113674.27982653491,\n",
       " -113525.56574628036,\n",
       " -113345.86156237125,\n",
       " -113291.11716620345,\n",
       " -113218.03489799052,\n",
       " -113150.2626323523,\n",
       " -113010.4982175827,\n",
       " -112929.58167987317,\n",
       " -112914.77361918613,\n",
       " -112870.9096417632,\n",
       " -112744.42316041235,\n",
       " -112541.51277069002,\n",
       " -112519.44723715167,\n",
       " -112511.5586027354,\n",
       " -112242.23617218249,\n",
       " -112214.01540322695,\n",
       " -111945.3324276153,\n",
       " -111720.90994315874,\n",
       " -111655.00706093945,\n",
       " -111565.25071642268,\n",
       " -111256.9529208215,\n",
       " -111237.41324782651,\n",
       " -111075.47782830521,\n",
       " -111058.78675182164,\n",
       " -111047.99028695468,\n",
       " -111037.74658928625,\n",
       " -111001.25147857424,\n",
       " -110951.61333137285,\n",
       " -110937.27929306775,\n",
       " -110929.09484697413,\n",
       " -110813.570943892,\n",
       " -110709.33021265455,\n",
       " -110662.58813426364,\n",
       " -110640.55065173004,\n",
       " -110347.99688388035,\n",
       " -110240.94858175144,\n",
       " -109988.13666274492,\n",
       " -109950.0130050024,\n",
       " -109942.74668955617,\n",
       " -109901.0525729116,\n",
       " -109876.2141319504,\n",
       " -109724.93983702175,\n",
       " -109572.2623282019,\n",
       " -109400.80182325002,\n",
       " -109289.6943109855,\n",
       " -109272.48356198147,\n",
       " -109219.33568558376,\n",
       " -109108.4315034505,\n",
       " -109096.73653837759,\n",
       " -109016.87243319675,\n",
       " -108999.26790002268,\n",
       " -108967.06882192474,\n",
       " -108878.57831280027,\n",
       " -108874.59960063454,\n",
       " -108786.34842165001,\n",
       " -108756.37076529022,\n",
       " -108731.25051681604,\n",
       " -108609.12990834378,\n",
       " -108582.97489596996,\n",
       " -108426.26987620909,\n",
       " -108351.19204043038,\n",
       " -108308.3561624093,\n",
       " -108200.64346700255,\n",
       " -108116.21690962557,\n",
       " -108069.27357071452,\n",
       " -107766.31838734169,\n",
       " -107701.26609844714,\n",
       " -107618.84436284099,\n",
       " -107567.22804008424,\n",
       " -107466.02557667159,\n",
       " -107329.19385749102,\n",
       " -107048.30105729494,\n",
       " -106996.40834124759,\n",
       " -106708.44302320946,\n",
       " -106707.99692385457,\n",
       " -106570.31188256294,\n",
       " -106465.6600646982,\n",
       " -106386.63375981059,\n",
       " -106385.9368772097,\n",
       " -106294.87548337225,\n",
       " -106246.84389428608,\n",
       " -106227.93094944861,\n",
       " -105975.39223451074,\n",
       " -105971.74385086168,\n",
       " -105842.40466239676,\n",
       " -105836.1981706731,\n",
       " -105814.39525696356,\n",
       " -105777.74716905039,\n",
       " -105301.05799379759,\n",
       " -105241.68453655392,\n",
       " -105142.72113094106,\n",
       " -105092.26239400543,\n",
       " -104949.15120526869,\n",
       " -104809.24313817732,\n",
       " -104792.90435581375,\n",
       " -104390.1265362557,\n",
       " -104330.06900198106,\n",
       " -104307.86965715699,\n",
       " -104155.62408365216,\n",
       " -104103.54322240409,\n",
       " -104082.50447816588,\n",
       " -104036.95952760428,\n",
       " -103991.53799723554,\n",
       " -103777.24543475267,\n",
       " -103736.02228499204,\n",
       " -103652.48369237408,\n",
       " -103630.43404772505,\n",
       " -103600.69692783523,\n",
       " -103428.53157654684,\n",
       " -103398.17189829983,\n",
       " -103367.19819893315,\n",
       " -103324.24891137518,\n",
       " -103154.03699814156,\n",
       " -103136.95540236775,\n",
       " -103061.64841662254,\n",
       " -103036.55177977774,\n",
       " -102949.44071923941,\n",
       " -102822.16737014893,\n",
       " -102746.92365892697,\n",
       " -102732.9260677509,\n",
       " -102687.90026338678,\n",
       " -102528.47856874485,\n",
       " -102506.54322101921,\n",
       " -102361.54944481887,\n",
       " -102355.6943211751,\n",
       " -102342.32589536812,\n",
       " -102233.17409728188,\n",
       " -102153.646942541,\n",
       " -101919.43941902649,\n",
       " -101824.47165131476,\n",
       " -101655.02529977635,\n",
       " -101641.60250319261,\n",
       " -101314.11527628638,\n",
       " -101274.18580618314,\n",
       " -101050.13862065878,\n",
       " -100835.07120418455,\n",
       " -100480.79533266462,\n",
       " -100480.66408983804,\n",
       " -100472.1180720171,\n",
       " -100433.24247388169,\n",
       " -100356.72467070725,\n",
       " -100336.1462472789,\n",
       " -100203.69028446544,\n",
       " -100194.84560306184,\n",
       " -100155.34264162183,\n",
       " -100075.26084856223,\n",
       " -99995.22604987677,\n",
       " -99970.0027421657,\n",
       " -99889.95771128964,\n",
       " -99782.56737663038,\n",
       " -99752.38907041866,\n",
       " -99731.75749772973,\n",
       " -99725.30699861795,\n",
       " -99153.86481584143,\n",
       " -99127.63638130296,\n",
       " -99005.0395892635,\n",
       " -98802.39504510537,\n",
       " -98698.52787164971,\n",
       " -98561.36580440216,\n",
       " -98317.63378388807,\n",
       " -98251.869629303,\n",
       " -98112.62430042401,\n",
       " -98055.4180777464,\n",
       " -97884.62828728743,\n",
       " -97777.00576822925,\n",
       " -97741.00145284552,\n",
       " -97622.98739622533,\n",
       " -97568.70226642303,\n",
       " -97485.06623707432,\n",
       " -97482.21734806802,\n",
       " -97381.06041179504,\n",
       " -97342.00395340007,\n",
       " -97334.66530075856,\n",
       " -97298.19161816966,\n",
       " -97266.5621772036,\n",
       " -97066.88066576142,\n",
       " -97040.2440209696,\n",
       " -96889.54194824304,\n",
       " -96618.7855475694,\n",
       " -96574.31585365161,\n",
       " -96450.7214333294,\n",
       " -96372.61460460722,\n",
       " -96356.70875637606,\n",
       " -96350.8270058576,\n",
       " -96191.69947174657,\n",
       " -96158.34474250115,\n",
       " -96134.2304425994,\n",
       " -96127.41296684276,\n",
       " -96058.19973924849,\n",
       " -96003.85628530942,\n",
       " -95619.42495840695,\n",
       " -95588.8285085475,\n",
       " -95551.77767278161,\n",
       " -95504.53546790779,\n",
       " -95486.35643282626,\n",
       " -95479.3624244621,\n",
       " -95446.2698509749,\n",
       " -95307.08153138775,\n",
       " -95224.38300959859,\n",
       " -95105.41890274733,\n",
       " -94830.58570074104,\n",
       " -94784.07628012169,\n",
       " -94646.27418183349,\n",
       " -94642.78405378666,\n",
       " -94573.87593319919,\n",
       " -94412.43728490267,\n",
       " -94396.1453860905,\n",
       " -94284.65465465188,\n",
       " -94182.36062777415,\n",
       " -94157.63271465153,\n",
       " -94110.50204171427,\n",
       " -94085.34749745764,\n",
       " -94035.78496620711,\n",
       " -94034.45665785577,\n",
       " -93497.57271975931,\n",
       " -93476.46621956863,\n",
       " -93385.80745056458,\n",
       " -93239.66901993565,\n",
       " -93196.41939998325,\n",
       " -93187.83143258933,\n",
       " -93099.90609810315,\n",
       " -92970.07389398105,\n",
       " -92927.92614916246,\n",
       " -92877.1580182761,\n",
       " -92873.11327314097,\n",
       " -92740.07238576096,\n",
       " -92717.94877019618,\n",
       " -92708.36980445404,\n",
       " -92644.02080353163,\n",
       " -92425.60467340425,\n",
       " -92412.48714930471,\n",
       " -92359.44552873727,\n",
       " -92343.70336620416,\n",
       " -92215.08762439433,\n",
       " -92130.59193327557,\n",
       " -92111.93964433018,\n",
       " -92073.77144848648,\n",
       " -92031.97529288474,\n",
       " -91934.7158748256,\n",
       " -91905.08107592165,\n",
       " -91888.85590311792,\n",
       " -91885.81710173842,\n",
       " -91879.58009118214,\n",
       " -91865.37645828258,\n",
       " -91769.4060575217,\n",
       " -91667.70341511816,\n",
       " -91627.91544062551,\n",
       " -91587.72324351035,\n",
       " -91512.01924731862,\n",
       " -91441.5670893332,\n",
       " -91406.01290209964,\n",
       " -91347.4066915987,\n",
       " -91122.52329326887,\n",
       " -90977.08052222524,\n",
       " -90918.16006010398,\n",
       " -90723.98920196388,\n",
       " -90478.8332347665,\n",
       " -90426.23450311366,\n",
       " -90411.30148491263,\n",
       " -90280.63512185682,\n",
       " -90257.69757005759,\n",
       " -90204.2711378308,\n",
       " -90197.04428361543,\n",
       " -90167.27172257286,\n",
       " -90131.2857401073,\n",
       " -89842.3847316876,\n",
       " -89530.47073854413,\n",
       " -89426.21030160598,\n",
       " -89410.82520069182,\n",
       " -89397.6226833053,\n",
       " -89285.73045011982,\n",
       " -89283.38471478596,\n",
       " -89154.20826376788,\n",
       " -88766.58605743758,\n",
       " -88533.39758392144,\n",
       " -88485.49091468286,\n",
       " -88410.8224990759,\n",
       " -88377.2058524089,\n",
       " -88273.10363610182,\n",
       " -88184.26299574878,\n",
       " -88174.70397096686,\n",
       " -88138.12163630407,\n",
       " -88112.51696862001,\n",
       " -88050.3847359987,\n",
       " -88034.65772551205,\n",
       " -87930.87117495015,\n",
       " -87925.91605459992,\n",
       " -87836.56995201018,\n",
       " -87807.58914779779,\n",
       " -87756.11118851695,\n",
       " -87740.44142043684,\n",
       " -87550.79339258559,\n",
       " -87493.84249644075,\n",
       " -87433.33557338081,\n",
       " -87410.44603981916,\n",
       " -87406.11563478969,\n",
       " -87379.35931773577,\n",
       " -87179.59912244324,\n",
       " -87178.38128195517,\n",
       " -87066.07599626668,\n",
       " -87034.82874914818,\n",
       " -87027.91352774948,\n",
       " -87017.08570242114,\n",
       " -87000.1919039879,\n",
       " -86953.84643503837,\n",
       " -86931.49045791011,\n",
       " -86838.71910663322,\n",
       " -86751.20604301523,\n",
       " -86749.45748591144,\n",
       " -86642.1079846602,\n",
       " -86422.43150268774,\n",
       " -86390.51731922291,\n",
       " -86364.08485112898,\n",
       " -86330.57414040994,\n",
       " -86303.49166648835,\n",
       " -86183.46147756558,\n",
       " -86073.3031831393,\n",
       " -86041.21594352461,\n",
       " -85958.12789492868,\n",
       " -85945.94153170474,\n",
       " -85845.8973877551,\n",
       " -85520.98921008408,\n",
       " -85412.06229105592,\n",
       " -85389.24548871163,\n",
       " -85322.24290265795,\n",
       " -85321.10151948221,\n",
       " -85154.1451727543,\n",
       " -85152.37905683368,\n",
       " -85130.425883675,\n",
       " -84997.31983166095,\n",
       " -84901.77040183358,\n",
       " -84758.14815270808,\n",
       " -84665.18508444726,\n",
       " -84657.49954024889,\n",
       " -84473.81429955736,\n",
       " -84406.1960526444,\n",
       " -84126.88181898184,\n",
       " -83870.00662322808,\n",
       " -83853.52840325609,\n",
       " -83852.8054740997,\n",
       " -83830.83912886214,\n",
       " -83715.51800332218,\n",
       " -83655.87362064887,\n",
       " -83569.17354790866,\n",
       " -83559.29626242351,\n",
       " -83391.79056701157,\n",
       " -83356.86919712275,\n",
       " -83346.9537024824,\n",
       " -83329.46235938556,\n",
       " -83218.14657497313,\n",
       " -83203.15708530042,\n",
       " -83180.35865230579,\n",
       " -83059.11627321411,\n",
       " -83036.14935847279,\n",
       " -83018.46816190425,\n",
       " -82946.97180202138,\n",
       " -82923.66012614407,\n",
       " -82812.95120417979,\n",
       " -82798.95773427468,\n",
       " -82733.64441433642,\n",
       " -82597.93852378242,\n",
       " -82591.24332047533,\n",
       " -82473.60422806907,\n",
       " -82413.6301799044,\n",
       " -82302.27886621747,\n",
       " -82140.86741314456,\n",
       " -81984.11930419877,\n",
       " -81831.68273368478,\n",
       " -81789.06694231927,\n",
       " -81753.55095846485,\n",
       " -81481.27908032015,\n",
       " -81368.86969585344,\n",
       " -81340.15941934474,\n",
       " -81334.37321964279,\n",
       " -81294.77800482139,\n",
       " -81276.88181663491,\n",
       " -81252.79717397224,\n",
       " -81176.0081442343,\n",
       " -81157.6995903831,\n",
       " -80946.2692593662,\n",
       " -80898.48324063513,\n",
       " -80897.99686689768,\n",
       " -80835.697981501,\n",
       " -80819.84217395913,\n",
       " -80813.4044532841,\n",
       " -80705.06117093097,\n",
       " -80579.82990122773,\n",
       " -80527.882086928,\n",
       " ...]"
      ]
     },
     "execution_count": 21,
     "metadata": {},
     "output_type": "execute_result"
    }
   ],
   "source": [
    "sim_delta_V_sort"
   ]
  },
  {
   "cell_type": "code",
   "execution_count": 22,
   "id": "46792ed7",
   "metadata": {},
   "outputs": [
    {
     "data": {
      "image/png": "[encoded data removed]",
      "text/plain": [
       "<Figure size 640x480 with 1 Axes>"
      ]
     },
     "execution_count": 22,
     "metadata": {},
     "output_type": "execute_result"
    }
   ],
   "source": [
    "# Show location of VaR on the ECDF\n",
    "sim_delta_V_ecdf.axvline(x = -physical_asset_VaR, linestyle = 'dashed', color = 'red')\n",
    "sim_delta_V_ecdf.figure"
   ]
  },
  {
   "cell_type": "code",
   "execution_count": 23,
   "id": "bc8ddffb",
   "metadata": {},
   "outputs": [
    {
     "data": {
      "text/plain": [
       "200226.69969581178"
      ]
     },
     "execution_count": 23,
     "metadata": {},
     "output_type": "execute_result"
    }
   ],
   "source": [
    "# Calculate 95% ETL\n",
    "physical_asset_ETL = -sim_delta_V[sim_delta_V <= -physical_asset_VaR].mean()\n",
    "physical_asset_ETL"
   ]
  },
  {
   "cell_type": "code",
   "execution_count": 24,
   "id": "d0eddb9a",
   "metadata": {
    "scrolled": false
   },
   "outputs": [
    {
     "data": {
      "image/png": "[encoded data removed]",
      "text/plain": [
       "<Figure size 640x480 with 1 Axes>"
      ]
     },
     "execution_count": 24,
     "metadata": {},
     "output_type": "execute_result"
    }
   ],
   "source": [
    "# Show VaR and ETL on the ECDF\n",
    "sim_delta_V_ecdf.axvline(x = -physical_asset_ETL, linestyle = 'dashed', color = 'orange')\n",
    "sim_delta_V_ecdf.figure"
   ]
  },
  {
   "cell_type": "markdown",
   "id": "85f708e0",
   "metadata": {},
   "source": [
    "# (M1) Monte Carlo Simulation: VaR for European Call Option on ASX 200 (Full Valuation)"
   ]
  },
  {
   "cell_type": "code",
   "execution_count": 25,
   "id": "185fcdda",
   "metadata": {},
   "outputs": [],
   "source": [
    "# Container for simulated call option prices\n",
    "sim_op_ASX = np.zeros(N_sim)\n",
    "\n",
    "# Calculate call option prices based on scenarios of the ASX 200\n",
    "for j in range(0, N_sim):\n",
    "    sim_ASX_price = sim_ASX[j]\n",
    "    sim_op_ASX[j] = BSprice(sim_ASX_price, strike_ASX, mat_ASX, r_ASX, 0, vol_ASX, 'call')"
   ]
  },
  {
   "cell_type": "code",
   "execution_count": 26,
   "id": "504db1ce",
   "metadata": {},
   "outputs": [
    {
     "data": {
      "text/plain": [
       "(array([  1.,   0.,   1.,   1.,   3.,   3.,   4.,   3.,  10.,  20.,  24.,\n",
       "         38.,  40.,  60.,  67.,  89., 111., 153., 123., 164., 230., 235.,\n",
       "        253., 257., 269., 277., 269., 272., 268., 229., 206., 209., 199.,\n",
       "        181., 128., 104.,  96., 101.,  59.,  57.,  58.,  45.,  24.,  14.,\n",
       "         11.,  11.,   9.,   3.,   9.,   2.]),\n",
       " array([-91.44501911, -87.95513389, -84.46524867, -80.97536345,\n",
       "        -77.48547823, -73.99559302, -70.5057078 , -67.01582258,\n",
       "        -63.52593736, -60.03605214, -56.54616692, -53.0562817 ,\n",
       "        -49.56639648, -46.07651126, -42.58662604, -39.09674082,\n",
       "        -35.60685561, -32.11697039, -28.62708517, -25.13719995,\n",
       "        -21.64731473, -18.15742951, -14.66754429, -11.17765907,\n",
       "         -7.68777385,  -4.19788863,  -0.70800342,   2.7818818 ,\n",
       "          6.27176702,   9.76165224,  13.25153746,  16.74142268,\n",
       "         20.2313079 ,  23.72119312,  27.21107834,  30.70096356,\n",
       "         34.19084877,  37.68073399,  41.17061921,  44.66050443,\n",
       "         48.15038965,  51.64027487,  55.13016009,  58.62004531,\n",
       "         62.10993053,  65.59981575,  69.08970097,  72.57958618,\n",
       "         76.0694714 ,  79.55935662,  83.04924184]),\n",
       " <BarContainer object of 50 artists>)"
      ]
     },
     "execution_count": 26,
     "metadata": {},
     "output_type": "execute_result"
    },
    {
     "data": {
      "image/png": "[encoded data removed]",
      "text/plain": [
       "<Figure size 640x480 with 1 Axes>"
      ]
     },
     "metadata": {},
     "output_type": "display_data"
    }
   ],
   "source": [
    "# Calculate simulated P&L for the call option (per unit call option)\n",
    "sim_delta_op_ASX = sim_op_ASX - price_ASX\n",
    "\n",
    "# Visualize using histogram\n",
    "fig, sim_op_ASX_hist = plt.subplots()\n",
    "sim_op_ASX_hist.hist(sim_delta_op_ASX, bins = N_bins)"
   ]
  },
  {
   "cell_type": "code",
   "execution_count": 28,
   "id": "85f2509f",
   "metadata": {},
   "outputs": [
    {
     "data": {
      "text/plain": [
       "<matplotlib.lines.Line2D at 0x22ae9bf3610>"
      ]
     },
     "execution_count": 28,
     "metadata": {},
     "output_type": "execute_result"
    },
    {
     "data": {
      "image/png": "[encoded data removed]",
      "text/plain": [
       "<Figure size 640x480 with 1 Axes>"
      ]
     },
     "metadata": {},
     "output_type": "display_data"
    }
   ],
   "source": [
    "# Visualize using empirical CDF\n",
    "sim_delta_op_ASX_ecdf = sns.ecdfplot(data = sim_delta_op_ASX)\n",
    "sim_delta_op_ASX_ecdf.axhline(y = 1 - conf_level, xmin = 0, xmax = 1, linestyle = 'dashed', color = 'black')"
   ]
  },
  {
   "cell_type": "code",
   "execution_count": 29,
   "id": "28bddc42",
   "metadata": {},
   "outputs": [
    {
     "data": {
      "text/plain": [
       "40.19780554214367"
      ]
     },
     "execution_count": 29,
     "metadata": {},
     "output_type": "execute_result"
    }
   ],
   "source": [
    "# Calculate the 95% VaR\n",
    "sim_delta_op_ASX_sort = sorted(sim_delta_op_ASX)\n",
    "op_ASX_VaR = -sim_delta_op_ASX_sort[int(N_sim * (1-conf_level))]\n",
    "\n",
    "op_ASX_VaR"
   ]
  },
  {
   "cell_type": "code",
   "execution_count": 30,
   "id": "9737fdf9",
   "metadata": {},
   "outputs": [
    {
     "data": {
      "image/png": "[encoded data removed]",
      "text/plain": [
       "<Figure size 640x480 with 1 Axes>"
      ]
     },
     "execution_count": 30,
     "metadata": {},
     "output_type": "execute_result"
    }
   ],
   "source": [
    "# Show VaR on the ECDF\n",
    "sim_delta_op_ASX_ecdf.axvline(x = -op_ASX_VaR, linestyle = 'dashed', color = 'red')\n",
    "sim_delta_op_ASX_ecdf.figure"
   ]
  },
  {
   "cell_type": "code",
   "execution_count": 31,
   "id": "1fd61cdc",
   "metadata": {},
   "outputs": [
    {
     "data": {
      "text/plain": [
       "49.919652063857505"
      ]
     },
     "execution_count": 31,
     "metadata": {},
     "output_type": "execute_result"
    }
   ],
   "source": [
    "# Calculate the 95% ETL\n",
    "op_ASX_ETL = -sim_delta_op_ASX[sim_delta_op_ASX <= -op_ASX_VaR].mean()\n",
    "op_ASX_ETL"
   ]
  },
  {
   "cell_type": "code",
   "execution_count": 32,
   "id": "e1d161ca",
   "metadata": {},
   "outputs": [
    {
     "data": {
      "image/png": "[encoded data removed]",
      "text/plain": [
       "<Figure size 640x480 with 1 Axes>"
      ]
     },
     "execution_count": 32,
     "metadata": {},
     "output_type": "execute_result"
    }
   ],
   "source": [
    "# Show VaR and ETL on the ECDF\n",
    "sim_delta_op_ASX_ecdf.axvline(x = -op_ASX_ETL, linestyle = 'dashed', color = 'orange')\n",
    "sim_delta_op_ASX_ecdf.figure"
   ]
  },
  {
   "cell_type": "markdown",
   "id": "03e7505d",
   "metadata": {},
   "source": [
    "# (M1) Monte Carlo Simulation: VaR for European Call Option on ASX 200 (Partial Simulation)"
   ]
  },
  {
   "cell_type": "code",
   "execution_count": 33,
   "id": "acdf3eb7",
   "metadata": {},
   "outputs": [
    {
     "data": {
      "text/plain": [
       "(array([  1.,   0.,   1.,   1.,   3.,   3.,   4.,   2.,   7.,  20.,  18.,\n",
       "         30.,  46.,  52.,  63.,  77., 107., 131., 141., 139., 201., 247.,\n",
       "        232., 260., 276., 280., 274., 258., 270., 258., 212., 201., 209.,\n",
       "        192., 144., 108., 104.,  97.,  75.,  53.,  63.,  52.,  26.,  16.,\n",
       "         12.,   9.,  11.,   3.,   9.,   2.]),\n",
       " array([-92.93696404, -89.43946608, -85.94196812, -82.44447017,\n",
       "        -78.94697221, -75.44947425, -71.95197629, -68.45447833,\n",
       "        -64.95698038, -61.45948242, -57.96198446, -54.4644865 ,\n",
       "        -50.96698855, -47.46949059, -43.97199263, -40.47449467,\n",
       "        -36.97699671, -33.47949876, -29.9820008 , -26.48450284,\n",
       "        -22.98700488, -19.48950692, -15.99200897, -12.49451101,\n",
       "         -8.99701305,  -5.49951509,  -2.00201713,   1.49548082,\n",
       "          4.99297878,   8.49047674,  11.9879747 ,  15.48547265,\n",
       "         18.98297061,  22.48046857,  25.97796653,  29.47546449,\n",
       "         32.97296244,  36.4704604 ,  39.96795836,  43.46545632,\n",
       "         46.96295428,  50.46045223,  53.95795019,  57.45544815,\n",
       "         60.95294611,  64.45044407,  67.94794202,  71.44543998,\n",
       "         74.94293794,  78.4404359 ,  81.93793385]),\n",
       " <BarContainer object of 50 artists>)"
      ]
     },
     "execution_count": 33,
     "metadata": {},
     "output_type": "execute_result"
    },
    {
     "data": {
      "image/png": "[encoded data removed]",
      "text/plain": [
       "<Figure size 640x480 with 1 Axes>"
      ]
     },
     "metadata": {},
     "output_type": "display_data"
    }
   ],
   "source": [
    "# Simulate changes in option price using the delta-gamma approximation\n",
    "sim_delta_op_ASX_dg = fin_data_today['ASX200'] * delta_ASX * sim_logret[:, 0] + 0.5 * (fin_data_today['ASX200'] ** 2) * gamma_ASX * (sim_logret[:,0] ** 2)\n",
    "\n",
    "# Visualize using histogram\n",
    "fig, sim_op_ASX_dg_hist = plt.subplots()\n",
    "sim_op_ASX_dg_hist.hist(sim_delta_op_ASX_dg, bins = N_bins)"
   ]
  },
  {
   "cell_type": "code",
   "execution_count": 34,
   "id": "428c4379",
   "metadata": {},
   "outputs": [
    {
     "data": {
      "text/plain": [
       "<matplotlib.lines.Line2D at 0x22aea0a6590>"
      ]
     },
     "execution_count": 34,
     "metadata": {},
     "output_type": "execute_result"
    },
    {
     "data": {
      "image/png": "[encoded data removed]",
      "text/plain": [
       "<Figure size 640x480 with 1 Axes>"
      ]
     },
     "metadata": {},
     "output_type": "display_data"
    }
   ],
   "source": [
    "# Visualize using empirical CDF\n",
    "sim_delta_op_ASX_dg_ecdf = sns.ecdfplot(data = sim_delta_op_ASX_dg)\n",
    "sim_delta_op_ASX_dg_ecdf.axhline(y = 1 - conf_level, xmin = 0, xmax = 1, linestyle = 'dashed', color = 'black')"
   ]
  },
  {
   "cell_type": "code",
   "execution_count": 35,
   "id": "5aedf1d2",
   "metadata": {},
   "outputs": [
    {
     "name": "stdout",
     "output_type": "stream",
     "text": [
      "[40.47918303478367, 50.36921619329035]\n"
     ]
    }
   ],
   "source": [
    "# Calculate the 95% VaR\n",
    "sim_delta_op_ASX_dg_sort = sorted(sim_delta_op_ASX_dg)\n",
    "op_ASX_VaR_dg = -sim_delta_op_ASX_dg_sort[int(N_sim * (1-conf_level))]\n",
    "\n",
    "# Calculate the 95% ETL\n",
    "op_ASX_ETL_dg = -sim_delta_op_ASX_dg[sim_delta_op_ASX_dg <= -op_ASX_VaR_dg].mean()\n",
    "\n",
    "print([op_ASX_VaR_dg, op_ASX_ETL_dg])"
   ]
  },
  {
   "cell_type": "code",
   "execution_count": 36,
   "id": "61c45314",
   "metadata": {},
   "outputs": [
    {
     "data": {
      "image/png": "[encoded data removed]",
      "text/plain": [
       "<Figure size 640x480 with 1 Axes>"
      ]
     },
     "execution_count": 36,
     "metadata": {},
     "output_type": "execute_result"
    }
   ],
   "source": [
    "# Show VaR and ETL on the ECDF\n",
    "sim_delta_op_ASX_dg_ecdf.axvline(x = -op_ASX_VaR_dg, linestyle = 'dashed', color = 'red')\n",
    "sim_delta_op_ASX_dg_ecdf.axvline(x = -op_ASX_ETL_dg, linestyle = 'dashed', color = 'orange')\n",
    "sim_delta_op_ASX_dg_ecdf.figure"
   ]
  },
  {
   "cell_type": "markdown",
   "id": "eb056273",
   "metadata": {},
   "source": [
    "# (M2) Simulation of Risk Factors\n",
    "\n",
    "Under (M2), one-day log-returns can be simulated by taking $\\Delta = \\frac{1}{252}$ (assuming there are 252 trading days in a year) and by simulating values of a normal random vector $(\\varepsilon_1, \\varepsilon_2, \\varepsilon_3)^\\top$ such that $\\mathbb{E}(\\varepsilon_i) = 0$ and $\\text{Var}(\\varepsilon_i) = 1$ for each $i=1,2,3$, and \n",
    "\n",
    "$$\\text{Corr}(\\varepsilon_1, \\varepsilon_2) = 0.13, \\quad \\text{Corr}(\\varepsilon_1, \\varepsilon_3) = -0.10, \\quad \\text{Corr}(\\varepsilon_2, \\varepsilon_3) = 0.24.$$ \n",
    "\n",
    "It follows that the covariance matrix of $(\\varepsilon_1, \\varepsilon_2, \\varepsilon_3)^\\top$ is\n",
    "\n",
    "$$\\Sigma = \n",
    "\\left[\\begin{array}{ccc}\n",
    "1 & 0 & 0 \\\\\n",
    "0 & 1 & 0 \\\\\n",
    "0 & 0 & 1\n",
    "\\end{array}\\right]\n",
    "\\left[\\begin{array}{ccc}\n",
    "1 & 0.13 & 0.24 \\\\\n",
    "0.13 & 1 & -0.10 \\\\\n",
    "0.24 & -0.10 & 1\n",
    "\\end{array}\\right]\n",
    "\\left[\\begin{array}{ccc}\n",
    "1 & 0 & 0 \\\\\n",
    "0 & 1 & 0 \\\\\n",
    "0 & 0 & 1\n",
    "\\end{array}\\right] = \n",
    "\\left[\\begin{array}{ccc}\n",
    "1 & 0.13 & 0.24 \\\\\n",
    "0.13 & 1 & -0.10 \\\\\n",
    "0.24 & -0.10 & 1\n",
    "\\end{array}\\right].$$\n",
    "\n",
    "In general, the covariance matrix of a multivariate normal random vector $X = (X_1,\\dots,X_n)^\\top$ can be constructed as\n",
    "\n",
    "$$\\text{Cov}(X) = \\text{diag}(\\sigma_1^2, \\dots, \\sigma_n^2) \\, \\text{Corr}(X) \\, \\text{diag}(\\sigma_1^2, \\dots, \\sigma_n^2).$$"
   ]
  },
  {
   "cell_type": "code",
   "execution_count": 37,
   "id": "bc520635",
   "metadata": {},
   "outputs": [
    {
     "data": {
      "text/plain": [
       "array([[ 1.  ,  0.13,  0.24],\n",
       "       [ 0.13,  1.  , -0.1 ],\n",
       "       [ 0.24, -0.1 ,  1.  ]])"
      ]
     },
     "execution_count": 37,
     "metadata": {},
     "output_type": "execute_result"
    }
   ],
   "source": [
    "# Illustration of calculation (but not needed due to unit variances)\n",
    "corr_mat = np.array([[1, 0.13, 0.24], [0.13, 1, -0.10], [0.24, -0.10, 1]])\n",
    "var_mat = np.diag(np.array([1, 1, 1]))\n",
    "cov_mat = np.matmul(var_mat, np.matmul(corr_mat, var_mat))\n",
    "cov_mat"
   ]
  },
  {
   "cell_type": "markdown",
   "id": "1bfb56b4",
   "metadata": {},
   "source": [
    "The random vector $\\varepsilon = (\\varepsilon_1, \\varepsilon_2, \\varepsilon_3)^\\top$ can therefore be expressed in terms of a standard normal random vector $\\mathbf{Z} = (Z_1, Z_2, Z_3)^\\top \\sim N(\\mathbf{0}, \\mathbf{I})$ as \n",
    "\n",
    "$$\\varepsilon = \\mathbf{LZ}$$\n",
    "\n",
    "where $\\mathbf{L}$ is any matrix such that $\\mathbf{LL}^\\top = \\Sigma.$ One choice for $\\mathbf{L}$ is the lower triangular Cholesky factor of $\\Sigma$."
   ]
  },
  {
   "cell_type": "code",
   "execution_count": 38,
   "id": "a6ec61b5",
   "metadata": {},
   "outputs": [
    {
     "data": {
      "text/plain": [
       "array([[ 1.        ,  0.        ,  0.        ],\n",
       "       [ 0.13      ,  0.99151399,  0.        ],\n",
       "       [ 0.24      , -0.13232289,  0.96171235]])"
      ]
     },
     "execution_count": 38,
     "metadata": {},
     "output_type": "execute_result"
    }
   ],
   "source": [
    "# Cholesky factorization of the covariance matrix\n",
    "cov_mat_chol = sp.linalg.cholesky(cov_mat, lower = True)\n",
    "cov_mat_chol"
   ]
  },
  {
   "cell_type": "markdown",
   "id": "2d74d3e6",
   "metadata": {},
   "source": [
    "Therefore, to simulate $\\varepsilon$, we simply need to simulate $\\mathbf{Z}$ from the standard multivariate normal distribution."
   ]
  },
  {
   "cell_type": "code",
   "execution_count": 39,
   "id": "7fc4fb34",
   "metadata": {
    "scrolled": true
   },
   "outputs": [
    {
     "data": {
      "text/plain": [
       "array([[ 1.        ,  0.1513305 ,  0.2236502 ],\n",
       "       [ 0.1513305 ,  1.        , -0.09524035],\n",
       "       [ 0.2236502 , -0.09524035,  1.        ]])"
      ]
     },
     "execution_count": 39,
     "metadata": {},
     "output_type": "execute_result"
    }
   ],
   "source": [
    "# Simulate Z\n",
    "sim_Z = sp.stats.norm.rvs(size = (3, N_sim), random_state = 1234)\n",
    "\n",
    "# Calculate simulated epsilon\n",
    "sim_epsilon = np.dot(cov_mat_chol, sim_Z)\n",
    "sim_epsilon = np.transpose(sim_epsilon)    # So that it is N_sim x 3\n",
    "\n",
    "# Check covariance matrix of simulated epsilon\n",
    "np.corrcoef(sim_epsilon, rowvar = False)"
   ]
  },
  {
   "cell_type": "markdown",
   "id": "952389dc",
   "metadata": {},
   "source": [
    "It is then straightforward to simulate one-day log-returns and the corresponding asset prices from the given equations in (M2)."
   ]
  },
  {
   "cell_type": "code",
   "execution_count": 40,
   "id": "8a7175c6",
   "metadata": {},
   "outputs": [
    {
     "data": {
      "text/plain": [
       "Text(0.5, 1.0, 'FX Rate (AUD/USD)')"
      ]
     },
     "execution_count": 40,
     "metadata": {},
     "output_type": "execute_result"
    },
    {
     "data": {
      "image/png": "[encoded data removed]",
      "text/plain": [
       "<Figure size 640x480 with 3 Axes>"
      ]
     },
     "metadata": {},
     "output_type": "display_data"
    }
   ],
   "source": [
    "# Simulate one-day log-returns\n",
    "dt = 1/252\n",
    "sim_ASX_logret = (0.15 - 0.5 * (0.20 ** 2)) * dt + 0.20 * np.sqrt(dt) * sim_epsilon[:, 0]\n",
    "sim_SPX_logret = (0.10 - 0.5 * (0.25 ** 2)) * dt + 0.25 * np.sqrt(dt) * sim_epsilon[:, 1]\n",
    "sim_USD_logret = - 0.5 * (0.15 ** 2) * dt + 0.15 * np.sqrt(dt) * sim_epsilon[:, 2]\n",
    "\n",
    "# Calculate simulated future asset prices\n",
    "sim_ASX = fin_data_today['ASX200'] * np.exp(sim_ASX_logret)\n",
    "sim_SPX = fin_data_today['SPXComp'] * np.exp(sim_SPX_logret)\n",
    "sim_USD = fin_data_today['FXrate'] * np.exp(sim_USD_logret)\n",
    "\n",
    "# Histogram of simulated values\n",
    "N_bins = 50\n",
    "\n",
    "fig, sim_rf = plt.subplots(1, 3, sharey = True, tight_layout = True)\n",
    "\n",
    "sim_rf[0].hist(sim_ASX, bins = N_bins)\n",
    "sim_rf[1].hist(sim_SPX, bins = N_bins)\n",
    "sim_rf[2].hist(sim_USD, bins = N_bins)\n",
    "\n",
    "sim_rf[0].set_title('ASX200')\n",
    "sim_rf[1].set_title('SPXComp (AUD)')\n",
    "sim_rf[2].set_title('FX Rate (AUD/USD)')"
   ]
  },
  {
   "cell_type": "markdown",
   "id": "32c900c1",
   "metadata": {},
   "source": [
    "The estimation of the VaR and ETL then follows the same procedure as above, using the simulated prices from model (M2)."
   ]
  }
 ],
 "metadata": {
  "authors": [
   {
    "name": "Len Patrick Dominic M. Garces"
   }
  ],
  "kernelspec": {
   "display_name": "Python 3 (ipykernel)",
   "language": "python",
   "name": "python3"
  },
  "language_info": {
   "codemirror_mode": {
    "name": "ipython",
    "version": 3
   },
   "file_extension": ".py",
   "mimetype": "text/x-python",
   "name": "python",
   "nbconvert_exporter": "python",
   "pygments_lexer": "ipython3",
   "version": "3.11.3"
  },
  "title": "37009 Risk Management Workshop Week 7: Analytical VaR II"
 },
 "nbformat": 4,
 "nbformat_minor": 5
}

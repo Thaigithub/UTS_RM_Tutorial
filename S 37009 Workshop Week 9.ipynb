{
 "cells": [
  {
   "cell_type": "markdown",
   "id": "6556ee50",
   "metadata": {},
   "source": [
    "# Introduction\n",
    "\n",
    "## Background (Same as Week 7 Workshop)\n",
    "\n",
    "Today, 21 December 2021, we hold a portfolio consisting of physical assets and European options. The specification of each component is as follows:\n",
    "\n",
    "1. A short position on 1,000 units of the ASSD 200\n",
    "2. A long position on 2,500 units of the S\\&P 500 (*Note: prices of the S\\&P 500 provided in the data set are in US dollars*)\n",
    "3. A long position on US\\$ 4 million\n",
    "4. A long position on 10,000 units of a European call option on a share of the ASSD 200 with a strike price of \\$6,400 per unit and an expiry date of 26 November 2022\n",
    "5. A long position on 20,000 units of a European put option on a share of the S\\&P 500 with a strike price of \\$ 2,980 per unit and an expiry date of 23 December 2022\n",
    "\n",
    "We assume that the risk-free interest rates with maturity 26 November 2022 and 23 December 2022 are 3\\% and 3.5\\%, respectively. For purposes of option pricing, assume that the (annual) volatility of the ASSD 200 and S\\&P 500 prices are 20\\% and 25\\%, respectively. \n",
    "\n",
    "## Tasks\n",
    "\n",
    "Given the time series of financial data in `WorkshopWeek7Data.csv`, perform the following analysis:\n",
    "\n",
    "1. **(Completed in Week 7 Workshop)** Determine the per-unit price, delta, and gamma of the European options in the portfolio. What is the resulting position value?\n",
    "2. **(Completed in Week 7 Workshop)** Determine the marked-to-market value of the entire portfolio at the valuation date (21 December 2021).\n",
    "3. Calculate the one-day 95\\% VaR using historical simulation for each component and the entire portfolio.\n",
    "4. Calculate the one-day 95\\% VaR using weighted historical simulation for each component and the entire portfolio using $\\lambda = 0.98$.\n",
    "\n",
    "## Remarks\n",
    "\n",
    "1. In this analysis, we shall use the log-returns of the risk factors instead of the percentage return.\n",
    "2. While the historical time series of S&P 500 prices are denominated in US dollars, assume that the given strike price is in Australian dollars. As such, you may first convert the given S&P 500 prices to Australian dollars using the given time series of USD/AUD exchange rates and use the converted prices for the rest of the analysis. **How would the analysis differ if we do not convert the S&P500 prices and use both the US dollar price and the exchange rate as risk factors?**"
   ]
  },
  {
   "cell_type": "markdown",
   "id": "510a94d0",
   "metadata": {},
   "source": [
    "# Preparation\n",
    "\n",
    "## Utilities: European Option Pricing Functions\n",
    "\n",
    "We load the required libraries and recall the functions we have written to price European options and to calculate their delta and gamma under the Black-Scholes-Merton model."
   ]
  },
  {
   "cell_type": "code",
   "execution_count": 1,
   "id": "9b9083ab",
   "metadata": {},
   "outputs": [],
   "source": [
    "# Required libraries\n",
    "import numpy as np\n",
    "import scipy as sp\n",
    "import scipy.stats\n",
    "import pandas as pd\n",
    "import math\n",
    "import matplotlib.pyplot as plt\n",
    "import seaborn as sns\n",
    "\n",
    "from datetime import datetime\n",
    "from datetime import timedelta\n",
    "from matplotlib import colors\n",
    "from matplotlib.ticker import PercentFormatter"
   ]
  },
  {
   "cell_type": "code",
   "execution_count": 2,
   "id": "5341bc37",
   "metadata": {},
   "outputs": [],
   "source": [
    "# Pricing function for European calls and puts\n",
    "def BSprice(spot_price, strike_price, time_to_maturity, risk_free_rate, dividend_yield, volatility, option_type):\n",
    "    \n",
    "    # Use mathematical notation for function inputs\n",
    "    s = spot_price\n",
    "    K = strike_price\n",
    "    tau = time_to_maturity # (T-t) in notes\n",
    "    r = risk_free_rate\n",
    "    q = dividend_yield\n",
    "    sigma = volatility\n",
    "    \n",
    "    # Calculate d1 and d2\n",
    "    d1 = (np.log(s / K) + (r - q + 0.5 * sigma ** 2) * tau) / (sigma * np.sqrt(tau))\n",
    "    d2 = d1 - sigma * np.sqrt(tau)\n",
    "    \n",
    "    # Calculate option prices\n",
    "    if option_type == 'call':\n",
    "        price = (np.exp(-q * tau) * s * sp.stats.norm.cdf(d1, 0.0, 1.0) \\\n",
    "                 - np.exp(-r * tau) * K * sp.stats.norm.cdf(d2, 0.0, 1.0))\n",
    "        \n",
    "    if option_type == 'put':\n",
    "        price = (np.exp(-r * tau) * K * sp.stats.norm.cdf(-d2, 0.0, 1.0) \\\n",
    "                 - np.exp(-q * tau) * s * sp.stats.norm.cdf(-d1, 0.0, 1.0))\n",
    "        \n",
    "    return price"
   ]
  },
  {
   "cell_type": "code",
   "execution_count": 3,
   "id": "99687570",
   "metadata": {},
   "outputs": [],
   "source": [
    "# Function to calculate option delta under the Black-Scholes-Merton model\n",
    "def BSdelta(spot_price, strike_price, time_to_maturity, risk_free_rate, dividend_yield, volatility, option_type):\n",
    "    \n",
    "    # Use mathematical notation for function inputs\n",
    "    s = spot_price\n",
    "    K = strike_price\n",
    "    tau = time_to_maturity # (T-t) in notes\n",
    "    r = risk_free_rate\n",
    "    q = dividend_yield\n",
    "    sigma = volatility\n",
    "    \n",
    "    # Calculate d1 and d2\n",
    "    d1 = (np.log(s / K) + (r - q + 0.5 * sigma ** 2) * tau) / (sigma * np.sqrt(tau))\n",
    "    \n",
    "    # Calculate option delta\n",
    "    if option_type == 'call':\n",
    "        value = sp.stats.norm.cdf(d1, 0.0, 1.0)\n",
    "    \n",
    "    if option_type == 'put':\n",
    "        value = sp.stats.norm.cdf(d1, 0.0, 1.0) - 1\n",
    "    \n",
    "    return value    "
   ]
  },
  {
   "cell_type": "code",
   "execution_count": 4,
   "id": "2af156e8",
   "metadata": {},
   "outputs": [],
   "source": [
    "# Function to calculate option gamma under the Black-Scholes-Merton model\n",
    "def BSgamma(spot_price, strike_price, time_to_maturity, risk_free_rate, dividend_yield, volatility):\n",
    "    \n",
    "    # Use mathematical notation for function inputs\n",
    "    s = spot_price\n",
    "    K = strike_price\n",
    "    tau = time_to_maturity # (T-t) in notes\n",
    "    r = risk_free_rate\n",
    "    q = dividend_yield\n",
    "    sigma = volatility\n",
    "    \n",
    "    # Compute option gamma (same for calls and puts)\n",
    "    d1 = (np.log(s / K) + (r - q + 0.5 * sigma ** 2) * tau) / (sigma * np.sqrt(tau))\n",
    "    value = sp.stats.norm.pdf(d1, 0.0, 1.0) / (s * sigma * np.sqrt(tau))\n",
    "    \n",
    "    return value"
   ]
  },
  {
   "cell_type": "markdown",
   "id": "7d504cb4",
   "metadata": {},
   "source": [
    "## Data Pre-processing\n",
    "\n",
    "We load the given historical data in `WorkshopWeek7Data.csv`, express the exchange rates as XX AUD per USD, and compute the Australian dollar price of the S\\&P 500."
   ]
  },
  {
   "cell_type": "code",
   "execution_count": 25,
   "id": "c88e8ea7",
   "metadata": {},
   "outputs": [
    {
     "data": {
      "text/html": [
       "<div>\n",
       "<style scoped>\n",
       "    .dataframe tbody tr th:only-of-type {\n",
       "        vertical-align: middle;\n",
       "    }\n",
       "\n",
       "    .dataframe tbody tr th {\n",
       "        vertical-align: top;\n",
       "    }\n",
       "\n",
       "    .dataframe thead th {\n",
       "        text-align: right;\n",
       "    }\n",
       "</style>\n",
       "<table border=\"1\" class=\"dataframe\">\n",
       "  <thead>\n",
       "    <tr style=\"text-align: right;\">\n",
       "      <th></th>\n",
       "      <th>ASSD</th>\n",
       "      <th>BARC</th>\n",
       "      <th>FTSE 100</th>\n",
       "    </tr>\n",
       "    <tr>\n",
       "      <th>date</th>\n",
       "      <th></th>\n",
       "      <th></th>\n",
       "      <th></th>\n",
       "    </tr>\n",
       "  </thead>\n",
       "  <tbody>\n",
       "    <tr>\n",
       "      <th>2015-06-09</th>\n",
       "      <td>24.51</td>\n",
       "      <td>320.0</td>\n",
       "      <td>2483.4</td>\n",
       "    </tr>\n",
       "    <tr>\n",
       "      <th>2015-06-10</th>\n",
       "      <td>24.75</td>\n",
       "      <td>316.0</td>\n",
       "      <td>2431.9</td>\n",
       "    </tr>\n",
       "    <tr>\n",
       "      <th>2015-06-11</th>\n",
       "      <td>26.65</td>\n",
       "      <td>317.0</td>\n",
       "      <td>2403.7</td>\n",
       "    </tr>\n",
       "    <tr>\n",
       "      <th>2015-06-12</th>\n",
       "      <td>26.65</td>\n",
       "      <td>329.0</td>\n",
       "      <td>2415.6</td>\n",
       "    </tr>\n",
       "    <tr>\n",
       "      <th>2015-06-13</th>\n",
       "      <td>26.65</td>\n",
       "      <td>327.0</td>\n",
       "      <td>2387.9</td>\n",
       "    </tr>\n",
       "  </tbody>\n",
       "</table>\n",
       "</div>"
      ],
      "text/plain": [
       "             ASSD   BARC  FTSE 100\n",
       "date                              \n",
       "2015-06-09  24.51  320.0    2483.4\n",
       "2015-06-10  24.75  316.0    2431.9\n",
       "2015-06-11  26.65  317.0    2403.7\n",
       "2015-06-12  26.65  329.0    2415.6\n",
       "2015-06-13  26.65  327.0    2387.9"
      ]
     },
     "execution_count": 25,
     "metadata": {},
     "output_type": "execute_result"
    }
   ],
   "source": [
    "# Load data\n",
    "fin_data = pd.read_csv('C:/Users/leeha/exercise.csv',index_col=0)\n",
    "fin_data_idx = pd.read_csv('C:/Users/leeha/exercise.csv')\n",
    "fin_data.head()"
   ]
  },
  {
   "cell_type": "code",
   "execution_count": 9,
   "id": "9667f6fa",
   "metadata": {},
   "outputs": [
    {
     "data": {
      "text/plain": [
       "ASSD         177.5\n",
       "BARC        1618.0\n",
       "FTSE 100    5224.1\n",
       "Name: 2019-05-08, dtype: float64"
      ]
     },
     "execution_count": 9,
     "metadata": {},
     "output_type": "execute_result"
    }
   ],
   "source": [
    "# Extract market data on the valuation date\n",
    "fin_data_today = fin_data.loc['2019-05-08']\n",
    "fin_data_today"
   ]
  },
  {
   "cell_type": "code",
   "execution_count": 30,
   "id": "07f60612",
   "metadata": {},
   "outputs": [
    {
     "ename": "TypeError",
     "evalue": "'RangeIndex' object is not callable",
     "output_type": "error",
     "traceback": [
      "\u001b[1;31m---------------------------------------------------------------------------\u001b[0m",
      "\u001b[1;31mTypeError\u001b[0m                                 Traceback (most recent call last)",
      "\u001b[1;32mc:\\Users\\leeha\\Downloads\\S 37009 Workshop Week 9.ipynb Cell 10\u001b[0m line \u001b[0;36m1\n\u001b[1;32m----> <a href='vscode-notebook-cell:/c%3A/Users/leeha/Downloads/S%2037009%20Workshop%20Week%209.ipynb#Y120sZmlsZQ%3D%3D?line=0'>1</a>\u001b[0m fin_data_idx[\u001b[39m'\u001b[39m\u001b[39mdate\u001b[39m\u001b[39m'\u001b[39m]\u001b[39m.\u001b[39mindex(\u001b[39m3\u001b[39m)\n",
      "\u001b[1;31mTypeError\u001b[0m: 'RangeIndex' object is not callable"
     ]
    }
   ],
   "source": [
    "fin_data_idx['date'].index(3)"
   ]
  },
  {
   "cell_type": "code",
   "execution_count": 12,
   "id": "7bd23bcd",
   "metadata": {},
   "outputs": [
    {
     "data": {
      "text/html": [
       "<div>\n",
       "<style scoped>\n",
       "    .dataframe tbody tr th:only-of-type {\n",
       "        vertical-align: middle;\n",
       "    }\n",
       "\n",
       "    .dataframe tbody tr th {\n",
       "        vertical-align: top;\n",
       "    }\n",
       "\n",
       "    .dataframe thead th {\n",
       "        text-align: right;\n",
       "    }\n",
       "</style>\n",
       "<table border=\"1\" class=\"dataframe\">\n",
       "  <thead>\n",
       "    <tr style=\"text-align: right;\">\n",
       "      <th></th>\n",
       "      <th>ASSD</th>\n",
       "      <th>BARC</th>\n",
       "      <th>FTSE 100</th>\n",
       "    </tr>\n",
       "  </thead>\n",
       "  <tbody>\n",
       "    <tr>\n",
       "      <th>ASSD</th>\n",
       "      <td>0.000363</td>\n",
       "      <td>0.000062</td>\n",
       "      <td>0.000008</td>\n",
       "    </tr>\n",
       "    <tr>\n",
       "      <th>BARC</th>\n",
       "      <td>0.000062</td>\n",
       "      <td>0.000262</td>\n",
       "      <td>0.000001</td>\n",
       "    </tr>\n",
       "    <tr>\n",
       "      <th>FTSE 100</th>\n",
       "      <td>0.000008</td>\n",
       "      <td>0.000001</td>\n",
       "      <td>0.000062</td>\n",
       "    </tr>\n",
       "  </tbody>\n",
       "</table>\n",
       "</div>"
      ],
      "text/plain": [
       "              ASSD      BARC  FTSE 100\n",
       "ASSD      0.000363  0.000062  0.000008\n",
       "BARC      0.000062  0.000262  0.000001\n",
       "FTSE 100  0.000008  0.000001  0.000062"
      ]
     },
     "execution_count": 12,
     "metadata": {},
     "output_type": "execute_result"
    }
   ],
   "source": [
    "# Compute the pct-returns of all market variables\n",
    "fin_data_pctret = fin_data.pct_change().tail(-1)\n",
    "fin_data_pctret_cov = fin_data_pctret.cov()\n",
    "fin_data_pctret_cov.head()"
   ]
  },
  {
   "cell_type": "markdown",
   "id": "ee761961",
   "metadata": {},
   "source": [
    "# Mark-to-Market Valuation\n",
    "\n",
    "## European Options\n",
    "\n",
    "We encode all relevant information for the pricing of the European options in the portfolio, we also need to compute: \n",
    "\n",
    "1. The time to maturity in years (for simplicity, also assume 252 trading days when converting the time difference in days to years, although there is no reason there shouldn't be a different assumption for this conversion)\n",
    "2. ~~The annual volatility of the underlying price processes (i.e. the annualized standard deviation of the log-returns) from the given data.~~ (It can be verified that using the volatility implied by the historical time series of prices will lead to very small option prices)."
   ]
  },
  {
   "cell_type": "code",
   "execution_count": 18,
   "id": "3bb6165a",
   "metadata": {},
   "outputs": [],
   "source": [
    "# Given option parameters\n",
    "strike_ASSD = 175\n",
    "strike_BARC = 1650\n",
    "strike_FTSE = 5225\n",
    "r_ASSD = 0.08\n",
    "r_BARC = 0.08\n",
    "r_FTSE = 0.08\n",
    "N_op_ASSD = 10\n",
    "N_op_BARC = 50\n",
    "N_op_FTSE = 20\n",
    "div_ASSD=0.02\n",
    "div_BARC=0.025\n",
    "div_FTSE=0.015\n",
    "mat=0.25\n",
    "\n",
    " # Compute the annual volatilities in the underlying asset prices\n",
    "vol_ASSD = np.sqrt(fin_data_pctret_cov.loc['ASSD', 'ASSD'] * 250)\n",
    "vol_BARC = np.sqrt(fin_data_pctret_cov.loc['BARC', 'BARC'] * 250)\n",
    "vol_FTSE = np.sqrt(fin_data_pctret_cov.loc['FTSE 100', 'FTSE 100'] * 250)"
   ]
  },
  {
   "cell_type": "code",
   "execution_count": 19,
   "id": "eb620a40",
   "metadata": {},
   "outputs": [
    {
     "data": {
      "text/plain": [
       "0.3010905058685752"
      ]
     },
     "execution_count": 19,
     "metadata": {},
     "output_type": "execute_result"
    }
   ],
   "source": [
    "vol_ASSD"
   ]
  },
  {
   "cell_type": "markdown",
   "id": "34fb6450",
   "metadata": {},
   "source": [
    "We are now ready to calculate the option price, delta, and gamma. Note that the quantities below are *per unit* of the option. It is only when we calculate the value of the position that we multiply the option prices by the number of units."
   ]
  },
  {
   "cell_type": "code",
   "execution_count": 16,
   "id": "d39f0d95",
   "metadata": {},
   "outputs": [
    {
     "data": {
      "text/plain": [
       "(5.079947228018938, 9.408775127493527, 0.0)"
      ]
     },
     "execution_count": 16,
     "metadata": {},
     "output_type": "execute_result"
    }
   ],
   "source": [
    "# Option prices\n",
    "price_ASSD = BSprice(fin_data_today['ASSD'], strike_ASSD, mat, r_ASSD, div_ASSD, vol_ASSD, 'call')\n",
    "price_BARC = BSprice(fin_data_today['BARC'], strike_BARC, mat, r_BARC, div_BARC, vol_BARC, 'put')\n",
    "price_FTSE = BSprice(fin_data_today['FTSE 100'], strike_FTSE, mat, r_FTSE, div_FTSE, vol_FTSE, 'put')\n",
    "\n",
    "(price_ASSD, price_BARC, price_FTSE)"
   ]
  },
  {
   "cell_type": "code",
   "execution_count": null,
   "id": "11fff56a",
   "metadata": {},
   "outputs": [
    {
     "data": {
      "text/plain": [
       "(0.522195019525311, -0.2006782658180677)"
      ]
     },
     "execution_count": 10,
     "metadata": {},
     "output_type": "execute_result"
    }
   ],
   "source": [
    "# Option deltas\n",
    "delta_ASSD = BSdelta(fin_data_today['ASSD200'], strike_ASSD, mat_ASSD, r_ASSD, 0, vol_ASSD, 'call')\n",
    "delta_BARC = BSdelta(fin_data_today['BARCComp'], strike_BARC, mat_BARC, r_BARC, 0, vol_BARC, 'put')\n",
    "\n",
    "(delta_ASSD, delta_BARC)"
   ]
  },
  {
   "cell_type": "code",
   "execution_count": null,
   "id": "b8bbaa89",
   "metadata": {},
   "outputs": [
    {
     "data": {
      "text/plain": [
       "(0.00028292400051356997, 0.0002667708237270064)"
      ]
     },
     "execution_count": 11,
     "metadata": {},
     "output_type": "execute_result"
    }
   ],
   "source": [
    "# Option gammas\n",
    "gamma_ASSD = BSgamma(fin_data_today['ASSD200'], strike_ASSD, mat_ASSD, r_ASSD, 0, vol_ASSD)\n",
    "gamma_BARC = BSgamma(fin_data_today['BARCComp'], strike_BARC, mat_BARC, r_BARC, 0, vol_BARC)\n",
    "\n",
    "(gamma_ASSD, gamma_BARC)"
   ]
  },
  {
   "cell_type": "code",
   "execution_count": null,
   "id": "5a77823a",
   "metadata": {},
   "outputs": [
    {
     "data": {
      "text/plain": [
       "(5225143.553965945, 2744848.6859569564)"
      ]
     },
     "execution_count": 12,
     "metadata": {},
     "output_type": "execute_result"
    }
   ],
   "source": [
    "# Position values\n",
    "V_op_ASSD = N_op_ASSD * price_ASSD\n",
    "V_op_BARC = N_op_BARC * price_BARC\n",
    "\n",
    "(V_op_ASSD, V_op_BARC)"
   ]
  },
  {
   "cell_type": "markdown",
   "id": "e738dfd6",
   "metadata": {},
   "source": [
    "## Physical Assets\n",
    "\n",
    "The mark-to-market valuation of the physical assets is straightforward, as shown below."
   ]
  },
  {
   "cell_type": "code",
   "execution_count": null,
   "id": "005a72cd",
   "metadata": {},
   "outputs": [
    {
     "data": {
      "text/plain": [
       "(-6060358.0, 6971098.4159958465, 5193456.245131135)"
      ]
     },
     "execution_count": 13,
     "metadata": {},
     "output_type": "execute_result"
    }
   ],
   "source": [
    "# Number of units (negative for short position)\n",
    "N_ASSD = -1000\n",
    "N_BARC = 2000\n",
    "N_USD = 4000000\n",
    "\n",
    "# Valuation\n",
    "V_ASSD = N_ASSD * fin_data_today['ASSD200']\n",
    "V_BARC = N_BARC * fin_data_today['BARCComp']\n",
    "V_USD = N_USD * fin_data_today['FXrate']\n",
    "\n",
    "(V_ASSD, V_BARC, V_USD)"
   ]
  },
  {
   "cell_type": "markdown",
   "id": "21f35ca0",
   "metadata": {},
   "source": [
    "## Total Portfolio Value"
   ]
  },
  {
   "cell_type": "code",
   "execution_count": null,
   "id": "0f180365",
   "metadata": {},
   "outputs": [
    {
     "data": {
      "text/plain": [
       "14074188.901049884"
      ]
     },
     "execution_count": 14,
     "metadata": {},
     "output_type": "execute_result"
    }
   ],
   "source": [
    "# Total marked-to-market value of the portfolio\n",
    "V_portfolio = V_ASSD + V_BARC + V_USD + V_op_ASSD + V_op_BARC\n",
    "\n",
    "V_portfolio"
   ]
  },
  {
   "cell_type": "markdown",
   "id": "227efb84",
   "metadata": {},
   "source": [
    "# Simulation of Risk Factors and Instrument/Portfolio Values\n",
    "\n",
    "Hypothetical values of the risk factors at the end of the VaR time horizon (i.e. at the end of one trading day) are generated by taking as hypothetical scenarios the historically observed log returns of each risk factor. The hypothetical scenarios for the ASSD 200, the S\\&P 500, and the AUD/USD exchange rate are calculated below."
   ]
  },
  {
   "cell_type": "code",
   "execution_count": null,
   "id": "3208b934",
   "metadata": {},
   "outputs": [],
   "source": [
    "# Calculate simulated values for the ASSD, BARCComp, and FXrate\n",
    "sim_ASSD = fin_data_today['ASSD200'] * np.exp(fin_data_logret['ASSD200'])# 1day(what time horizon you will use)\n",
    "sim_BARC = fin_data_today['BARCComp'] * np.exp(fin_data_logret['BARCComp'])\n",
    "sim_FXrate = fin_data_today['FXrate'] * np.exp(fin_data_logret['FXrate'])\n",
    "\n",
    "# Drop date index\n",
    "sim_ASSD = sim_ASSD.reset_index().drop('Date', axis = 1)\n",
    "sim_BARC = sim_BARC.reset_index().drop('Date', axis = 1)\n",
    "sim_FXrate = sim_FXrate.reset_index().drop('Date', axis = 1)\n",
    "\n",
    "# Count number of simulations\n",
    "N_HS = len(sim_ASSD)"
   ]
  },
  {
   "cell_type": "markdown",
   "id": "1fe2629b",
   "metadata": {},
   "source": [
    "Note that the simulation implicitly incorporates the historical correlations among the risk factors. That is, the three arrays computed above represent the joint distribution of the risk factors. In other words, each row of the simulated values represent a realization of the random vector \n",
    "\n",
    "$$(S_{\\text{ASSD}}(t+1), S_{\\text{BARC}}(t+1), S_{\\text{USD}}(t+1)),$$ \n",
    "\n",
    "where $t$ is the current time/time of valuation and $t+1$ is the time at the end of the time horizon for the VaR forecast.\n",
    "\n",
    "We visualize the marginal distribution of each risk factor using histograms. "
   ]
  },
  {
   "cell_type": "code",
   "execution_count": null,
   "id": "e79af7de",
   "metadata": {},
   "outputs": [
    {
     "data": {
      "text/plain": [
       "Text(0.5, 1.0, 'FX Rate (AUD/USD)')"
      ]
     },
     "execution_count": 16,
     "metadata": {},
     "output_type": "execute_result"
    },
    {
     "data": {
      "image/png": "[encoded data removed]",
      "text/plain": [
       "<Figure size 640x480 with 3 Axes>"
      ]
     },
     "metadata": {},
     "output_type": "display_data"
    }
   ],
   "source": [
    "# Histogram of simulated values\n",
    "n_bins = 50\n",
    "\n",
    "fig, sim_rf = plt.subplots(1, 3, sharey = True, tight_layout = True)\n",
    "\n",
    "sim_rf[0].hist(sim_ASSD['ASSD200'], bins = n_bins)\n",
    "sim_rf[1].hist(sim_BARC['BARCComp'], bins = n_bins)\n",
    "sim_rf[2].hist(sim_FXrate['FXrate'], bins = n_bins)\n",
    "# marginal histo\n",
    "sim_rf[0].set_title('ASSD200')\n",
    "sim_rf[1].set_title('BARCComp (AUD)')\n",
    "sim_rf[2].set_title('FX Rate (AUD/USD)')"
   ]
  },
  {
   "cell_type": "markdown",
   "id": "b89bfc9e",
   "metadata": {},
   "source": [
    "# VaR for Portfolio of Physical Assets"
   ]
  },
  {
   "cell_type": "markdown",
   "id": "a33b128a",
   "metadata": {},
   "source": [
    "## Historical Simulation"
   ]
  },
  {
   "cell_type": "markdown",
   "id": "cc19bee5",
   "metadata": {},
   "source": [
    "Each entry in `sim_ASSD`, `sim_BARC`, and `sim_FXrate` represents a hypothetical scenario for the three risk factors. The corresponding hypothetical value of the portfolio of physical assets can be calculated by multiplying each simulated value of the risk factors by the number of units we currently hold of each instrument.\n",
    "\n",
    "The histogram of the hypothetical values of the portfolio of physical assets is also shown below. We note that the distribution of the hypothetical values and, consequently, the corresponding portfolio P\\&L, is not symmetric and has several outliers."
   ]
  },
  {
   "cell_type": "code",
   "execution_count": null,
   "id": "9d5847b1",
   "metadata": {},
   "outputs": [
    {
     "data": {
      "text/plain": [
       "Text(0.5, 1.0, 'Simulated portfolio values')"
      ]
     },
     "execution_count": 17,
     "metadata": {},
     "output_type": "execute_result"
    },
    {
     "data": {
      "image/png": "[encoded data removed]",
      "text/plain": [
       "<Figure size 640x480 with 1 Axes>"
      ]
     },
     "metadata": {},
     "output_type": "display_data"
    }
   ],
   "source": [
    "# Hypothetical portfolio values\n",
    "sim_V_portfolio = N_ASSD * sim_ASSD['ASSD200'] + N_BARC * sim_BARC['BARCComp'] + N_USD * sim_FXrate['FXrate']\n",
    "\n",
    "# Visualize hypothetical portfolio values\n",
    "fig, axs = plt.subplots()\n",
    "axs.hist(sim_V_portfolio, bins = n_bins)\n",
    "axs.set_title('Simulated portfolio values')\n",
    "# not symmetric and outliers"
   ]
  },
  {
   "cell_type": "markdown",
   "id": "86699ec6",
   "metadata": {},
   "source": [
    "To calculate the one-day VaR, we first calculate the P\\&L corresponding to each hypothetical portfolio value. We do so by subtracting the current marked-to-market value of the portfolio from the hypothetical values."
   ]
  },
  {
   "cell_type": "code",
   "execution_count": null,
   "id": "30627b1b",
   "metadata": {},
   "outputs": [],
   "source": [
    "# Calculate simulated P&L values for the portfolio (physical assets only)\n",
    "sim_delta_V = sim_V_portfolio - (V_ASSD + V_BARC + V_USD)"
   ]
  },
  {
   "cell_type": "markdown",
   "id": "62e2f970",
   "metadata": {},
   "source": [
    "The distribution of the physical asset portfolio P\\&L can also be visualized using the empirical CDF (ECDF) plot. The construction of the ECDF below assumes that all scenarios are equally likely to occur in the future.\n",
    "\n",
    "The plot also shows a horizontal line at a $y$-value of 0.05. The $x$-coordinate of the intersection of the horizontal line and the EDCF is the (negative of the) VaR for the portfolio of physical assets. "
   ]
  },
  {
   "cell_type": "code",
   "execution_count": null,
   "id": "4c5cb998",
   "metadata": {},
   "outputs": [
    {
     "data": {
      "text/plain": [
       "<matplotlib.lines.Line2D at 0x7f80908da950>"
      ]
     },
     "execution_count": 19,
     "metadata": {},
     "output_type": "execute_result"
    },
    {
     "data": {
      "image/png": "[encoded data removed]",
      "text/plain": [
       "<Figure size 640x480 with 1 Axes>"
      ]
     },
     "metadata": {},
     "output_type": "display_data"
    }
   ],
   "source": [
    "# Display empirical CDF for the physical portfolio P&L\n",
    "sim_delta_V_ecdf = sns.ecdfplot(data = sim_delta_V)\n",
    "\n",
    "# Construct horizontal line showing the 5th percentile (corresponding to the 95% VaR)\n",
    "conf_level = 0.95\n",
    "sim_delta_V_ecdf.axhline(y = 1 - conf_level, xmin = 0, xmax = 1, linestyle = 'dashed', color = 'black')"
   ]
  },
  {
   "cell_type": "markdown",
   "id": "a0b150ad",
   "metadata": {},
   "source": [
    "To calculate the 95\\% VaR, we sort the simulated P\\&L values in increasing order then identify the value that is in the $(N_{\\text{HS}}(1 - c))$-th position, where $N_{\\text{HS}}$ is the number of hypothetical scenarios. This value is rounded up to the nearest integer using the function ``int()`` if the product is not an integer."
   ]
  },
  {
   "cell_type": "code",
   "execution_count": null,
   "id": "a8a3b7a3",
   "metadata": {},
   "outputs": [
    {
     "data": {
      "text/plain": [
       "157337.85541995894"
      ]
     },
     "execution_count": 20,
     "metadata": {},
     "output_type": "execute_result"
    }
   ],
   "source": [
    "# Calculate the required quantile for the 95% VaR\n",
    "sim_delta_V_sort = sorted(sim_delta_V)\n",
    "physical_asset_VaR = -sim_delta_V_sort[int(N_HS * (1-conf_level))]\n",
    "\n",
    "physical_asset_VaR"
   ]
  },
  {
   "cell_type": "code",
   "execution_count": null,
   "id": "a3d3fcf4",
   "metadata": {},
   "outputs": [
    {
     "data": {
      "text/plain": [
       "38"
      ]
     },
     "execution_count": 9,
     "metadata": {},
     "output_type": "execute_result"
    }
   ],
   "source": [
    "int(775*0.05)"
   ]
  },
  {
   "cell_type": "markdown",
   "id": "15af17ea",
   "metadata": {},
   "source": [
    "## Weighted Historical Simulation\n",
    "\n",
    "We deviate from the assumption that all hypothetical scenarios are equally likely to occur by introducing weights that decrease (exponentially/geometrically) the further in time the historical observation corresponding to the hypothetical value is from the current time of valuation/VaR calculation. The weight for the $j$th scenario, corresponding to the $j$th historically observed return in the time series, is given by\n",
    "\n",
    "$$\\lambda_j = \\lambda^{N_{\\text{HS}} - j}\\frac{1 - \\lambda}{1 - \\lambda^{N_{\\text{HS}}}},$$\n",
    "\n",
    "where $\\lambda\\in[0,1]$ is a parameter governing the magnitude of the weights. The most recently observed historical return is given a weight of \n",
    "\n",
    "$$\\lambda_{N_{\\text{HS}}} = \\frac{1 - \\lambda}{1 - \\lambda^{N_{\\text{HS}}}}.$$\n",
    "\n",
    "As specified in the instructions, we will use $\\lambda = 0.98$."
   ]
  },
  {
   "cell_type": "code",
   "execution_count": null,
   "id": "f11f6649",
   "metadata": {},
   "outputs": [],
   "source": [
    "# Set weighting parameter lambda and weight storage variable\n",
    "whs_lambda = 0.98\n",
    "whs_weights = np.zeros(N_HS)\n",
    "\n",
    "# Compute weights for each scenario\n",
    "for j in range(0, N_HS):\n",
    "    whs_weights[j] = (whs_lambda ** (N_HS - (j+1))) * (1 - whs_lambda) / (1 - whs_lambda ** N_HS)"
   ]
  },
  {
   "cell_type": "code",
   "execution_count": null,
   "id": "8609365a",
   "metadata": {},
   "outputs": [
    {
     "data": {
      "text/html": [
       "<div>\n",
       "<style scoped>\n",
       "    .dataframe tbody tr th:only-of-type {\n",
       "        vertical-align: middle;\n",
       "    }\n",
       "\n",
       "    .dataframe tbody tr th {\n",
       "        vertical-align: top;\n",
       "    }\n",
       "\n",
       "    .dataframe thead th {\n",
       "        text-align: right;\n",
       "    }\n",
       "</style>\n",
       "<table border=\"1\" class=\"dataframe\">\n",
       "  <thead>\n",
       "    <tr style=\"text-align: right;\">\n",
       "      <th></th>\n",
       "      <th>PnL</th>\n",
       "      <th>Weight</th>\n",
       "    </tr>\n",
       "  </thead>\n",
       "  <tbody>\n",
       "    <tr>\n",
       "      <th>0</th>\n",
       "      <td>101990.278199</td>\n",
       "      <td>3.236031e-09</td>\n",
       "    </tr>\n",
       "    <tr>\n",
       "      <th>1</th>\n",
       "      <td>-133046.393188</td>\n",
       "      <td>3.302072e-09</td>\n",
       "    </tr>\n",
       "    <tr>\n",
       "      <th>2</th>\n",
       "      <td>72147.644284</td>\n",
       "      <td>3.369462e-09</td>\n",
       "    </tr>\n",
       "    <tr>\n",
       "      <th>3</th>\n",
       "      <td>66422.324241</td>\n",
       "      <td>3.438226e-09</td>\n",
       "    </tr>\n",
       "    <tr>\n",
       "      <th>4</th>\n",
       "      <td>23594.079491</td>\n",
       "      <td>3.508394e-09</td>\n",
       "    </tr>\n",
       "  </tbody>\n",
       "</table>\n",
       "</div>"
      ],
      "text/plain": [
       "             PnL        Weight\n",
       "0  101990.278199  3.236031e-09\n",
       "1 -133046.393188  3.302072e-09\n",
       "2   72147.644284  3.369462e-09\n",
       "3   66422.324241  3.438226e-09\n",
       "4   23594.079491  3.508394e-09"
      ]
     },
     "execution_count": 22,
     "metadata": {},
     "output_type": "execute_result"
    }
   ],
   "source": [
    "# Construct data frame containing simulated P&L for the portfolio with corresponding weights\n",
    "sim_delta_V_whs = pd.DataFrame({'PnL' : sim_delta_V, 'Weight' : whs_weights})\n",
    "sim_delta_V_whs.head()"
   ]
  },
  {
   "cell_type": "markdown",
   "id": "774266d4",
   "metadata": {},
   "source": [
    "To compute the 95\\% VaR, we first sort the data frame above by the value of the P\\&L, then produce another column containing the cumulative sum of the weights.\n",
    "\n",
    "The ECDF below is generated using the weights as the probabilities associated to the hypothetical P\\&L values."
   ]
  },
  {
   "cell_type": "code",
   "execution_count": null,
   "id": "b815c0e0",
   "metadata": {},
   "outputs": [
    {
     "data": {
      "text/plain": [
       "<matplotlib.lines.Line2D at 0x7f80908ed570>"
      ]
     },
     "execution_count": 23,
     "metadata": {},
     "output_type": "execute_result"
    },
    {
     "data": {
      "image/png": "[encoded data removed]",
      "text/plain": [
       "<Figure size 640x480 with 1 Axes>"
      ]
     },
     "metadata": {},
     "output_type": "display_data"
    }
   ],
   "source": [
    "# Sort data frame by PnL in increasing order\n",
    "sim_delta_V_whs_sort = sim_delta_V_whs.sort_values(by = 'PnL')\n",
    "\n",
    "# Calculate cumulative sum of the weights\n",
    "cumsum_weights = sim_delta_V_whs_sort['Weight'].cumsum()\n",
    "sim_delta_V_whs_sort['Weight_CumSum'] = cumsum_weights\n",
    "\n",
    "# Display empirical CDF of weighted simulations\n",
    "sim_delta_V_whs_ecdf = sns.ecdfplot(data = sim_delta_V_whs_sort, x = 'PnL', weights = 'Weight')\n",
    "sim_delta_V_whs_ecdf.axhline(y = 1 - conf_level, xmin = 0, xmax = 1, linestyle = 'dashed', color = 'black')"
   ]
  },
  {
   "cell_type": "markdown",
   "id": "9b22a161",
   "metadata": {},
   "source": [
    "The codes below show that the required 5th percentile is straddled by two values whose corresponding cumulative sums are close, but not equal, to 0.05."
   ]
  },
  {
   "cell_type": "code",
   "execution_count": null,
   "id": "7dd207f4",
   "metadata": {},
   "outputs": [
    {
     "data": {
      "text/html": [
       "<div>\n",
       "<style scoped>\n",
       "    .dataframe tbody tr th:only-of-type {\n",
       "        vertical-align: middle;\n",
       "    }\n",
       "\n",
       "    .dataframe tbody tr th {\n",
       "        vertical-align: top;\n",
       "    }\n",
       "\n",
       "    .dataframe thead th {\n",
       "        text-align: right;\n",
       "    }\n",
       "</style>\n",
       "<table border=\"1\" class=\"dataframe\">\n",
       "  <thead>\n",
       "    <tr style=\"text-align: right;\">\n",
       "      <th></th>\n",
       "      <th>PnL</th>\n",
       "      <th>Weight</th>\n",
       "      <th>Weight_CumSum</th>\n",
       "    </tr>\n",
       "  </thead>\n",
       "  <tbody>\n",
       "    <tr>\n",
       "      <th>303</th>\n",
       "      <td>-295509.276705</td>\n",
       "      <td>1.474048e-06</td>\n",
       "      <td>0.000001</td>\n",
       "    </tr>\n",
       "    <tr>\n",
       "      <th>370</th>\n",
       "      <td>-290470.838837</td>\n",
       "      <td>5.706432e-06</td>\n",
       "      <td>0.000007</td>\n",
       "    </tr>\n",
       "    <tr>\n",
       "      <th>229</th>\n",
       "      <td>-280690.407082</td>\n",
       "      <td>3.305532e-07</td>\n",
       "      <td>0.000008</td>\n",
       "    </tr>\n",
       "    <tr>\n",
       "      <th>5</th>\n",
       "      <td>-269920.061393</td>\n",
       "      <td>3.579994e-09</td>\n",
       "      <td>0.000008</td>\n",
       "    </tr>\n",
       "    <tr>\n",
       "      <th>93</th>\n",
       "      <td>-255135.699074</td>\n",
       "      <td>2.118301e-08</td>\n",
       "      <td>0.000008</td>\n",
       "    </tr>\n",
       "    <tr>\n",
       "      <th>...</th>\n",
       "      <td>...</td>\n",
       "      <td>...</td>\n",
       "      <td>...</td>\n",
       "    </tr>\n",
       "    <tr>\n",
       "      <th>67</th>\n",
       "      <td>-114111.337414</td>\n",
       "      <td>1.252753e-08</td>\n",
       "      <td>0.044163</td>\n",
       "    </tr>\n",
       "    <tr>\n",
       "      <th>532</th>\n",
       "      <td>-113441.935566</td>\n",
       "      <td>1.505707e-04</td>\n",
       "      <td>0.044314</td>\n",
       "    </tr>\n",
       "    <tr>\n",
       "      <th>412</th>\n",
       "      <td>-109822.519647</td>\n",
       "      <td>1.333121e-05</td>\n",
       "      <td>0.044327</td>\n",
       "    </tr>\n",
       "    <tr>\n",
       "      <th>518</th>\n",
       "      <td>-107912.814162</td>\n",
       "      <td>1.134764e-04</td>\n",
       "      <td>0.044441</td>\n",
       "    </tr>\n",
       "    <tr>\n",
       "      <th>528</th>\n",
       "      <td>-107874.657463</td>\n",
       "      <td>1.388816e-04</td>\n",
       "      <td>0.044580</td>\n",
       "    </tr>\n",
       "  </tbody>\n",
       "</table>\n",
       "<p>92 rows × 3 columns</p>\n",
       "</div>"
      ],
      "text/plain": [
       "               PnL        Weight  Weight_CumSum\n",
       "303 -295509.276705  1.474048e-06       0.000001\n",
       "370 -290470.838837  5.706432e-06       0.000007\n",
       "229 -280690.407082  3.305532e-07       0.000008\n",
       "5   -269920.061393  3.579994e-09       0.000008\n",
       "93  -255135.699074  2.118301e-08       0.000008\n",
       "..             ...           ...            ...\n",
       "67  -114111.337414  1.252753e-08       0.044163\n",
       "532 -113441.935566  1.505707e-04       0.044314\n",
       "412 -109822.519647  1.333121e-05       0.044327\n",
       "518 -107912.814162  1.134764e-04       0.044441\n",
       "528 -107874.657463  1.388816e-04       0.044580\n",
       "\n",
       "[92 rows x 3 columns]"
      ]
     },
     "execution_count": 24,
     "metadata": {},
     "output_type": "execute_result"
    }
   ],
   "source": [
    "# Display entries with with cumulative sum less than 0.05\n",
    "sim_delta_V_whs_sort[(sim_delta_V_whs_sort['Weight_CumSum'] < 1 - conf_level)]"
   ]
  },
  {
   "cell_type": "code",
   "execution_count": null,
   "id": "7187194f",
   "metadata": {},
   "outputs": [
    {
     "data": {
      "text/html": [
       "<div>\n",
       "<style scoped>\n",
       "    .dataframe tbody tr th:only-of-type {\n",
       "        vertical-align: middle;\n",
       "    }\n",
       "\n",
       "    .dataframe tbody tr th {\n",
       "        vertical-align: top;\n",
       "    }\n",
       "\n",
       "    .dataframe thead th {\n",
       "        text-align: right;\n",
       "    }\n",
       "</style>\n",
       "<table border=\"1\" class=\"dataframe\">\n",
       "  <thead>\n",
       "    <tr style=\"text-align: right;\">\n",
       "      <th></th>\n",
       "      <th>PnL</th>\n",
       "      <th>Weight</th>\n",
       "      <th>Weight_CumSum</th>\n",
       "    </tr>\n",
       "  </thead>\n",
       "  <tbody>\n",
       "    <tr>\n",
       "      <th>760</th>\n",
       "      <td>-107704.145555</td>\n",
       "      <td>1.507284e-02</td>\n",
       "      <td>0.059652</td>\n",
       "    </tr>\n",
       "    <tr>\n",
       "      <th>215</th>\n",
       "      <td>-107380.469297</td>\n",
       "      <td>2.491187e-07</td>\n",
       "      <td>0.059653</td>\n",
       "    </tr>\n",
       "    <tr>\n",
       "      <th>391</th>\n",
       "      <td>-106776.957912</td>\n",
       "      <td>8.722020e-06</td>\n",
       "      <td>0.059661</td>\n",
       "    </tr>\n",
       "    <tr>\n",
       "      <th>662</th>\n",
       "      <td>-105542.878224</td>\n",
       "      <td>2.081376e-03</td>\n",
       "      <td>0.061743</td>\n",
       "    </tr>\n",
       "    <tr>\n",
       "      <th>38</th>\n",
       "      <td>-105387.170789</td>\n",
       "      <td>6.973034e-09</td>\n",
       "      <td>0.061743</td>\n",
       "    </tr>\n",
       "    <tr>\n",
       "      <th>...</th>\n",
       "      <td>...</td>\n",
       "      <td>...</td>\n",
       "      <td>...</td>\n",
       "    </tr>\n",
       "    <tr>\n",
       "      <th>19</th>\n",
       "      <td>251536.320858</td>\n",
       "      <td>4.750258e-09</td>\n",
       "      <td>0.999941</td>\n",
       "    </tr>\n",
       "    <tr>\n",
       "      <th>188</th>\n",
       "      <td>256601.825334</td>\n",
       "      <td>1.443811e-07</td>\n",
       "      <td>0.999941</td>\n",
       "    </tr>\n",
       "    <tr>\n",
       "      <th>343</th>\n",
       "      <td>304838.941530</td>\n",
       "      <td>3.307263e-06</td>\n",
       "      <td>0.999944</td>\n",
       "    </tr>\n",
       "    <tr>\n",
       "      <th>61</th>\n",
       "      <td>319407.448187</td>\n",
       "      <td>1.109742e-08</td>\n",
       "      <td>0.999944</td>\n",
       "    </tr>\n",
       "    <tr>\n",
       "      <th>483</th>\n",
       "      <td>394249.133331</td>\n",
       "      <td>5.595232e-05</td>\n",
       "      <td>1.000000</td>\n",
       "    </tr>\n",
       "  </tbody>\n",
       "</table>\n",
       "<p>683 rows × 3 columns</p>\n",
       "</div>"
      ],
      "text/plain": [
       "               PnL        Weight  Weight_CumSum\n",
       "760 -107704.145555  1.507284e-02       0.059652\n",
       "215 -107380.469297  2.491187e-07       0.059653\n",
       "391 -106776.957912  8.722020e-06       0.059661\n",
       "662 -105542.878224  2.081376e-03       0.061743\n",
       "38  -105387.170789  6.973034e-09       0.061743\n",
       "..             ...           ...            ...\n",
       "19   251536.320858  4.750258e-09       0.999941\n",
       "188  256601.825334  1.443811e-07       0.999941\n",
       "343  304838.941530  3.307263e-06       0.999944\n",
       "61   319407.448187  1.109742e-08       0.999944\n",
       "483  394249.133331  5.595232e-05       1.000000\n",
       "\n",
       "[683 rows x 3 columns]"
      ]
     },
     "execution_count": 25,
     "metadata": {},
     "output_type": "execute_result"
    }
   ],
   "source": [
    "# Display entries with with cumulative sum greater than 0.05\n",
    "sim_delta_V_whs_sort[(sim_delta_V_whs_sort['Weight_CumSum'] > 1 - conf_level)]"
   ]
  },
  {
   "cell_type": "markdown",
   "id": "27cb313e",
   "metadata": {},
   "source": [
    "To determine the VaR, we may interpolate the P\\&L value corresponding to a cumulative sum value of 0.05."
   ]
  },
  {
   "cell_type": "code",
   "execution_count": null,
   "id": "cca7643a",
   "metadata": {},
   "outputs": [
    {
     "data": {
      "text/plain": [
       "107813.33824614665"
      ]
     },
     "execution_count": 26,
     "metadata": {},
     "output_type": "execute_result"
    }
   ],
   "source": [
    "# Interpolate the 95% VaR since the cumulative sums do not exactly match the required quantile\n",
    "physical_asset_VaR_whs = -np.interp(x = 1 - conf_level, xp = sim_delta_V_whs_sort['Weight_CumSum'],\n",
    "                                  fp = sim_delta_V_whs_sort['PnL'])\n",
    "\n",
    "physical_asset_VaR_whs"
   ]
  },
  {
   "cell_type": "markdown",
   "id": "46917f8c",
   "metadata": {},
   "source": [
    "Alternatively, we may invoke the formal definition of VaR, which is the smallest value of the P&L for which the cumulative sum is greater than 0.05.\n",
    "\n",
    "*Recall:* $\\text{VaR}_c = -\\inf\\{x\\in\\mathbb{R} : P(\\Delta V \\leq x) \\geq 1-c\\}$, with a negative sign preceding the infimum since this value is typically negative."
   ]
  },
  {
   "cell_type": "code",
   "execution_count": null,
   "id": "96c17a30",
   "metadata": {},
   "outputs": [
    {
     "data": {
      "text/plain": [
       "107704.14555486664"
      ]
     },
     "execution_count": 27,
     "metadata": {},
     "output_type": "execute_result"
    }
   ],
   "source": [
    "# Alternative calculation of VaR\n",
    "sim_delta_V_above = sim_delta_V_whs_sort[(sim_delta_V_whs_sort['Weight_CumSum'] >= 1 - conf_level)].reset_index()\n",
    "\n",
    "physical_asset_VaR_whs_2 = -sim_delta_V_above.loc[0, 'PnL']\n",
    "physical_asset_VaR_whs_2"
   ]
  },
  {
   "cell_type": "markdown",
   "id": "ba3d402e",
   "metadata": {},
   "source": [
    "# VaR for Call Option on ASSD 200\n",
    "\n",
    "Historical simulation for more complex financial instruments, such as options, is conducted using a full valuation approach. For example, to calculate the VaR for the call option on the ASSD 200, we need to calculate the option price corresponding to each hypothetical value of the ASSD 200 price.\n",
    "\n",
    "If a full valuation is too complex, one may resort to a local approximation (i.e. a delta or delta-gamma approximation with respect to appropriate risk factors).\n",
    "\n",
    "Below, we show both the standard and weighted historical simulation method to calculate the 95\\% VaR for each unit of the call option on the ASSD 200."
   ]
  },
  {
   "cell_type": "markdown",
   "id": "61519e15",
   "metadata": {},
   "source": [
    "## Historical Simulation"
   ]
  },
  {
   "cell_type": "code",
   "execution_count": null,
   "id": "8e71e921",
   "metadata": {},
   "outputs": [],
   "source": [
    "# Container for simulated call option prices\n",
    "sim_op_ASSD = np.zeros(N_HS)\n",
    "\n",
    "# Calculate call option prices based on scenarios of the ASSD 200\n",
    "for j in range(0, N_HS):\n",
    "    sim_ASSD_price = sim_ASSD.loc[j, 'ASSD200']\n",
    "    sim_op_ASSD[j] = BSprice(sim_ASSD_price, strike_ASSD, mat_ASSD, r_ASSD, 0, vol_ASSD, 'call')"
   ]
  },
  {
   "cell_type": "code",
   "execution_count": null,
   "id": "e370ce0f",
   "metadata": {
    "scrolled": true
   },
   "outputs": [
    {
     "data": {
      "text/plain": [
       "(array([ 1.,  1.,  0.,  0.,  0.,  1.,  0.,  1.,  0.,  0.,  4.,  3.,  7.,\n",
       "         3.,  4., 14., 10., 10., 16., 18., 33., 33., 40., 40., 48., 82.,\n",
       "        70., 58., 57., 49., 43., 26., 24., 19., 10., 10., 10.,  7.,  5.,\n",
       "         5.,  6.,  2.,  2.,  1.,  0.,  1.,  0.,  0.,  0.,  1.]),\n",
       " array([-1.20640277e+02, -1.15998620e+02, -1.11356963e+02, -1.06715307e+02,\n",
       "        -1.02073650e+02, -9.74319937e+01, -9.27903372e+01, -8.81486806e+01,\n",
       "        -8.35070240e+01, -7.88653675e+01, -7.42237109e+01, -6.95820543e+01,\n",
       "        -6.49403978e+01, -6.02987412e+01, -5.56570847e+01, -5.10154281e+01,\n",
       "        -4.63737715e+01, -4.17321150e+01, -3.70904584e+01, -3.24488019e+01,\n",
       "        -2.78071453e+01, -2.31654887e+01, -1.85238322e+01, -1.38821756e+01,\n",
       "        -9.24051905e+00, -4.59886249e+00,  4.27940762e-02,  4.68445064e+00,\n",
       "         9.32610720e+00,  1.39677638e+01,  1.86094203e+01,  2.32510769e+01,\n",
       "         2.78927334e+01,  3.25343900e+01,  3.71760466e+01,  4.18177031e+01,\n",
       "         4.64593597e+01,  5.11010163e+01,  5.57426728e+01,  6.03843294e+01,\n",
       "         6.50259859e+01,  6.96676425e+01,  7.43092991e+01,  7.89509556e+01,\n",
       "         8.35926122e+01,  8.82342687e+01,  9.28759253e+01,  9.75175819e+01,\n",
       "         1.02159238e+02,  1.06800895e+02,  1.11442552e+02]),\n",
       " <BarContainer object of 50 artists>)"
      ]
     },
     "execution_count": 29,
     "metadata": {},
     "output_type": "execute_result"
    },
    {
     "data": {
      "image/png": "[encoded data removed]",
      "text/plain": [
       "<Figure size 640x480 with 1 Axes>"
      ]
     },
     "metadata": {},
     "output_type": "display_data"
    }
   ],
   "source": [
    "# Calculate simulated P&L for the call option (per unit call option)\n",
    "sim_delta_op_ASSD = sim_op_ASSD - price_ASSD\n",
    "\n",
    "# Visualize using histogram\n",
    "fig, sim_op_ASSD_hist = plt.subplots()\n",
    "sim_op_ASSD_hist.hist(sim_delta_op_ASSD, bins = n_bins)"
   ]
  },
  {
   "cell_type": "code",
   "execution_count": null,
   "id": "94b55581",
   "metadata": {
    "scrolled": true
   },
   "outputs": [
    {
     "data": {
      "text/plain": [
       "<matplotlib.lines.Line2D at 0x7f8070bf2230>"
      ]
     },
     "execution_count": 30,
     "metadata": {},
     "output_type": "execute_result"
    },
    {
     "data": {
      "image/png": "[encoded data removed]",
      "text/plain": [
       "<Figure size 640x480 with 1 Axes>"
      ]
     },
     "metadata": {},
     "output_type": "display_data"
    }
   ],
   "source": [
    "# Visualize using empirical CDF\n",
    "# per option\n",
    "sim_delta_op_ASSD_ecdf = sns.ecdfplot(data = sim_delta_op_ASSD)\n",
    "sim_delta_op_ASSD_ecdf.axhline(y = 1 - conf_level, xmin = 0, xmax = 1, linestyle = 'dashed', color = 'black')"
   ]
  },
  {
   "cell_type": "code",
   "execution_count": null,
   "id": "8765063d",
   "metadata": {},
   "outputs": [
    {
     "data": {
      "text/plain": [
       "46.8534186284237"
      ]
     },
     "execution_count": 31,
     "metadata": {},
     "output_type": "execute_result"
    }
   ],
   "source": [
    "# Calculate the required quantile for the 95% VaR\n",
    "sim_delta_op_ASSD_sort = sorted(sim_delta_op_ASSD)\n",
    "op_ASSD_VaR = -sim_delta_op_ASSD_sort[int(N_HS * (1-conf_level))]\n",
    "\n",
    "op_ASSD_VaR"
   ]
  },
  {
   "cell_type": "markdown",
   "id": "77dc0ef9",
   "metadata": {},
   "source": [
    "## Weighted Historical Simulation"
   ]
  },
  {
   "cell_type": "code",
   "execution_count": null,
   "id": "634644bc",
   "metadata": {},
   "outputs": [],
   "source": [
    "# Combine into one data frame the PnL and the corresponding weights\n",
    "sim_delta_op_ASSD_whs = pd.DataFrame({'PnL' : sim_delta_op_ASSD, 'Weight' : whs_weights})\n",
    "\n",
    "# Sort the data frame by the PnL\n",
    "sim_delta_op_ASSD_whs_sort = sim_delta_op_ASSD_whs.sort_values(by = 'PnL')\n",
    "\n",
    "# Calculate the cumulative sum of weights\n",
    "cumsum_weights = sim_delta_op_ASSD_whs_sort['Weight'].cumsum()\n",
    "sim_delta_op_ASSD_whs_sort['Weight_CumSum'] = cumsum_weights"
   ]
  },
  {
   "cell_type": "code",
   "execution_count": null,
   "id": "16d7872d",
   "metadata": {},
   "outputs": [
    {
     "data": {
      "text/plain": [
       "<matplotlib.lines.Line2D at 0x7f80a3e77700>"
      ]
     },
     "execution_count": 33,
     "metadata": {},
     "output_type": "execute_result"
    },
    {
     "data": {
      "image/png": "[encoded data removed]",
      "text/plain": [
       "<Figure size 640x480 with 1 Axes>"
      ]
     },
     "metadata": {},
     "output_type": "display_data"
    }
   ],
   "source": [
    "# Display empirical CDF of weighted simulations\n",
    "sim_delta_op_ASSD_whs_ecdf = sns.ecdfplot(data = sim_delta_op_ASSD_whs_sort, x = 'PnL', weights = 'Weight')\n",
    "sim_delta_op_ASSD_whs_ecdf.axhline(y = 1 - conf_level, xmin = 0, xmax = 1, linestyle = 'dashed', color = 'black')"
   ]
  },
  {
   "cell_type": "code",
   "execution_count": null,
   "id": "b9ed8526",
   "metadata": {},
   "outputs": [
    {
     "data": {
      "text/plain": [
       "23.785032217848705"
      ]
     },
     "execution_count": 34,
     "metadata": {},
     "output_type": "execute_result"
    }
   ],
   "source": [
    "# Interpolate the 95% VaR since the cumulative sums do not exactly match the required quantile\n",
    "op_ASSD_VaR_whs = -np.interp(x = 0.05, xp = sim_delta_op_ASSD_whs_sort['Weight_CumSum'],\n",
    "                                  fp = sim_delta_op_ASSD_whs_sort['PnL'])\n",
    "\n",
    "op_ASSD_VaR_whs"
   ]
  }
 ],
 "metadata": {
  "authors": [
   {
    "name": "Len Patrick Dominic M. Garces"
   }
  ],
  "kernelspec": {
   "display_name": "Python 3 (ipykernel)",
   "language": "python",
   "name": "python3"
  },
  "language_info": {
   "codemirror_mode": {
    "name": "ipython",
    "version": 3
   },
   "file_extension": ".py",
   "mimetype": "text/x-python",
   "name": "python",
   "nbconvert_exporter": "python",
   "pygments_lexer": "ipython3",
   "version": "3.11.3"
  },
  "title": "37009 Risk Management Workshop Week 7: Analytical VaR II"
 },
 "nbformat": 4,
 "nbformat_minor": 5
}

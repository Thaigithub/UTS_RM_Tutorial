{
 "cells": [
  {
   "cell_type": "markdown",
   "id": "655f84e2",
   "metadata": {},
   "source": [
    "# 37009 Workshop Week 4: Risk Factor Mapping\n",
    "\n",
    "Below are the solutions to the exercises for the Week 4 workshop. Steps indicated by **ASSUMPTION** are modelling assumptions and can be varied when implementing these codes. Therefore, I recommend paying attention to the work flow presented below and, as an exercise, modify the codes to cater to different modelling assumptions.\n",
    "\n",
    "**ASSUMPTION:** A day-count convention of Actual/360 is assumed throughout the exercise.\\\n",
    "\n",
    "**ASSUMPTION:** All risk factor mappings are with respect to the one-day percentage returns in the risk factors.\n",
    "\n",
    "*REMARK:* A discussion of log-returns and its use in risk factor mapping can be found in the Week 4 Workshop notes (Section 3.5). In summary, the use of either one-day log-returns or percentage returns is a modelling assumption, but one must recognize that the time-scaling property of VaR, which we do not use at this point, follows primarily from the use of log-returns. **As an exercise, you can re-do all calculations below using log-returns instead of percentage returns and see the difference, especially in the calculated correlation and covariance matrices.**"
   ]
  },
  {
   "cell_type": "code",
   "execution_count": 1,
   "id": "196308c9",
   "metadata": {},
   "outputs": [],
   "source": [
    "# Required libraries\n",
    "import numpy as np\n",
    "import scipy as sp\n",
    "import scipy.stats\n",
    "import pandas as pd\n",
    "import math\n",
    "from datetime import datetime\n",
    "from datetime import timedelta"
   ]
  },
  {
   "cell_type": "markdown",
   "id": "48f86102",
   "metadata": {},
   "source": [
    "*REMARK:* Some variable names may be repeated throughout the entire notebook."
   ]
  },
  {
   "cell_type": "markdown",
   "id": "0ffba240",
   "metadata": {},
   "source": [
    "## Cash Flow Mapping\n",
    "\n",
    "The codes below automate the two-vertex duration- or volatility-invariant cash flow mapping. The PV-invariance constraint is implicity implosed. The function allows the user to choose the left- and right-maturities for the cash flow mapping (which is a modelling assumption). If the user requests a volatility-invariant mapping, the user has to provide the standard deviations and correlations of the **zero coupon bond returns**.\n",
    "\n",
    "Exercise (1) will not be answered here as it consists of plugging in the provided values into the function below."
   ]
  },
  {
   "cell_type": "code",
   "execution_count": 39,
   "id": "9eacf405",
   "metadata": {},
   "outputs": [],
   "source": [
    "# Cash flow mapping using two vertices\n",
    "def CFmap2V(maturity, left_maturity, right_maturity, map_type = \"Duration\", \n",
    "            left_vol = None, right_vol = None, left_right_cor = None):\n",
    "    \n",
    "    # Assumption: Cash flow at non-standard maturity is mapped to two vertices, one on the left and one on the right.\n",
    "    # Imposes PV-invariance; may impose duration-invariance or volatility-invariance, but not both.\n",
    "    \n",
    "    # Output: alpha parameter to allocate a PV of 1 to the left vertex T1. \n",
    "    # For the volatility mapping, the function returns two values of alpha. \n",
    "    # We often will choose the alpha that is between 0 and 1.\n",
    "    \n",
    "    # Use mathematical notation for function inputs\n",
    "    T = maturity\n",
    "    T1 = left_maturity\n",
    "    T2 = right_maturity\n",
    "    \n",
    "    if map_type == \"Duration\":\n",
    "        alpha = (T2 - T) / (T2 - T1)\n",
    "        return alpha\n",
    "    \n",
    "    if map_type == \"Volatility\":\n",
    "        \n",
    "        if (left_vol == None or right_vol == None or left_right_cor == None):\n",
    "            print(\"Please provide non-empty volatility-invariant mapping inputs\")\n",
    "        \n",
    "        else:\n",
    "            # Extract volatility-invariant CF map inputs\n",
    "            sigma1 = left_vol\n",
    "            sigma2 = right_vol\n",
    "            rho = left_right_cor\n",
    "            \n",
    "            # Linearly interpolate the variance at the non-standard maturity\n",
    "            sq_sigma_interp = np.interp(x = T, xp = np.array([T1, T2]), fp = np.array([sigma1 ** 2, sigma2 ** 2]))\n",
    "            \n",
    "            # Coefficients of quadratic equation for alpha\n",
    "            a_coeff = sigma1 ** 2 - 2 * rho * sigma1 * sigma2 + sigma2 ** 2\n",
    "            b_coeff = 2 * rho * sigma1 * sigma2 - 2 * sigma2 ** 2\n",
    "            c_coeff = sigma2 ** 2 - sq_sigma_interp\n",
    "            \n",
    "            # Solve quadratic equation for alpha\n",
    "            alpha1 = (-b_coeff + np.sqrt(b_coeff ** 2 - 4 * a_coeff * c_coeff)) / (2 * a_coeff)\n",
    "            alpha2 = (-b_coeff - np.sqrt(b_coeff ** 2 - 4 * a_coeff * c_coeff)) / (2 * a_coeff)\n",
    "            alpha = np.array([alpha1, alpha2])\n",
    "            \n",
    "            return alpha"
   ]
  },
  {
   "cell_type": "markdown",
   "id": "2f287580",
   "metadata": {},
   "source": [
    "## CF Mapping for Bonds\n",
    "\n",
    "The codes below implement the cash flow mapping required in Exercise 2(b) of the Week 4 Workshop Exercises. Exercise 2(a) is answer as part of the volatility-invariant mapping chosen for this implementation."
   ]
  },
  {
   "cell_type": "code",
   "execution_count": 2,
   "id": "90438aa4",
   "metadata": {},
   "outputs": [
    {
     "name": "stdout",
     "output_type": "stream",
     "text": [
      "       Time       CF\n",
      "0  0.425000    2.375\n",
      "1  0.927778    2.375\n",
      "2  1.438889    2.375\n",
      "3  1.944444    2.375\n",
      "4  2.455556  102.375\n"
     ]
    }
   ],
   "source": [
    "# Determine dates of future cash flows for the bond\n",
    "date_today = datetime(2022, 6, 30)\n",
    "date_today_str = '2022-06-30' # For pulling values out of the given market data, as they are (row-)indexed by date\n",
    "coupon_rate = 0.0475\n",
    "coupon_freq = 2\n",
    "principal = 100\n",
    "\n",
    "payment_dates = np.array([datetime(2022, 11, 30), datetime(2023, 5, 30), datetime(2023, 11, 30), \n",
    "                          datetime(2024, 5, 30), datetime(2024, 11, 30)])\n",
    "payment_dates_from_today = payment_dates - date_today\n",
    "\n",
    "cash_flows = np.array([principal * coupon_rate / coupon_freq] * len(payment_dates))\n",
    "cash_flows[len(payment_dates) - 1] = cash_flows[len(payment_dates) - 1] + principal\n",
    "\n",
    "bond_summary = pd.DataFrame({'Time':payment_dates_from_today, 'CF': cash_flows})\n",
    "bond_summary['Time'] = bond_summary['Time'].dt.days / 360\n",
    "print(bond_summary)"
   ]
  },
  {
   "cell_type": "markdown",
   "id": "d8340f74",
   "metadata": {},
   "source": [
    "At this point, we decide the standard vertices (O/N, 1 month, 3 months, 6 months, 9 months, 1 year, 2 years, 3 years) to which we map each of the future cash flows.\n",
    "\n",
    "**ASSUMPTION:** Map each cash flow to the standard vertices immediately to the left and to the right of the time when the cash flow is due.\n",
    "\n",
    "Next, we decide which cash flow mapping technique to use. For illustrative purposes, we shall use the PV-invariant and volatility-invariant mapping. \n",
    "\n",
    "**ASSUMPTION:** Use PV-invariant and volatility-invariant cash flow mapping to map the bond's cash flows to standard maturities.\n",
    "\n",
    "This requires us to calculate the covariances and correlations of returns of the zero coupond bond prices at the standard maturities.\n",
    "\n",
    "*REMARK:* The duration-invariant mapping is easier to implement as it only requires the time points as inputs for the mapping. This shall be left as an exercise for you."
   ]
  },
  {
   "cell_type": "code",
   "execution_count": 3,
   "id": "9449631c",
   "metadata": {},
   "outputs": [],
   "source": [
    "# Compute one-day percentage returns in zero coupon bond prices\n",
    "auszero = pd.read_csv('AustraliaZeroCurve.csv', index_col = 0)\n",
    "maturities = np.array([1/360, 3/12, 6/12, 9/12, 1, 2, 3, 4, 5, 6, 7])\n",
    "auszerobond = np.exp(- auszero * maturities / 100)     # Divide by 100 since the zero rates are in percentage POINTS\n",
    "auszerobond_ret = auszerobond.pct_change().tail(-1)\n",
    "\n",
    "# Compute covariance and correlation matrices in ZCB price returns\n",
    "auszerobond_ret_cov = auszerobond_ret.cov()\n",
    "auszerobond_ret_corr = auszerobond_ret.corr()"
   ]
  },
  {
   "cell_type": "markdown",
   "id": "a108dafd",
   "metadata": {},
   "source": [
    "We are now ready to perform the volatility-invariant cash flow mapping. The following codes automate the process using a for-loop over all maturities. The for-loop may also go through future cash flows that occur at a standard maturity, but will perform a check before implementing the volatility-invariant mapping via `CFmap2V()`.\n",
    "\n",
    "Before the for-loop, we construct an empty data frame `cf_summary` (containing only zeros) with number of rows equal to the number of future cash flows and number of columns equal to the number of standard maturities. This is where we will store the cash flow mapping results.\n",
    "\n",
    "*REMARK:* Commented out below is an attempt to summarize the cash flows using the `bond_summary` table generated above. However, it is difficult to obtain the **total** cash flow mapped to each standard vertex using this layout."
   ]
  },
  {
   "cell_type": "code",
   "execution_count": 1,
   "id": "c554e457",
   "metadata": {},
   "outputs": [
    {
     "ename": "NameError",
     "evalue": "name 'pd' is not defined",
     "output_type": "error",
     "traceback": [
      "\u001b[1;31m---------------------------------------------------------------------------\u001b[0m",
      "\u001b[1;31mNameError\u001b[0m                                 Traceback (most recent call last)",
      "Cell \u001b[1;32mIn[1], line 7\u001b[0m\n\u001b[0;32m      1\u001b[0m \u001b[39m# Cash flow mapping for all future cash flows\u001b[39;00m\n\u001b[0;32m      2\u001b[0m \n\u001b[0;32m      3\u001b[0m \u001b[39m# # Construct blank columns in bond_summary to store the cash flow mapping results\u001b[39;00m\n\u001b[0;32m      4\u001b[0m \u001b[39m# bond_summary['LeftVertex'] = bond_summary['RightVertex'] = bond_summary['MapCoeff'] = None\u001b[39;00m\n\u001b[0;32m      5\u001b[0m \n\u001b[0;32m      6\u001b[0m \u001b[39m# Alternative summary of cash flow mapping results\u001b[39;00m\n\u001b[1;32m----> 7\u001b[0m cf_summary \u001b[39m=\u001b[39m pd\u001b[39m.\u001b[39mDataFrame(\u001b[39m0\u001b[39m, index \u001b[39m=\u001b[39m bond_summary[\u001b[39m'\u001b[39m\u001b[39mTime\u001b[39m\u001b[39m'\u001b[39m], columns \u001b[39m=\u001b[39m maturities)\n\u001b[0;32m      9\u001b[0m \u001b[39mfor\u001b[39;00m i \u001b[39min\u001b[39;00m \u001b[39mrange\u001b[39m(\u001b[39m0\u001b[39m, \u001b[39mlen\u001b[39m(payment_dates)):\n\u001b[0;32m     10\u001b[0m     \n\u001b[0;32m     11\u001b[0m     \u001b[39m# Extract maturity of ith cash flow\u001b[39;00m\n\u001b[0;32m     12\u001b[0m     nonstd_maturity \u001b[39m=\u001b[39m bond_summary[\u001b[39m'\u001b[39m\u001b[39mTime\u001b[39m\u001b[39m'\u001b[39m]\u001b[39m.\u001b[39mloc[i]\n",
      "\u001b[1;31mNameError\u001b[0m: name 'pd' is not defined"
     ]
    }
   ],
   "source": [
    "# Cash flow mapping for all future cash flows\n",
    "\n",
    "# # Construct blank columns in bond_summary to store the cash flow mapping results\n",
    "# bond_summary['LeftVertex'] = bond_summary['RightVertex'] = bond_summary['MapCoeff'] = None\n",
    "\n",
    "# Alternative summary of cash flow mapping results\n",
    "cf_summary = pd.DataFrame(0, index = bond_summary['Time'], columns = maturities)\n",
    "\n",
    "for i in range(0, len(payment_dates)):\n",
    "    \n",
    "    # Extract maturity of ith cash flow\n",
    "    nonstd_maturity = bond_summary['Time'].loc[i]\n",
    "    \n",
    "    # Determine the left and right standard vertices\n",
    "    left_time_subset = np.where(maturities <= nonstd_maturity)\n",
    "    left_mat_ind = max(left_time_subset[0])\n",
    "    left_mat = maturities[left_mat_ind]\n",
    "    \n",
    "    right_time_subset = np.where(maturities >= nonstd_maturity)\n",
    "    right_mat_ind = min(right_time_subset[0])\n",
    "    right_mat = maturities[right_mat_ind]\n",
    "    \n",
    "    # Check if maturity of the ith cash flow is a standard maturity\n",
    "    if (nonstd_maturity == left_mat) or (nonstd_maturity == right_mat):\n",
    "        map_coeff = 1\n",
    "        \n",
    "    else: # Proceed with cash flow mapping\n",
    "        \n",
    "        # Extract volatilities and correlation from ZCB return covariance and correlation matrices\n",
    "        right_mat_var = auszerobond_ret_cov.iloc[right_mat_ind, right_mat_ind]\n",
    "        left_mat_var = auszerobond_ret_cov.iloc[left_mat_ind, left_mat_ind]\n",
    "        left_right_corr = auszerobond_ret_corr.iloc[right_mat_ind, left_mat_ind]\n",
    "        \n",
    "        # Implement volatility-invariant cash flow mapping\n",
    "        map_coeff = CFmap2V(maturity = nonstd_maturity, left_maturity = left_mat, right_maturity = right_mat,\n",
    "                            map_type = \"Volatility\", left_vol = left_mat_var ** 0.5, right_vol = right_mat_var ** 0.5,\n",
    "                            left_right_cor = left_right_corr)\n",
    "        map_coeff = map_coeff[np.where((map_coeff >= 0) & (map_coeff <= 1))[0]]\n",
    "    \n",
    "#     # Summarize results\n",
    "#     bond_summary.at[i, 'LeftVertex'] = left_mat\n",
    "#     bond_summary.at[i, 'RightVertex'] = right_mat\n",
    "#     bond_summary.at[i, 'MapCoeff'] = map_coeff[0]\n",
    "    \n",
    "    # Cash flow mapping summary\n",
    "    cf_summary.at[nonstd_maturity, left_mat] = map_coeff[0]\n",
    "    cf_summary.at[nonstd_maturity, right_mat] = 1 - map_coeff[0]\n",
    "\n",
    "# bond_summary['CFatLeftVertex'] = bond_summary['CF'] * bond_summary['MapCoeff']\n",
    "# bond_summary['CFatRightVertex'] = bond_summary['CF'] * (1 - bond_summary['MapCoeff'])"
   ]
  },
  {
   "cell_type": "code",
   "execution_count": 5,
   "id": "63f3f6b7",
   "metadata": {},
   "outputs": [
    {
     "data": {
      "text/plain": [
       "0.002778     0.000000\n",
       "0.250000     0.504374\n",
       "0.500000     1.870626\n",
       "0.750000     0.555421\n",
       "1.000000     2.896767\n",
       "2.000000    51.186511\n",
       "3.000000    54.861301\n",
       "4.000000     0.000000\n",
       "5.000000     0.000000\n",
       "6.000000     0.000000\n",
       "7.000000     0.000000\n",
       "dtype: float64"
      ]
     },
     "execution_count": 5,
     "metadata": {},
     "output_type": "execute_result"
    }
   ],
   "source": [
    "# Multiply each column of cf_summary by the cash flows in bond_summary\n",
    "cf_summary = cf_summary.apply(lambda x: np.asarray(x) * np.asarray(bond_summary['CF']))\n",
    "\n",
    "# Obtain column sums to determine the amount mapped to each standard vertex\n",
    "cf_summary = cf_summary.sum()\n",
    "cf_summary"
   ]
  },
  {
   "cell_type": "markdown",
   "id": "5a14d1f8",
   "metadata": {},
   "source": [
    "The value of the bond therefore has the following representation with respect to zero coupon bonds expiring at the standard maturities, \n",
    "\n",
    "\\begin{align*}\n",
    "    B & = 0.5050 \\cdot P(0,0.25) + 1.8700 \\cdot P(0,0.5) + 0.5538 \\cdot P(0,0.75) + 2.8923 \\cdot P(0,1)\\\\\n",
    "      & \\qquad + 50.8841 \\cdot P(0,2) + 55.1698 \\cdot P(0,3)\n",
    "\\end{align*}\n",
    "\n",
    "However, for VaR calculations, we need to map the *change in* the bond value to the percentage returns in the risk factors,\n",
    "\n",
    "\\begin{align*}\n",
    "    \\Delta B\n",
    "        & = 0.5050 \\cdot \\Delta P(0,0.25) + 1.8700 \\cdot \\Delta P(0,0.5) + 0.5538 \\cdot \\Delta P(0,0.75) + 2.8923 \\cdot \\Delta P(0,1)\\\\\n",
    "        & \\qquad + 50.8841 \\cdot \\Delta P(0,2) + 55.1698 \\cdot \\Delta P(0,3)\\\\\n",
    "        & = 0.5050  P(0,0.25) \\frac{\\Delta P(0,0.25)}{P(0,0.25)} + 1.8700 P(0,0.5) \\frac{\\Delta P(0,0.5)}{P(0,0.5)} + 0.5538 P(0,0.75) \\frac{\\Delta P(0,0.75)}{P(0,0.75)} + 2.8923 P(0,1) \\frac{\\Delta P(0,1)}{P(0,1)}\\\\\n",
    "        & \\qquad + 50.8841 P(0,2) \\frac{\\Delta P(0,2)}{P(0,2)} + 55.1698 P(0,3) \\frac{\\Delta P(0,3)}{P(0,3)}.\n",
    "\\end{align*}\n",
    "\n",
    "The coefficient of each $P(0,T_i)$ is called the *(dollar) exposure* of the bond value to the risk factor $\\frac{\\Delta P(0,T_i)}{P(0,T_i)}$ and is given by the present value of the cash flow mapped to that standard vertex (e.g. $0.5050 P(0,0.25)$ is the present value of the cash flow received at the maturity $T = 0.25$).\n",
    "\n",
    "The codes below calculate the present value of each of the mapped cash flows. "
   ]
  },
  {
   "cell_type": "code",
   "execution_count": 6,
   "id": "a5a7a7c1",
   "metadata": {},
   "outputs": [
    {
     "data": {
      "text/html": [
       "<div>\n",
       "<style scoped>\n",
       "    .dataframe tbody tr th:only-of-type {\n",
       "        vertical-align: middle;\n",
       "    }\n",
       "\n",
       "    .dataframe tbody tr th {\n",
       "        vertical-align: top;\n",
       "    }\n",
       "\n",
       "    .dataframe thead th {\n",
       "        text-align: right;\n",
       "    }\n",
       "</style>\n",
       "<table border=\"1\" class=\"dataframe\">\n",
       "  <thead>\n",
       "    <tr style=\"text-align: right;\">\n",
       "      <th></th>\n",
       "      <th>CF</th>\n",
       "      <th>DF</th>\n",
       "      <th>PV of CF</th>\n",
       "    </tr>\n",
       "  </thead>\n",
       "  <tbody>\n",
       "    <tr>\n",
       "      <th>0.002778</th>\n",
       "      <td>0.000000</td>\n",
       "      <td>0.999978</td>\n",
       "      <td>0.000000</td>\n",
       "    </tr>\n",
       "    <tr>\n",
       "      <th>0.250000</th>\n",
       "      <td>0.504374</td>\n",
       "      <td>0.995933</td>\n",
       "      <td>0.502323</td>\n",
       "    </tr>\n",
       "    <tr>\n",
       "      <th>0.500000</th>\n",
       "      <td>1.870626</td>\n",
       "      <td>0.988862</td>\n",
       "      <td>1.849792</td>\n",
       "    </tr>\n",
       "    <tr>\n",
       "      <th>0.750000</th>\n",
       "      <td>0.555421</td>\n",
       "      <td>0.980542</td>\n",
       "      <td>0.544614</td>\n",
       "    </tr>\n",
       "    <tr>\n",
       "      <th>1.000000</th>\n",
       "      <td>2.896767</td>\n",
       "      <td>0.972097</td>\n",
       "      <td>2.815937</td>\n",
       "    </tr>\n",
       "    <tr>\n",
       "      <th>2.000000</th>\n",
       "      <td>51.186511</td>\n",
       "      <td>0.941953</td>\n",
       "      <td>48.215282</td>\n",
       "    </tr>\n",
       "    <tr>\n",
       "      <th>3.000000</th>\n",
       "      <td>54.861301</td>\n",
       "      <td>0.912014</td>\n",
       "      <td>50.034272</td>\n",
       "    </tr>\n",
       "    <tr>\n",
       "      <th>4.000000</th>\n",
       "      <td>0.000000</td>\n",
       "      <td>0.879502</td>\n",
       "      <td>0.000000</td>\n",
       "    </tr>\n",
       "    <tr>\n",
       "      <th>5.000000</th>\n",
       "      <td>0.000000</td>\n",
       "      <td>0.846200</td>\n",
       "      <td>0.000000</td>\n",
       "    </tr>\n",
       "    <tr>\n",
       "      <th>6.000000</th>\n",
       "      <td>0.000000</td>\n",
       "      <td>0.813020</td>\n",
       "      <td>0.000000</td>\n",
       "    </tr>\n",
       "    <tr>\n",
       "      <th>7.000000</th>\n",
       "      <td>0.000000</td>\n",
       "      <td>0.781063</td>\n",
       "      <td>0.000000</td>\n",
       "    </tr>\n",
       "  </tbody>\n",
       "</table>\n",
       "</div>"
      ],
      "text/plain": [
       "                 CF        DF   PV of CF\n",
       "0.002778   0.000000  0.999978   0.000000\n",
       "0.250000   0.504374  0.995933   0.502323\n",
       "0.500000   1.870626  0.988862   1.849792\n",
       "0.750000   0.555421  0.980542   0.544614\n",
       "1.000000   2.896767  0.972097   2.815937\n",
       "2.000000  51.186511  0.941953  48.215282\n",
       "3.000000  54.861301  0.912014  50.034272\n",
       "4.000000   0.000000  0.879502   0.000000\n",
       "5.000000   0.000000  0.846200   0.000000\n",
       "6.000000   0.000000  0.813020   0.000000\n",
       "7.000000   0.000000  0.781063   0.000000"
      ]
     },
     "execution_count": 6,
     "metadata": {},
     "output_type": "execute_result"
    }
   ],
   "source": [
    "# Extract discount factors/zero coupon bond prices for today (convert to array)\n",
    "discount_factors = auszerobond.loc[date_today_str].to_numpy()\n",
    "\n",
    "# Compute discounted cash flows and summarize in tabular form\n",
    "cf_summary_df = pd.DataFrame({'CF' : cf_summary, 'DF' : discount_factors})\n",
    "cf_summary_df['PV of CF'] = cf_summary_df['CF'] * cf_summary_df['DF']\n",
    "cf_summary_df"
   ]
  },
  {
   "cell_type": "markdown",
   "id": "0f34c1c9",
   "metadata": {},
   "source": [
    "The `PV of CF` column in the table above provides the dollar exposure of the bond value to each risk factor. This completes the risk factor mapping for the bond (using volatility-invariant cash flow mapping)."
   ]
  },
  {
   "cell_type": "markdown",
   "id": "637fd837",
   "metadata": {},
   "source": [
    "## Risk Factor Mapping for Currency Forward Contracts\n",
    "\n",
    "Recall that the value of a currency forward today ($t = 0$) is given by \n",
    "\n",
    "$$f := f(0) = S(0) e^{-r_f T} - K e^{-r T} = s P_f(0,T) - K P_d(0,T),$$ \n",
    "\n",
    "where $s := S(0)$ is the spot exchange rate today (domestic currency per unit foreign currency), $K$ is the contractual forward exchange rate (domestic currency per unit foreign currency), $P_f(0,T)$ is the price of a zero coupon bond in the foreign market with maturity $T$ (corresponding to the foreign zero rate $r_f$), and $P_d(0,T)$ is the price of a zero coupon bond in the domestic market with maturity $T$ (corresponding to the domestic zero rate $r$).\n",
    "\n",
    "To calculate the value of the contract, we need data on AUD-USD exchange rates `AUDExchangeRates.csv`, Australian zero rates (already loaded above), and US zero rates `USZeroCurve.csv`."
   ]
  },
  {
   "cell_type": "code",
   "execution_count": 21,
   "id": "217efe55",
   "metadata": {},
   "outputs": [
    {
     "data": {
      "text/plain": [
       "0.014286231683982242"
      ]
     },
     "execution_count": 21,
     "metadata": {},
     "output_type": "execute_result"
    }
   ],
   "source": [
    "# Load data files\n",
    "audfxrate = pd.read_csv('AUDExchangeRates.csv', index_col = 0)\n",
    "uszero = pd.read_csv('USZeroCurve.csv', index_col = 0)\n",
    "\n",
    "# Express exchange rates in domestic currency per unit foreign currency\n",
    "audfxrate = 1 / audfxrate\n",
    "\n",
    "# Compute US zero coupon bond prices\n",
    "maturities = np.array([1/360, 3/12, 6/12, 9/12, 1, 2, 3, 4, 5, 6, 7])\n",
    "uszerobond = np.exp(-uszero * maturities / 100)\n",
    "\n",
    "# Extract data required for mark-to-market valuation\n",
    "fwd_mat =  3 / 12\n",
    "fwd_fx = 1 / 0.75\n",
    "spot_fx = audfxrate.at['2021-12-21', 'USD']\n",
    "zcb_f = uszerobond.at['2021-12-21', 'US00Y03']\n",
    "zcb_d = auszerobond.at['2021-12-21', 'AU00Y03']\n",
    "\n",
    "# Calculate foward contract value (on USD 1.00)\n",
    "fwd_val = spot_fx * zcb_f - fwd_fx * zcb_d     # Value in AUD per USD\n",
    "fwd_val"
   ]
  },
  {
   "cell_type": "markdown",
   "id": "e25796fa",
   "metadata": {},
   "source": [
    "In what follows, it is sufficient to map the change in the forward contract value written on USD 1.00, since the change scales linearly in the number of units of the underlying. The value of the entire position will be `fwd_val * 100,000,000`."
   ]
  },
  {
   "cell_type": "markdown",
   "id": "465e9bd2",
   "metadata": {},
   "source": [
    "**ASSUMPTION:** We assume that changes in the forward contract are linear in the returns of the risk factors.\n",
    "\n",
    "From page 7 of the Week 4 Workshop notes, the (linear) mapping of changes in the forward contract value to returns of the spot exchange rate, the foreign zero *rate*, and the domestic zero *rate* is given by\n",
    "\n",
    "$$\\Delta f = se^{-r_f T} \\frac{\\Delta s}{s} - s r_f T e^{-r_f T} \\frac{\\Delta r_f}{r_f} + K r T e^{-rT}\\frac{\\Delta r}{r} = \\left[\\begin{array}{ccc} se^{-r_f T} & - s r_f T e^{-r_f T} & K r T e^{-rT}\\end{array}\\right] \\left[\\begin{array}{c} \\frac{\\Delta s}{s} \\\\ \\frac{\\Delta r_f}{r_f} \\\\ \\frac{\\Delta r}{r}\\end{array}\\right].$$\n",
    "\n",
    "*REMARK:* In this case, $\\Delta f$ represents the change in the value of a currency forward contract written on USD 1.00. To get the change in the value of the forward contract on USD 100 million, we multiply $\\Delta f$ by 100,000,000.\n",
    "\n",
    "We first (manually) compute the exposure of the forward contract to each risk factor. For this, we also need to know the appropriate zero rates in the foreign and domestic markets."
   ]
  },
  {
   "cell_type": "code",
   "execution_count": 22,
   "id": "7a942cba",
   "metadata": {},
   "outputs": [
    {
     "data": {
      "text/plain": [
       "array([ 1.34751957, -0.95454917,  0.00999925])"
      ]
     },
     "execution_count": 22,
     "metadata": {},
     "output_type": "execute_result"
    }
   ],
   "source": [
    "r_f = uszero.at['2021-12-21', 'US00Y03']\n",
    "r_d = auszero.at['2021-12-21', 'AU00Y03']\n",
    "\n",
    "exposure = np.array([spot_fx * zcb_f, -spot_fx * r_f * fwd_mat * zcb_f, fwd_fx * r_d * fwd_mat * zcb_d])\n",
    "exposure"
   ]
  },
  {
   "cell_type": "markdown",
   "id": "f2453ac7",
   "metadata": {},
   "source": [
    "To complete the risk factor mapping, we construct the covariance and correlation matrices of the risk factors."
   ]
  },
  {
   "cell_type": "code",
   "execution_count": 36,
   "id": "1cee8268",
   "metadata": {},
   "outputs": [
    {
     "name": "stdout",
     "output_type": "stream",
     "text": [
      "               SpotFx        USZero   AUSZero\n",
      "SpotFx   3.852277e-05  4.537494e-07 -0.000022\n",
      "USZero   4.537494e-07  5.839251e-05 -0.000017\n",
      "AUSZero -2.153800e-05 -1.722416e-05  0.020375\n",
      "           SpotFx    USZero   AUSZero\n",
      "SpotFx   1.000000  0.009567 -0.024236\n",
      "USZero   0.009567  1.000000 -0.015576\n",
      "AUSZero -0.024236 -0.015576  1.000000\n"
     ]
    }
   ],
   "source": [
    "# Construct time series of risk factors from given data\n",
    "risk_factors = pd.DataFrame({'SpotFx' : audfxrate['USD'], 'USZero' : uszero['US00Y03'], 'AUSZero' : auszero['AU00Y03']})\n",
    "\n",
    "# Construct one-day percentage returns of the risk factors\n",
    "risk_factors_ret = risk_factors.pct_change().tail(-1)\n",
    "\n",
    "# Determine covariance and correlation matrices\n",
    "risk_factors_cov = risk_factors_ret.cov()\n",
    "risk_factors_corr = risk_factors_ret.corr()\n",
    "\n",
    "print(risk_factors_cov)\n",
    "print(risk_factors_corr)"
   ]
  },
  {
   "cell_type": "markdown",
   "id": "4b623067",
   "metadata": {},
   "source": [
    "An alternative mapping is with respect to the spot exchange rate, the foreign zero *coupon bond*, and the domestic zero *coupon bond* (see equation (5) of page 8 of the notes),\n",
    "\n",
    "$$\\Delta f = s P_f \\frac{\\Delta s}{s} + s P_f \\frac{\\Delta P_f}{P_f} - K P_d \\frac{\\Delta P_d}{P_d} = \\left[\\begin{array}{ccc} s P_f & s P_f & -K P_d\\end{array}\\right] \\left[\\begin{array}{c} \\frac{\\Delta s}{s} \\\\ \\frac{\\Delta P_f}{P_f} \\\\ \\frac{\\Delta P_d}{P_d} \\end{array}\\right].$$\n",
    "\n",
    "(We omit the time arguments in the notation for the zero coupon bond prices as we do not consider any other maturities/expiry dates in this problem.) The exposures with respect to each risk factor and the covariance and correlation matrices of the risk factors are calculated below."
   ]
  },
  {
   "cell_type": "code",
   "execution_count": 37,
   "id": "2fa6d075",
   "metadata": {},
   "outputs": [
    {
     "name": "stdout",
     "output_type": "stream",
     "text": [
      "[ 1.34751957  1.34751957 -1.33323334]\n",
      "                   SpotFx    USZeroBond   AUSZeroBond\n",
      "SpotFx       3.852277e-05 -2.991834e-09 -6.075215e-09\n",
      "USZeroBond  -2.991834e-09  1.821241e-09 -1.746161e-10\n",
      "AUSZeroBond -6.075215e-09 -1.746161e-10  2.602657e-09\n",
      "               SpotFx  USZeroBond  AUSZeroBond\n",
      "SpotFx       1.000000   -0.011295    -0.019186\n",
      "USZeroBond  -0.011295    1.000000    -0.080203\n",
      "AUSZeroBond -0.019186   -0.080203     1.000000\n"
     ]
    }
   ],
   "source": [
    "# Calculate exposures\n",
    "exposure2 = np.array([spot_fx * zcb_f, spot_fx * zcb_f, -fwd_fx * zcb_d])\n",
    "print(exposure2)\n",
    "\n",
    "# Construct time series of risk factors from given data\n",
    "risk_factors2 = pd.DataFrame({'SpotFx' : audfxrate['USD'], 'USZeroBond' : uszerobond['US00Y03'], \n",
    "                              'AUSZeroBond' : auszerobond['AU00Y03']})\n",
    "\n",
    "# Construct one-day percentage returns of the risk factors\n",
    "risk_factors2_ret = risk_factors2.pct_change().tail(-1)\n",
    "\n",
    "# Determine covariance and correlation matrices\n",
    "risk_factors2_cov = risk_factors2_ret.cov()\n",
    "risk_factors2_corr = risk_factors2_ret.corr()\n",
    "\n",
    "print(risk_factors2_cov)\n",
    "print(risk_factors2_corr)"
   ]
  },
  {
   "cell_type": "markdown",
   "id": "fc58c801",
   "metadata": {},
   "source": [
    "## Risk Factor Mapping for European Options\n",
    "\n",
    "Before we perform the risk factor mapping, we first recall the formulas/codes for the European option price, delta, and gamma under the Black-Scholes-Merton model."
   ]
  },
  {
   "cell_type": "code",
   "execution_count": 40,
   "id": "fc427b3a",
   "metadata": {},
   "outputs": [],
   "source": [
    "# Pricing function for European calls and puts\n",
    "def BSprice(spot_price, strike_price, time_to_maturity, risk_free_rate, dividend_yield, volatility, option_type):\n",
    "    \n",
    "    # Use mathematical notation for function inputs\n",
    "    s = spot_price\n",
    "    K = strike_price\n",
    "    tau = time_to_maturity # (T-t) in notes\n",
    "    r = risk_free_rate\n",
    "    q = dividend_yield\n",
    "    sigma = volatility\n",
    "    \n",
    "    # Calculate d1 and d2\n",
    "    d1 = (np.log(s / K) + (r - q + 0.5 * sigma ** 2) * tau) / (sigma * np.sqrt(tau))\n",
    "    d2 = d1 - sigma * np.sqrt(tau)\n",
    "    \n",
    "    # Calculate option prices\n",
    "    if option_type == 'call':\n",
    "        price = (np.exp(-q * tau) * s * sp.stats.norm.cdf(d1, 0.0, 1.0) \\\n",
    "                 - np.exp(-r * tau) * K * sp.stats.norm.cdf(d2, 0.0, 1.0))\n",
    "        \n",
    "    if option_type == 'put':\n",
    "        price = (np.exp(-r * tau) * K * sp.stats.norm.cdf(-d2, 0.0, 1.0) \\\n",
    "                 - np.exp(-q * tau) * s * sp.stats.norm.cdf(-d1, 0.0, 1.0))\n",
    "        \n",
    "    return price"
   ]
  },
  {
   "cell_type": "code",
   "execution_count": 41,
   "id": "866624eb",
   "metadata": {},
   "outputs": [],
   "source": [
    "# Function to calculate option delta under the Black-Scholes-Merton model\n",
    "def BSdelta(spot_price, strike_price, time_to_maturity, risk_free_rate, dividend_yield, volatility, option_type):\n",
    "    \n",
    "    # Use mathematical notation for function inputs\n",
    "    s = spot_price\n",
    "    K = strike_price\n",
    "    tau = time_to_maturity # (T-t) in notes\n",
    "    r = risk_free_rate\n",
    "    q = dividend_yield\n",
    "    sigma = volatility\n",
    "    \n",
    "    # Calculate d1 and d2\n",
    "    d1 = (np.log(s / K) + (r - q + 0.5 * sigma ** 2) * tau) / (sigma * np.sqrt(tau))\n",
    "    \n",
    "    # Calculate option delta\n",
    "    if option_type == 'call':\n",
    "        value = sp.stats.norm.cdf(d1, 0.0, 1.0)\n",
    "    \n",
    "    if option_type == 'put':\n",
    "        value = sp.stats.norm.cdf(d1, 0.0, 1.0) - 1\n",
    "    \n",
    "    return value    "
   ]
  },
  {
   "cell_type": "code",
   "execution_count": 42,
   "id": "c6f001ce",
   "metadata": {},
   "outputs": [],
   "source": [
    "# Function to calculate option gamma under the Black-Scholes-Merton model\n",
    "def BSgamma(spot_price, strike_price, time_to_maturity, risk_free_rate, dividend_yield, volatility):\n",
    "    \n",
    "    # Use mathematical notation for function inputs\n",
    "    s = spot_price\n",
    "    K = strike_price\n",
    "    tau = time_to_maturity # (T-t) in notes\n",
    "    r = risk_free_rate\n",
    "    q = dividend_yield\n",
    "    sigma = volatility\n",
    "    \n",
    "    # Compute option gamma (same for calls and puts)\n",
    "    d1 = (np.log(s / K) + (r - q + 0.5 * sigma ** 2) * tau) / (sigma * np.sqrt(tau))\n",
    "    value = sp.stats.norm.pdf(d1, 0.0, 1.0) / (s * sigma * np.sqrt(tau))\n",
    "    \n",
    "    return value"
   ]
  },
  {
   "cell_type": "markdown",
   "id": "5c6c9e0d",
   "metadata": {},
   "source": [
    "To calculate the required quantities, we need the following inputs:\n",
    "1. Spot price of one share of stock of CBA $s$ (get from data)\n",
    "2. Strike price $K = 95$\n",
    "3. Time to maturity $T = 6/12 = 0.5$\n",
    "4. (Australian) risk-free rate with 6-month maturity $r$ (get from data)\n",
    "5. ANNUALIZED volatility of returns in the stock price $\\sigma$ ()\n",
    "\n",
    "An estimator for $\\sigma$ is given by \n",
    "\n",
    "$$\\hat{\\sigma} = \\frac{\\text{Std. Dev. of daily LOG-returns of the stock price}}{\\sqrt{1 / 360}}$$\n",
    "\n",
    "To compute this estimator, we will use the entire time series of CBA stock prices.\n",
    "\n",
    "*REMARK:* The definition of $\\sigma$ as the annualized volatility of the underlying stock price and the consequent estimator is discussed in further detail in e.g. Hull (2021; Chapter 15). Essentially, this results from the Black-Scholes-Merton model assumption that the log-returns have a normal distribution (i.e. stock prices have a log-normal distribution)\n",
    "\n",
    "*REMARK:* The denominator depends on the chosen day-count convention (specifically the equivalent of one day in years)."
   ]
  },
  {
   "cell_type": "code",
   "execution_count": 57,
   "id": "3eb01977",
   "metadata": {},
   "outputs": [],
   "source": [
    "# Load stock price data\n",
    "stockprice = pd.read_csv('AustraliaStockPrices.csv', index_col = 0)\n",
    "stockprice.head()\n",
    "\n",
    "# Set inputs\n",
    "spot = stockprice.at['2022-07-29', 'CBA']\n",
    "strike = 95\n",
    "maturity = 0.5\n",
    "r = auszero.at['2022-07-29', 'AU00Y06'] / 100\n",
    "\n",
    "# Estimate annualized volatility\n",
    "from statistics import stdev\n",
    "cba_logret = np.log(stockprice['CBA']).diff().tail(-1)     # Daily log-returns\n",
    "vol_est = stdev(cba_logret) / ((1 / 360) ** 0.5)"
   ]
  },
  {
   "cell_type": "code",
   "execution_count": 58,
   "id": "ec16b9b9",
   "metadata": {},
   "outputs": [
    {
     "data": {
      "text/plain": [
       "11.006357816440243"
      ]
     },
     "execution_count": 58,
     "metadata": {},
     "output_type": "execute_result"
    }
   ],
   "source": [
    "# Compute option price\n",
    "op_price = BSprice(spot, strike, maturity, r, 0, vol_est, 'call')\n",
    "op_price"
   ]
  },
  {
   "cell_type": "markdown",
   "id": "a7f4ae6a",
   "metadata": {},
   "source": [
    "A linear mapping of the changes in the call option price with respect to the underlying stock price and the risk-free rate is given by \n",
    "\n",
    "$$\\Delta c = \\frac{\\partial c}{\\partial s} \\Delta s + \\frac{\\partial c}{\\partial r} \\Delta r = s \\frac{\\partial c}{\\partial s} \\frac{\\Delta s}{s} + r\\frac{\\partial c}{\\partial r} \\frac{\\Delta r}{r}.$$\n",
    "\n",
    "The partial derivative $\\partial c / \\partial s$ can be computed using the `BSdelta()` function defined above. However, $\\partial c / \\partial r$, which is the *rho* of the call option, must be calculated using the formula\n",
    "\n",
    "$$\\frac{\\partial c}{\\partial r} = K T e^{-rT} \\Phi(d_2(0,s)), \\qquad \\text{where } d_2(t,s) = \\frac{\\ln(s/K) + (r + \\frac{1}{2} \\sigma^2) (T-t)}{\\sigma \\sqrt{T-t}} - \\sigma\\sqrt{T-t},$$\n",
    "\n",
    "and $\\Phi(\\cdot)$ is the cdf of the standard normal distribution (see page 11 of Week 2 Workshop notes). For this particular exercise, the rho can be calculated manually or a function can be defined to do so; we choose to define a function in case this calculation is needed in the future.\n",
    "\n",
    "*REMARK:* For a put option, the rho is given by $\\frac{\\partial p}{\\partial r} = -K T e^{-rT} \\Phi(-d_2(0,s)).$"
   ]
  },
  {
   "cell_type": "code",
   "execution_count": 59,
   "id": "bbc0227c",
   "metadata": {},
   "outputs": [],
   "source": [
    "# Function to calculate option rho under the Black-Scholes-Merton model\n",
    "def BSrho(spot_price, strike_price, time_to_maturity, risk_free_rate, dividend_yield, volatility, option_type):\n",
    "    \n",
    "    # Use mathematical notation for function inputs\n",
    "    s = spot_price\n",
    "    K = strike_price\n",
    "    tau = time_to_maturity # (T-t) in notes\n",
    "    r = risk_free_rate\n",
    "    q = dividend_yield\n",
    "    sigma = volatility\n",
    "    \n",
    "    # Calculate d1 and d2\n",
    "    d1 = (np.log(s / K) + (r - q + 0.5 * sigma ** 2) * tau) / (sigma * np.sqrt(tau))\n",
    "    d2 = d1 - sigma * np.sqrt(tau)\n",
    "    \n",
    "    # Calculate option delta\n",
    "    if option_type == 'call':\n",
    "        value = K * tau * np.exp(-r * tau) * sp.stats.norm.cdf(d2, 0.0, 1.0)\n",
    "    \n",
    "    if option_type == 'put':\n",
    "        value = -K * tau * np.exp(-r * tau) * sp.stats.norm.cdf(-d2, 0.0, 1.0)\n",
    "    \n",
    "    return value"
   ]
  },
  {
   "cell_type": "markdown",
   "id": "4da87daf",
   "metadata": {},
   "source": [
    "We first calculate the exposure with respect to each risk factor"
   ]
  },
  {
   "cell_type": "code",
   "execution_count": 60,
   "id": "5a6cca9d",
   "metadata": {},
   "outputs": [
    {
     "data": {
      "text/plain": [
       "array([69.28393673,  0.74595301])"
      ]
     },
     "execution_count": 60,
     "metadata": {},
     "output_type": "execute_result"
    }
   ],
   "source": [
    "# Calculate required Greeks\n",
    "op_delta = BSdelta(spot, strike, maturity, r, 0, vol_est, 'call')\n",
    "op_rho = BSrho(spot, strike, maturity, r, 0, vol_est, 'call')\n",
    "\n",
    "# Calculate exposures\n",
    "exposure = np.array([spot * op_delta, r * op_rho])\n",
    "exposure"
   ]
  },
  {
   "cell_type": "markdown",
   "id": "d4e91f8b",
   "metadata": {},
   "source": [
    "Finally, we construct the time series of returns in the underlying stock price and the zero rate and calculate the covariance matrix from there."
   ]
  },
  {
   "cell_type": "code",
   "execution_count": 62,
   "id": "7749cd28",
   "metadata": {},
   "outputs": [
    {
     "name": "stdout",
     "output_type": "stream",
     "text": [
      "              StockPrice  RiskFreeRate\n",
      "StockPrice       0.00018     -0.000010\n",
      "RiskFreeRate    -0.00001      0.004574\n",
      "              StockPrice  RiskFreeRate\n",
      "StockPrice      1.000000     -0.010966\n",
      "RiskFreeRate   -0.010966      1.000000\n"
     ]
    }
   ],
   "source": [
    "# Construct time series of risk factors\n",
    "risk_factors = pd.DataFrame({'StockPrice' : stockprice['CBA'], 'RiskFreeRate' : auszero['AU00Y06']})\n",
    "\n",
    "# Construct one-day percentage returns of the risk factors\n",
    "risk_factors_ret = risk_factors.pct_change().tail(-1)\n",
    "\n",
    "# Determine covariance and correlation matrices\n",
    "risk_factors_cov = risk_factors_ret.cov()\n",
    "risk_factors_corr = risk_factors_ret.corr()\n",
    "\n",
    "print(risk_factors_cov)\n",
    "print(risk_factors_corr)"
   ]
  },
  {
   "cell_type": "markdown",
   "id": "4e9fb3ab",
   "metadata": {},
   "source": [
    "A more popular risk factor mapping for European call options maps changes in the option price to the return and squared return of the underlying stock price. This mapping is referred to as the *delta-gamma* approximation and is given by\n",
    "\n",
    "$$\\Delta c = s \\frac{\\partial c}{\\partial s} \\frac{\\Delta s}{s} + \\frac{1}{2} s^2 \\frac{\\partial^2 c}{\\partial s^2} \\left(\\frac{\\Delta s}{s}\\right)^2.$$\n",
    "\n",
    "To establish this mapping, we need the option gamma (which can be calculated using the `BSgamma()` function defined above). The exposure to each risk factor can consequently be calculated."
   ]
  },
  {
   "cell_type": "code",
   "execution_count": 64,
   "id": "b3a806ba",
   "metadata": {},
   "outputs": [
    {
     "data": {
      "text/plain": [
       "array([69.28393673, 99.16059244])"
      ]
     },
     "execution_count": 64,
     "metadata": {},
     "output_type": "execute_result"
    }
   ],
   "source": [
    "# Calculate the option gamma\n",
    "op_gamma = BSgamma(spot, strike, maturity, r, 0, vol_est)\n",
    "\n",
    "# Calculate exposures\n",
    "exposure = np.array([spot * op_delta, 0.5 * (spot ** 2) * op_gamma])\n",
    "exposure"
   ]
  },
  {
   "cell_type": "markdown",
   "id": "51e8a8b0",
   "metadata": {},
   "source": [
    "Finally, we construct the time series of returns and squared returns of the underlying stock price and calculate the resulting covariance matrix."
   ]
  },
  {
   "cell_type": "code",
   "execution_count": 67,
   "id": "2c76a363",
   "metadata": {},
   "outputs": [
    {
     "name": "stdout",
     "output_type": "stream",
     "text": [
      "              StockPrice         SqRet\n",
      "StockPrice  1.796421e-04  3.137405e-07\n",
      "SqRet       3.137405e-07  4.445317e-07\n",
      "            StockPrice     SqRet\n",
      "StockPrice    1.000000  0.035109\n",
      "SqRet         0.035109  1.000000\n"
     ]
    }
   ],
   "source": [
    "# Construct time series of stock prices and one-day percentage returns\n",
    "risk_factors2 = pd.DataFrame({'StockPrice' : stockprice['CBA']})\n",
    "risk_factors2_ret = risk_factors2.pct_change().tail(-1)\n",
    "\n",
    "# Compute the squared percentage returns\n",
    "risk_factors2_ret['SqRet'] = risk_factors2_ret ** 2\n",
    "\n",
    "# Determine covariance and correlation matrices\n",
    "risk_factors2_cov = risk_factors2_ret.cov()\n",
    "risk_factors2_corr = risk_factors2_ret.corr()\n",
    "\n",
    "print(risk_factors2_cov)\n",
    "print(risk_factors2_corr)"
   ]
  }
 ],
 "metadata": {
  "kernelspec": {
   "display_name": "Python 3 (ipykernel)",
   "language": "python",
   "name": "python3"
  },
  "language_info": {
   "codemirror_mode": {
    "name": "ipython",
    "version": 3
   },
   "file_extension": ".py",
   "mimetype": "text/x-python",
   "name": "python",
   "nbconvert_exporter": "python",
   "pygments_lexer": "ipython3",
   "version": "3.11.3"
  }
 },
 "nbformat": 4,
 "nbformat_minor": 5
}

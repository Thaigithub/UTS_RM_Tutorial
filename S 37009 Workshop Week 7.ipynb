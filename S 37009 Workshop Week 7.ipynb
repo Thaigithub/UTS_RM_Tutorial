{
 "cells": [
  {
   "cell_type": "markdown",
   "id": "6556ee50",
   "metadata": {},
   "source": [
    "# Introduction\n",
    "\n",
    "## Background\n",
    "\n",
    "Today, 21 December 2021, we hold a portfolio consisting of physical assets and European options. The specification of each component is as follows:\n",
    "\n",
    "1. A short position on 1,000 units of the ASX 200\n",
    "2. A long position on 2,500 units of the S\\&P 500 (*Note: prices of the S\\&P 500 provided in the data set are in US dollars*)\n",
    "3. A long position on US\\$ 4 million\n",
    "4. A long position on 10,000 units of a European call option on a share of the ASX 200 with a strike price of \\$6,400 per unit and an expiry date of 26 November 2022\n",
    "5. A long position on 20,000 units of a European put option on a share of the S\\&P 500 with a strike price of \\$ 2,980 per unit and an expiry date of 23 December 2022\n",
    "\n",
    "We assume that the risk-free interest rates with maturity 26 November 2022 and 23 December 2022 are 3\\% and 3.5\\%, respectively. For purposes of option pricing, assume that the (annual) volatility of the ASX 200 and S\\&P 500 prices are 20\\% and 25\\%, respectively. \n",
    "\n",
    "## Tasks\n",
    "\n",
    "Given the time series of financial data in `WorkshopWeek7Data.csv`, perform the following analysis:\n",
    "\n",
    "1. Determine the per-unit price, delta, and gamma of the European options in the portfolio. What is the resulting position value?\n",
    "2. Determine the marked-to-market value of the entire portfolio at the valuation date (21 December 2021).\n",
    "3. Compute the undiversified one-day and 10-day 90\\% value-at-risk for the entire portfolio using the delta-gamma-normal approach.\n",
    "4. Compute the diversified one-day and 10-day 90\\% value-at-risk for the entire portfolio using the delta-gamma-normal approach.\n",
    "\n",
    "## Remarks\n",
    "\n",
    "1. In this analysis, we shall use the log-returns of the risk factors instead of the percentage return.\n",
    "2. While the historical time series of S&P 500 prices are denominated in US dollars, assume that the given strike price is in Australian dollars. As such, you may first convert the given S&P 500 prices to Australian dollars using the given time series of USD/AUD exchange rates and use the converted prices for the rest of the analysis. **How would the analysis differ if we do not convert the S&P500 prices and use both the US dollar price and the exchange rate as risk factors?**"
   ]
  },
  {
   "cell_type": "markdown",
   "id": "510a94d0",
   "metadata": {},
   "source": [
    "# Preparation\n",
    "\n",
    "## Utilities: European Option Pricing Functions\n",
    "\n",
    "We load the required libraries and recall the functions we have written to price European options and to calculate their delta and gamma under the Black-Scholes-Merton model."
   ]
  },
  {
   "cell_type": "code",
   "execution_count": null,
   "id": "9b9083ab",
   "metadata": {},
   "outputs": [],
   "source": [
    "# Required libraries\n",
    "import numpy as np\n",
    "import scipy as sp\n",
    "import scipy.stats\n",
    "import pandas as pd\n",
    "import math\n",
    "from datetime import datetime\n",
    "from datetime import timedelta"
   ]
  },
  {
   "cell_type": "code",
   "execution_count": null,
   "id": "5341bc37",
   "metadata": {},
   "outputs": [],
   "source": [
    "# Pricing function for European calls and puts\n",
    "def BSprice(spot_price, strike_price, time_to_maturity, risk_free_rate, dividend_yield, volatility, option_type):\n",
    "    \n",
    "    # Use mathematical notation for function inputs\n",
    "    s = spot_price\n",
    "    K = strike_price\n",
    "    tau = time_to_maturity # (T-t) in notes\n",
    "    r = risk_free_rate\n",
    "    q = dividend_yield\n",
    "    sigma = volatility\n",
    "    \n",
    "    # Calculate d1 and d2\n",
    "    d1 = (np.log(s / K) + (r - q + 0.5 * sigma ** 2) * tau) / (sigma * np.sqrt(tau))\n",
    "    d2 = d1 - sigma * np.sqrt(tau)\n",
    "    \n",
    "    # Calculate option prices\n",
    "    if option_type == 'call':\n",
    "        price = (np.exp(-q * tau) * s * sp.stats.norm.cdf(d1, 0.0, 1.0) \\\n",
    "                 - np.exp(-r * tau) * K * sp.stats.norm.cdf(d2, 0.0, 1.0))\n",
    "        \n",
    "    if option_type == 'put':\n",
    "        price = (np.exp(-r * tau) * K * sp.stats.norm.cdf(-d2, 0.0, 1.0) \\\n",
    "                 - np.exp(-q * tau) * s * sp.stats.norm.cdf(-d1, 0.0, 1.0))\n",
    "        \n",
    "    return price"
   ]
  },
  {
   "cell_type": "code",
   "execution_count": null,
   "id": "99687570",
   "metadata": {},
   "outputs": [],
   "source": [
    "# Function to calculate option delta under the Black-Scholes-Merton model\n",
    "def BSdelta(spot_price, strike_price, time_to_maturity, risk_free_rate, dividend_yield, volatility, option_type):\n",
    "    \n",
    "    # Use mathematical notation for function inputs\n",
    "    s = spot_price\n",
    "    K = strike_price\n",
    "    tau = time_to_maturity # (T-t) in notes\n",
    "    r = risk_free_rate\n",
    "    q = dividend_yield\n",
    "    sigma = volatility\n",
    "    \n",
    "    # Calculate d1 and d2\n",
    "    d1 = (np.log(s / K) + (r - q + 0.5 * sigma ** 2) * tau) / (sigma * np.sqrt(tau))\n",
    "    \n",
    "    # Calculate option delta\n",
    "    if option_type == 'call':\n",
    "        value = sp.stats.norm.cdf(d1, 0.0, 1.0)\n",
    "    \n",
    "    if option_type == 'put':\n",
    "        value = sp.stats.norm.cdf(d1, 0.0, 1.0) - 1\n",
    "    \n",
    "    return value    "
   ]
  },
  {
   "cell_type": "code",
   "execution_count": null,
   "id": "2af156e8",
   "metadata": {},
   "outputs": [],
   "source": [
    "# Function to calculate option gamma under the Black-Scholes-Merton model\n",
    "def BSgamma(spot_price, strike_price, time_to_maturity, risk_free_rate, dividend_yield, volatility):\n",
    "    \n",
    "    # Use mathematical notation for function inputs\n",
    "    s = spot_price\n",
    "    K = strike_price\n",
    "    tau = time_to_maturity # (T-t) in notes\n",
    "    r = risk_free_rate\n",
    "    q = dividend_yield\n",
    "    sigma = volatility\n",
    "    \n",
    "    # Compute option gamma (same for calls and puts)\n",
    "    d1 = (np.log(s / K) + (r - q + 0.5 * sigma ** 2) * tau) / (sigma * np.sqrt(tau))\n",
    "    value = sp.stats.norm.pdf(d1, 0.0, 1.0) / (s * sigma * np.sqrt(tau))\n",
    "    \n",
    "    return value"
   ]
  },
  {
   "cell_type": "markdown",
   "id": "7d504cb4",
   "metadata": {},
   "source": [
    "## Data Pre-processing\n",
    "\n",
    "We load the given historical data in `WorkshopWeek7Data.csv`, express the exchange rates as XX AUD per USD, and compute the Australian dollar price of the S\\&P 500."
   ]
  },
  {
   "cell_type": "code",
   "execution_count": null,
   "id": "c88e8ea7",
   "metadata": {},
   "outputs": [],
   "source": [
    "# Load data\n",
    "fin_data = pd.read_csv('WorkshopWeek7Data.csv', index_col = 0)\n",
    "\n",
    "# Write exchange rates as XX AUD per USD\n",
    "fin_data['FXrate'] = 1 / fin_data['USDperAUD']\n",
    "\n",
    "# Convert the S&P 500 price to Australian dollars\n",
    "fin_data['SPXComp'] = fin_data['SPXCompUS'] * fin_data['FXrate']\n",
    "\n",
    "fin_data.head()"
   ]
  },
  {
   "cell_type": "code",
   "execution_count": null,
   "id": "9667f6fa",
   "metadata": {},
   "outputs": [],
   "source": [
    "# Extract market data on the valuation date\n",
    "fin_data_today = fin_data.loc['2021-12-21']\n",
    "\n",
    "fin_data_today"
   ]
  },
  {
   "cell_type": "code",
   "execution_count": null,
   "id": "7bd23bcd",
   "metadata": {},
   "outputs": [],
   "source": [
    "# Compute the log-returns of all market variables\n",
    "fin_data_logret = np.log(fin_data).diff().tail(-1)\n",
    "\n",
    "fin_data_logret.head()"
   ]
  },
  {
   "cell_type": "code",
   "execution_count": null,
   "id": "6c814d8e",
   "metadata": {},
   "outputs": [],
   "source": [
    "# Compute the covariance matrix of all returns time series\n",
    "fin_data_logret_cov = fin_data_logret.cov()\n",
    "\n",
    "fin_data_logret_cov"
   ]
  },
  {
   "cell_type": "markdown",
   "id": "ee761961",
   "metadata": {},
   "source": [
    "# Mark-to-Market Valuation\n",
    "\n",
    "## European Options\n",
    "\n",
    "We encode all relevant information for the pricing of the European options in the portfolio, we also need to compute: \n",
    "\n",
    "1. The time to maturity in years (for simplicity, also assume 252 trading days when converting the time difference in days to years, although there is no reason there shouldn't be a different assumption for this conversion)\n",
    "2. ~~The annual volatility of the underlying price processes (i.e. the annualized standard deviation of the log-returns) from the given data.~~ (It can be verified that using the volatility implied by the historical time series of prices will lead to very small option prices)."
   ]
  },
  {
   "cell_type": "code",
   "execution_count": null,
   "id": "3bb6165a",
   "metadata": {},
   "outputs": [],
   "source": [
    "# Given option parameters\n",
    "strike_ASX = 6400\n",
    "strike_SPX = 2980\n",
    "r_ASX = 0.03\n",
    "r_SPX = 0.035\n",
    "vol_ASX = 0.20\n",
    "vol_SPX = 0.25\n",
    "N_op_ASX = 10000\n",
    "N_op_SPX = 20000\n",
    "\n",
    "\n",
    "# Compute time to maturity\n",
    "date_today = datetime(2021, 12, 21)\n",
    "expdate_ASX = datetime(2022, 11, 26)\n",
    "expdate_SPX = datetime(2022, 12, 23)\n",
    "\n",
    "mat_ASX = (expdate_ASX - date_today).days / 252\n",
    "mat_SPX = (expdate_SPX - date_today).days / 252\n",
    "\n",
    "# # Compute the annual volatilities in the underlying asset prices\n",
    "# vol_ASX = np.sqrt(fin_data_logret_cov.loc['ASX200', 'ASX200'] / 252)\n",
    "# vol_SPX = np.sqrt(fin_data_logret_cov.loc['SPXComp', 'SPXComp'] / 252)"
   ]
  },
  {
   "cell_type": "markdown",
   "id": "34fb6450",
   "metadata": {},
   "source": [
    "We are now ready to calculate the option price, delta, and gamma. Note that the quantities below are *per unit* of the option. It is only when we calculate the value of the position that we multiply the option prices by the number of units."
   ]
  },
  {
   "cell_type": "code",
   "execution_count": null,
   "id": "d39f0d95",
   "metadata": {},
   "outputs": [],
   "source": [
    "# Option prices\n",
    "price_ASX = BSprice(fin_data_today['ASX200'], strike_ASX, mat_ASX, r_ASX, 0, vol_ASX, 'call')\n",
    "price_SPX = BSprice(fin_data_today['SPXComp'], strike_SPX, mat_SPX, r_SPX, 0, vol_SPX, 'put')\n",
    "\n",
    "(price_ASX, price_SPX)"
   ]
  },
  {
   "cell_type": "code",
   "execution_count": null,
   "id": "11fff56a",
   "metadata": {},
   "outputs": [],
   "source": [
    "# Option deltas\n",
    "delta_ASX = BSdelta(fin_data_today['ASX200'], strike_ASX, mat_ASX, r_ASX, 0, vol_ASX, 'call')\n",
    "delta_SPX = BSdelta(fin_data_today['SPXComp'], strike_SPX, mat_SPX, r_SPX, 0, vol_SPX, 'put')\n",
    "\n",
    "(delta_ASX, delta_SPX)"
   ]
  },
  {
   "cell_type": "code",
   "execution_count": null,
   "id": "b8bbaa89",
   "metadata": {},
   "outputs": [],
   "source": [
    "# Option gammas\n",
    "gamma_ASX = BSgamma(fin_data_today['ASX200'], strike_ASX, mat_ASX, r_ASX, 0, vol_ASX)\n",
    "gamma_SPX = BSgamma(fin_data_today['SPXComp'], strike_SPX, mat_SPX, r_SPX, 0, vol_SPX)\n",
    "\n",
    "(gamma_ASX, gamma_SPX)"
   ]
  },
  {
   "cell_type": "code",
   "execution_count": null,
   "id": "5a77823a",
   "metadata": {},
   "outputs": [],
   "source": [
    "# Position values\n",
    "V_op_ASX = N_op_ASX * price_ASX\n",
    "V_op_SPX = N_op_SPX * price_SPX\n",
    "\n",
    "(V_op_ASX, V_op_SPX)"
   ]
  },
  {
   "cell_type": "markdown",
   "id": "e738dfd6",
   "metadata": {},
   "source": [
    "## Physical Assets\n",
    "\n",
    "The mark-to-market valuation of the physical assets is straightforward, as shown below."
   ]
  },
  {
   "cell_type": "code",
   "execution_count": null,
   "id": "005a72cd",
   "metadata": {},
   "outputs": [],
   "source": [
    "# Number of units (negative for short position)\n",
    "N_ASX = -1000\n",
    "N_SPX = 2000\n",
    "N_USD = 4000000\n",
    "\n",
    "# Valuation\n",
    "V_ASX = N_ASX * fin_data_today['ASX200']\n",
    "V_SPX = N_SPX * fin_data_today['SPXComp']\n",
    "V_USD = N_USD * fin_data_today['FXrate']\n",
    "\n",
    "(V_ASX, V_SPX, V_USD)"
   ]
  },
  {
   "cell_type": "markdown",
   "id": "21f35ca0",
   "metadata": {},
   "source": [
    "## Total Portfolio Value"
   ]
  },
  {
   "cell_type": "code",
   "execution_count": null,
   "id": "0f180365",
   "metadata": {},
   "outputs": [],
   "source": [
    "# Total marked-to-market value of the portfolio\n",
    "V_portfolio = V_ASX + V_SPX + V_USD + V_op_ASX + V_op_SPX\n",
    "\n",
    "V_portfolio"
   ]
  },
  {
   "cell_type": "markdown",
   "id": "b235a9c5",
   "metadata": {},
   "source": [
    "# Risk Factor Mapping\n",
    "\n",
    "For the physical assets, the relevant risk factors are their respective returns, namely the log-returns of the ASX 200, the log-returns of the (Australian price) of the S\\&P 500, and the log-returns of the AUD-per-USD exchange rate. For these assets, we shall use a delta-normal model for the VaR,\n",
    "\n",
    "\\begin{align*}\n",
    "\\Delta V_{\\text{ASX}} & = N_{\\text{ASX}} \\cdot S_{\\text{ASX}} \\cdot \\Delta \\ln S_{\\text{ASX}} = V_{\\text{ASX}} \\cdot \\Delta \\ln S_{\\text{ASX}} \\\\\n",
    "\\Delta V_{\\text{SPX}} & = N_{\\text{SPX}} \\cdot S_{\\text{SPX}} \\cdot \\Delta \\ln S_{\\text{SPX}} = V_{\\text{SPX}} \\cdot \\Delta \\ln S_{\\text{SPX}}\\\\\n",
    "\\Delta V_{\\text{USD}} & = N_{\\text{USD}} \\cdot S_{\\text{USD}} \\cdot \\Delta \\ln S_{\\text{USD}} = V_{\\text{USD}} \\cdot \\Delta \\ln S_{\\text{USD}}\n",
    "\\end{align*}\n",
    "\n",
    "For the European options, we use a delta-gamma-normal model for the VaR. This entails mapping the changes in the option value to the log-return and squared-log-return of the underlying asset,\n",
    "\n",
    "\\begin{align*}\n",
    "\\Delta V_{\\text{opASX}} & = N_{\\text{opASX}} \\left( S_{\\text{ASX}} \\cdot \\frac{\\partial c_{\\text{ASX}}}{\\partial S_{\\text{ASX}}} \\cdot \\Delta \\ln S_{\\text{ASX}} + \\frac{1}{2} S_{\\text{ASX}}^2 \\cdot \\frac{\\partial^2 c_{\\text{ASX}}}{\\partial S_{\\text{ASX}}^2} \\cdot (\\Delta \\ln S_{\\text{ASX}})^2 \\right)\\\\\n",
    "\\Delta V_{\\text{opSPX}} & = N_{\\text{opSPX}} \\left( S_{\\text{SPX}} \\cdot \\frac{\\partial p_{\\text{SPX}}}{\\partial S_{\\text{SPX}}} \\cdot \\Delta \\ln S_{\\text{SPX}} + \\frac{1}{2} S_{\\text{SPX}}^2 \\cdot \\frac{\\partial^2 p_{\\text{SPX}}}{\\partial S_{\\text{SPX}}^2} \\cdot (\\Delta \\ln S_{\\text{SPX}})^2 \\right)\n",
    "\\end{align*}\n",
    "\n",
    "Here, $c_{\\text{ASX}}$ (resp. $p_{\\text{SPX}}$) is the per-unit price of the European call option (resp. put option) on the ASX (resp. SPX). The bracketed expressions are the per-unit change in the European option prices mapped to the log-returns and squared-log-returns of the underlying asset.\n",
    "\n",
    "The calculation below constructs the time series of risk factors (log-returns and squared-log returns of the ASX 200 and the S\\&P 500 and the log-returns of the AUD-per-USD exchange rate) and the associated covariance matrix."
   ]
  },
  {
   "cell_type": "code",
   "execution_count": null,
   "id": "f9cc0517",
   "metadata": {},
   "outputs": [],
   "source": [
    "# Time series of risk factors\n",
    "RF = fin_data_logret.loc[:, ('ASX200', 'SPXComp', 'FXrate')]\n",
    "RF['sqASX200'] = RF['ASX200'] ** 2\n",
    "RF['sqSPXComp'] = RF['SPXComp'] ** 2\n",
    "\n",
    "RF.head()"
   ]
  },
  {
   "cell_type": "code",
   "execution_count": null,
   "id": "0ea92feb",
   "metadata": {},
   "outputs": [],
   "source": [
    "# Full covariance matrix of risk factors\n",
    "RF_cov = RF.cov()\n",
    "\n",
    "RF_cov"
   ]
  },
  {
   "cell_type": "markdown",
   "id": "580535e7",
   "metadata": {},
   "source": [
    "# Undiversified VaR\n",
    "\n",
    "To compute the undiversified VaR of the portfolio, we compute the VaR of each component and add the resulting values. The process of computing the VaR for each of the physical assets is the same as the one followed in last week's Workshop."
   ]
  },
  {
   "cell_type": "code",
   "execution_count": null,
   "id": "349e7b68",
   "metadata": {},
   "outputs": [],
   "source": [
    "# VaR parameter\n",
    "conf_level = 0.90"
   ]
  },
  {
   "cell_type": "markdown",
   "id": "da3dba59",
   "metadata": {},
   "source": [
    "## ASX 200"
   ]
  },
  {
   "cell_type": "code",
   "execution_count": null,
   "id": "304a205e",
   "metadata": {},
   "outputs": [],
   "source": [
    "# Exposure to and (co)variance of risk factor(s)\n",
    "ASX_exp = V_ASX\n",
    "ASX_rf_cov = RF_cov.loc['ASX200', 'ASX200']\n",
    "\n",
    "# One-day VaR\n",
    "ASX_VaR = -sp.stats.norm.ppf(1 - conf_level) * np.sqrt((ASX_exp ** 2) * ASX_rf_cov)\n",
    "\n",
    "ASX_VaR"
   ]
  },
  {
   "cell_type": "markdown",
   "id": "9edd44a4",
   "metadata": {},
   "source": [
    "## S\\&P 500"
   ]
  },
  {
   "cell_type": "code",
   "execution_count": null,
   "id": "20bfc96e",
   "metadata": {},
   "outputs": [],
   "source": [
    "# Exposure to and (co)variance of risk factor(s)\n",
    "SPX_exp = V_SPX\n",
    "SPX_rf_cov = RF_cov.loc['SPXComp', 'SPXComp']\n",
    "\n",
    "# One-day VaR\n",
    "SPX_VaR = -sp.stats.norm.ppf(1 - conf_level) * np.sqrt((SPX_exp ** 2) * SPX_rf_cov)\n",
    "\n",
    "SPX_VaR"
   ]
  },
  {
   "cell_type": "markdown",
   "id": "02a29588",
   "metadata": {},
   "source": [
    "## USD"
   ]
  },
  {
   "cell_type": "code",
   "execution_count": null,
   "id": "361b5d29",
   "metadata": {},
   "outputs": [],
   "source": [
    "# Exposure to and (co)variance of risk factor(s)\n",
    "USD_exp = V_USD\n",
    "USD_rf_cov = RF_cov.loc['FXrate', 'FXrate']\n",
    "\n",
    "# One-day VaR\n",
    "USD_VaR = -sp.stats.norm.ppf(1 - conf_level) * np.sqrt((USD_exp ** 2) * USD_rf_cov)\n",
    "\n",
    "USD_VaR"
   ]
  },
  {
   "cell_type": "markdown",
   "id": "c2f4b3e8",
   "metadata": {},
   "source": [
    "## European Call Option on ASX 200\n",
    "\n",
    "The calculation of the VaR for the European options involve a risk factor vector of length two. In particular, we have the following representation for $\\Delta V_{\\text{opASX}}$,\n",
    "\n",
    "$$\\Delta V_{\\text{opASX}} = \\mathbf{W}^\\top \\mathbf{R}^\\ell, \n",
    "\\quad \\text{where} \\quad\n",
    "\\mathbf{W} = \\left[\\begin{array}{c}\n",
    "N_{\\text{opASX}} \\cdot S_{\\text{ASX}} \\cdot \\frac{\\partial c_{\\text{ASX}}}{\\partial S_{\\text{ASX}}} \\\\\n",
    "\\frac{1}{2} N_{\\text{opASX}} \\cdot S_{\\text{ASX}}^2 \\cdot \\frac{\\partial^2 c_{\\text{ASX}}}{\\partial S_{\\text{ASX}}^2}\n",
    "\\end{array}\\right], \n",
    "\\quad \\text{and} \\quad\n",
    "\\mathbf{R}^\\ell = \\left[\\begin{array}{c}\n",
    "\\Delta \\ln S_{\\text{ASX}} \\\\\n",
    "(\\Delta \\ln S_{\\text{ASX}})^2\n",
    "\\end{array}\\right]$$\n",
    "\n",
    "The value-at-risk can then be calculated from the general formula $\\text{VaR}_c = -\\Phi^{-1}(1-c)\\sqrt{\\mathbf{W}^\\top \\Sigma \\mathbf{W}}$, where $\\Sigma$ is the covariance matrix of $\\mathbf{R}^\\ell$."
   ]
  },
  {
   "cell_type": "code",
   "execution_count": null,
   "id": "066236d2",
   "metadata": {},
   "outputs": [],
   "source": [
    "# Exposure to and (co)variance of risk factor(s)\n",
    "opASX_exp = np.array([N_op_ASX * fin_data_today['ASX200'] * delta_ASX,\n",
    "                     0.5 * N_op_ASX * (fin_data_today['ASX200'] ** 2) * gamma_ASX])\n",
    "opASX_rf_cov = RF_cov.loc[['ASX200', 'sqASX200'], ['ASX200', 'sqASX200']]\n",
    "\n",
    "# One-day VaR\n",
    "opASX_variance = np.matmul(opASX_exp.transpose(), np.matmul(opASX_rf_cov, opASX_exp))\n",
    "opASX_VaR = -sp.stats.norm.ppf(1 - conf_level) * np.sqrt(opASX_variance)\n",
    "\n",
    "opASX_VaR"
   ]
  },
  {
   "cell_type": "markdown",
   "id": "89ea2b4b",
   "metadata": {},
   "source": [
    "## European Put Option on S\\&P 500"
   ]
  },
  {
   "cell_type": "code",
   "execution_count": null,
   "id": "cde9a0b0",
   "metadata": {},
   "outputs": [],
   "source": [
    "# Exposure to and (co)variance of risk factor(s)\n",
    "opSPX_exp = np.array([N_op_SPX * fin_data_today['SPXComp'] * delta_SPX,\n",
    "                     0.5 * N_op_SPX * (fin_data_today['SPXComp'] ** 2) * gamma_SPX])\n",
    "opSPX_rf_cov = RF_cov.loc[['SPXComp', 'sqSPXComp'], ['SPXComp', 'sqSPXComp']]\n",
    "\n",
    "# One-day VaR\n",
    "opSPX_variance = np.matmul(opSPX_exp.transpose(), np.matmul(opSPX_rf_cov, opSPX_exp))\n",
    "opSPX_VaR = -sp.stats.norm.ppf(1 - conf_level) * np.sqrt(opSPX_variance)\n",
    "\n",
    "opSPX_VaR"
   ]
  },
  {
   "cell_type": "markdown",
   "id": "4e6a4a6f",
   "metadata": {},
   "source": [
    "## Undiversified One-Day VaR\n",
    "\n",
    "The undiversified one-day 90\\% VaR for the portfolio is the sum of the one-day 90\\% VaR for each instrument. "
   ]
  },
  {
   "cell_type": "code",
   "execution_count": null,
   "id": "0dce956e",
   "metadata": {},
   "outputs": [],
   "source": [
    "# Undiversified one-day 90% VaR for the portfolio\n",
    "VaR_undiversified = ASX_VaR + SPX_VaR + USD_VaR + opASX_VaR + opSPX_VaR\n",
    "\n",
    "VaR_undiversified"
   ]
  },
  {
   "cell_type": "markdown",
   "id": "25a50c9d",
   "metadata": {},
   "source": [
    "## Undiversified 10-day VaR\n",
    "\n",
    "The corresponding 10-day VaR can be approximated using time scaling."
   ]
  },
  {
   "cell_type": "code",
   "execution_count": null,
   "id": "2e25b75a",
   "metadata": {},
   "outputs": [],
   "source": [
    "# Undiversified 10-day 90% VaR for the portfolio (time scaling)\n",
    "VaR_undiversified_10day = np.sqrt(10) * VaR_undiversified\n",
    "\n",
    "VaR_undiversified_10day"
   ]
  },
  {
   "cell_type": "markdown",
   "id": "ebee2452",
   "metadata": {},
   "source": [
    "# Diversified VaR\n",
    "\n",
    "We first identify the portfolio-level exposure to each risk factor in $\\mathbf{R}^\\ell$, which at the portfolio level is now given by\n",
    "\n",
    "$$\\mathbf{R}^\\ell = \n",
    "\\left[\\begin{array}{c}\n",
    "\\Delta \\ln S_{\\text{ASX}} \\\\\n",
    "\\Delta \\ln S_{\\text{SPX}} \\\\\n",
    "\\Delta \\ln S_{\\text{USD}} \\\\\n",
    "(\\Delta \\ln S_{\\text{ASX}})^2 \\\\\n",
    "(\\Delta \\ln S_{\\text{SPX}})^2\n",
    "\\end{array}\\right].$$\n",
    "\n",
    "The portfolio-level exposures are given by\n",
    "\n",
    "$$\\mathbf{W} =\n",
    "\\left[\\begin{array}{c}\n",
    "V_{\\text{ASX}} + N_{\\text{opASX}} \\cdot S_{\\text{ASX}} \\cdot \\frac{\\partial c_{\\text{ASX}}}{\\partial S_{\\text{ASX}}} \\\\\n",
    "V_{\\text{SPX}} + N_{\\text{opSPX}} \\cdot S_{\\text{SPX}} \\cdot \\frac{\\partial p_{\\text{SPX}}}{\\partial S_{\\text{SPX}}} \\\\\n",
    "V_{\\text{USD}} \\\\\n",
    "\\frac{1}{2} N_{\\text{opASX}} \\cdot S_{\\text{ASX}}^2 \\cdot \\frac{\\partial^2 c_{\\text{ASX}}}{\\partial S_{\\text{ASX}}^2} \\\\\n",
    "\\frac{1}{2} N_{\\text{opSPX}} \\cdot S_{\\text{SPX}}^2 \\cdot \\frac{\\partial^2 p_{\\text{SPX}}}{\\partial S_{\\text{SPX}}^2}\n",
    "\\end{array}\\right].$$\n",
    "\n",
    "The diversified VaR then follows from the general equation $\\text{VaR}_c = -\\Phi^{-1}(1 - c) \\sqrt{\\mathbf{W}^\\top \\Sigma \\mathbf{W}}$."
   ]
  },
  {
   "cell_type": "code",
   "execution_count": null,
   "id": "be76faee",
   "metadata": {},
   "outputs": [],
   "source": [
    "# Portfolio-level exposures\n",
    "portfolio_exp = np.array([V_ASX + N_op_ASX * fin_data_today['ASX200'] * delta_ASX,\n",
    "                         V_SPX + N_op_SPX * fin_data_today['SPXComp'] * delta_SPX,\n",
    "                         V_USD,\n",
    "                        0.5 * N_op_ASX * (fin_data_today['ASX200'] ** 2) * gamma_ASX,\n",
    "                         0.5 * N_op_SPX * (fin_data_today['SPXComp'] ** 2) * gamma_SPX])\n",
    "\n",
    "# Portfolio variance\n",
    "portfolio_variance = np.matmul(portfolio_exp.transpose(),\n",
    "                              np.matmul(RF_cov, portfolio_exp))\n",
    "\n",
    "# Diversified one-day VaR\n",
    "VaR_diversified = -sp.stats.norm.ppf(1 - conf_level) * np.sqrt(portfolio_variance)\n",
    "\n",
    "VaR_diversified"
   ]
  },
  {
   "cell_type": "code",
   "execution_count": null,
   "id": "e60d74a3",
   "metadata": {},
   "outputs": [],
   "source": [
    "# Diversified 10-day VaR\n",
    "VaR_diversified_10day = np.sqrt(10) * VaR_diversified\n",
    "\n",
    "VaR_diversified_10day"
   ]
  }
 ],
 "metadata": {
  "authors": [
   {
    "name": "Len Patrick Dominic M. Garces"
   }
  ],
  "kernelspec": {
   "display_name": "Python 3 (ipykernel)",
   "language": "python",
   "name": "python3"
  },
  "language_info": {
   "codemirror_mode": {
    "name": "ipython",
    "version": 3
   },
   "file_extension": ".py",
   "mimetype": "text/x-python",
   "name": "python",
   "nbconvert_exporter": "python",
   "pygments_lexer": "ipython3",
   "version": "3.10.9"
  },
  "title": "37009 Risk Management Workshop Week 7: Analytical VaR II"
 },
 "nbformat": 4,
 "nbformat_minor": 5
}

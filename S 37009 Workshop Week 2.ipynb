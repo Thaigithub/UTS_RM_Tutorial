{
 "cells": [
  {
   "cell_type": "markdown",
   "id": "dd2e4d61",
   "metadata": {},
   "source": [
    "# 37009 Workshop Week 2: Review of Financial Market Instruments (Part 1)\n",
    "\n",
    "**Note:** Variable names will be reused across the entire workshop exercise, so make sure that you are running the correct code section for each exercise.\n",
    "\n",
    "## 1 Bonds \n",
    "\n",
    "We first construct a table of remaining cash flows indexed by the time (in years) from the valuation date in which these cash flows are realized. Since the bond matures on 30 Sep 2025 and payments are semi-annual, the remaining payments as of 15 Aug 2023 are on 30 Mar 2024, 30 Sep 2024, 30 Mar 2025, and 30 Sep 2025, with the principal due also on 30 Sep 2025."
   ]
  },
  {
   "cell_type": "code",
   "execution_count": 1,
   "id": "d6548d69",
   "metadata": {},
   "outputs": [],
   "source": [
    "# Import libraries\n",
    "import numpy as np\n",
    "import pandas as pd\n",
    "import math\n",
    "from datetime import datetime\n",
    "from datetime import timedelta\n",
    "\n",
    "# Bond parameters\n",
    "coupon_rate = 0.05\n",
    "coupon_freq = 2\n",
    "principal = 100\n",
    "date_today = datetime(2023, 8, 15)\n",
    "\n",
    "# Remaining payment dates\n",
    "payment_dates = np.array([datetime(2023, 9, 30), datetime(2024, 3, 30), datetime(2024, 9, 30), datetime(2025, 3, 30),\n",
    "                         datetime(2025, 9, 30), datetime(2025, 9, 30)])\n",
    "payment_dates_from_today = payment_dates - date_today"
   ]
  },
  {
   "cell_type": "code",
   "execution_count": 3,
   "id": "b0f115be",
   "metadata": {},
   "outputs": [
    {
     "name": "stdout",
     "output_type": "stream",
     "text": [
      "       Time     CF\n",
      "0  0.127778    2.5\n",
      "1  0.633333    2.5\n",
      "2  1.144444    2.5\n",
      "3  1.647222    2.5\n",
      "4  2.158333    2.5\n",
      "5  2.158333  100.0\n"
     ]
    }
   ],
   "source": [
    "# Construct a table of cash flows index by the time from today (in years)\n",
    "cash_flows = np.append(np.array([principal * coupon_rate / coupon_freq] * 5), [principal])\n",
    "bond_summary = pd.DataFrame({'Time': payment_dates_from_today, 'CF': cash_flows})\n",
    "bond_summary['Time'] = bond_summary['Time'].dt.days / 360\n",
    "print(bond_summary)"
   ]
  },
  {
   "cell_type": "markdown",
   "id": "366425d8",
   "metadata": {},
   "source": [
    "Next, we encode the zero rate data."
   ]
  },
  {
   "cell_type": "code",
   "execution_count": 4,
   "id": "364e64c3",
   "metadata": {},
   "outputs": [
    {
     "name": "stdout",
     "output_type": "stream",
     "text": [
      "      Tenor    Rate\n",
      "0  0.000000  0.0331\n",
      "1  0.083333  0.0405\n",
      "2  0.250000  0.0412\n",
      "3  0.500000  0.0458\n",
      "4  1.000000  0.0495\n",
      "5  2.000000  0.0544\n",
      "6  3.000000  0.0557\n",
      "7  4.000000  0.0582\n"
     ]
    }
   ],
   "source": [
    "# Zero rates\n",
    "zero_rates = pd.DataFrame({'Tenor': [0, 1/12, 3/12, 6/12, 1, 2, 3, 4],\n",
    "                          'Rate': [3.31, 4.05, 4.12, 4.58, 4.95, 5.44, 5.57, 5.82]})\n",
    "zero_rates['Rate'] = zero_rates['Rate'] / 100\n",
    "print(zero_rates)"
   ]
  },
  {
   "cell_type": "markdown",
   "id": "a11b833b",
   "metadata": {},
   "source": [
    "Observe that *none* of the bond payment dates coincide with the tenors of the zero rates. We thus have to interpolate from our zero curve the zero rates that are appropriate for discounting the cash flows from the bond."
   ]
  },
  {
   "cell_type": "code",
   "execution_count": 5,
   "id": "44ff591d",
   "metadata": {},
   "outputs": [
    {
     "name": "stdout",
     "output_type": "stream",
     "text": [
      "       Time     CF      Rate\n",
      "0  0.127778    2.5  0.040687\n",
      "1  0.633333    2.5  0.046787\n",
      "2  1.144444    2.5  0.050208\n",
      "3  1.647222    2.5  0.052671\n",
      "4  2.158333    2.5  0.054606\n",
      "5  2.158333  100.0  0.054606\n"
     ]
    }
   ],
   "source": [
    "# Interpolate appropriate zero rates for discounting CFs\n",
    "interp_rates = np.interp(x = bond_summary['Time'], xp = zero_rates['Tenor'], fp = zero_rates['Rate'])\n",
    "bond_summary['Rate'] = interp_rates\n",
    "print(bond_summary)"
   ]
  },
  {
   "cell_type": "markdown",
   "id": "c14f28f3",
   "metadata": {},
   "source": [
    "We are now ready to price the bond. The next steps are to calculate the discounted cash flows and to find the sum of the discounted cash flows."
   ]
  },
  {
   "cell_type": "code",
   "execution_count": 6,
   "id": "070769ca",
   "metadata": {},
   "outputs": [
    {
     "name": "stdout",
     "output_type": "stream",
     "text": [
      "Bond price is AUD 100.67100161819766\n",
      "Below is a summary of the cash flows in the bond\n",
      "       Time     CF      Rate        DF        DCF\n",
      "0  0.127778    2.5  0.040687  0.994815   2.487037\n",
      "1  0.633333    2.5  0.046787  0.970803   2.427008\n",
      "2  1.144444    2.5  0.050208  0.944160   2.360399\n",
      "3  1.647222    2.5  0.052671  0.916896   2.292239\n",
      "4  2.158333    2.5  0.054606  0.888823   2.222057\n",
      "5  2.158333  100.0  0.054606  0.888823  88.882262\n"
     ]
    }
   ],
   "source": [
    "# Compute the discount factor (continuous compounding)\n",
    "bond_summary['DF'] = np.exp(-bond_summary['Rate'] * bond_summary['Time'])\n",
    "\n",
    "# Compute discounted cash flows\n",
    "bond_summary['DCF'] = bond_summary['CF'] * bond_summary['DF']\n",
    "\n",
    "# Compute bond price\n",
    "bond_price = np.sum(bond_summary['DCF'])\n",
    "print(\"Bond price is AUD\", bond_price)\n",
    "\n",
    "print(\"Below is a summary of the cash flows in the bond\")\n",
    "print(bond_summary)"
   ]
  },
  {
   "cell_type": "markdown",
   "id": "974cbf64",
   "metadata": {},
   "source": [
    "If the zero rates are semi-annually compounded, the calculation of the discount factors will change. This will be left as an exercise.\n",
    "\n",
    "**Keep in mind for future discussions:** The bond price can be expressed as a linear combination of zero-coupon bond prices, \n",
    "\n",
    "$$p(0) = 2.5 P(0,0.128) + 2.5 P(0,0.633) + 2.5 P(0, 1.14) + 2.5 P(0,1.65) + 102.5 P(2.16).$$"
   ]
  },
  {
   "cell_type": "markdown",
   "id": "9c9ac0ed",
   "metadata": {},
   "source": [
    "## 2 Forward Rate Agreements\n",
    "\n",
    "We consider a $(5 \\times 14)$ FRA that is set today, 15 August 2023, on a notional of $L = 1.25$ million AUD.\n",
    "\n",
    "### Computing the FRA fixed/contractual rate\n",
    "\n",
    "The fixed or contractual rate for the FRA is simply the simple forward rate for the period $[5/12, 14/12]$ implied by the simple zero rates observed today."
   ]
  },
  {
   "cell_type": "code",
   "execution_count": 10,
   "id": "e4871a70",
   "metadata": {},
   "outputs": [],
   "source": [
    "# FRA parameters\n",
    "T1 = 5/12\n",
    "T2 = 14/12\n",
    "notional = 1250000\n",
    "\n",
    "# Encode zero rates today\n",
    "zero_rates = pd.DataFrame({'Tenor': [1/12, 3/12, 6/12, 1, 1.5],\n",
    "                          'Rate': [1.75, 2.25, 3.70, 4.35, 5.15]})\n",
    "zero_rates['Rate'] = zero_rates['Rate'] / 100"
   ]
  },
  {
   "cell_type": "markdown",
   "id": "6e7cd643",
   "metadata": {},
   "source": [
    "Note that the 5-month and 14-month zero rates are not available, so we interpolate these from the given zero rates."
   ]
  },
  {
   "cell_type": "code",
   "execution_count": 11,
   "id": "d91a1d92",
   "metadata": {},
   "outputs": [
    {
     "name": "stdout",
     "output_type": "stream",
     "text": [
      "       Time      Rate        DF\n",
      "0  0.416667  0.032167  0.986774\n",
      "1  1.166667  0.046167  0.948892\n"
     ]
    }
   ],
   "source": [
    "# Interpolate required simple zero rates\n",
    "tenor_req = np.array([T1, T2])\n",
    "interp_rates = np.interp(x = tenor_req, xp = zero_rates['Tenor'], fp = zero_rates['Rate'])\n",
    "\n",
    "# Create summary of FRA characteristics\n",
    "fra_summary = pd.DataFrame({'Time': [T1, T2], 'Rate': interp_rates})\n",
    "fra_summary['DF'] = 1 / (1 + fra_summary['Rate'] * fra_summary['Time'])\n",
    "print(fra_summary)"
   ]
  },
  {
   "cell_type": "markdown",
   "id": "84fc8a2d",
   "metadata": {},
   "source": [
    "We can now compute the foward rate for the period $[5/12, 14/12]$ using the interpolated zero rates using the formula\n",
    "\n",
    "$$R_{\\text{fixed}} = R_F(0,5/12,14/12) = \\left(\\frac{P(0,5/12)}{P(0,14/12)} - 1\\right) \\frac{1}{14/12 - 5/12}$$"
   ]
  },
  {
   "cell_type": "code",
   "execution_count": 12,
   "id": "fdf318ba",
   "metadata": {},
   "outputs": [
    {
     "data": {
      "text/plain": [
       "0.05323100116494187"
      ]
     },
     "execution_count": 12,
     "metadata": {},
     "output_type": "execute_result"
    }
   ],
   "source": [
    "# Compute contractual forward rate\n",
    "fwd_rate_contract = (fra_summary.iloc[0,2] / fra_summary.iloc[1,2] - 1) / (T2 - T1)\n",
    "fwd_rate_contract"
   ]
  },
  {
   "cell_type": "markdown",
   "id": "3ec15a62",
   "metadata": {},
   "source": [
    "### Valuation of the FRA\n",
    "\n",
    "Two months after the issuance of the FRA (15 October 2023), we compute the value of the contract. It is sufficient to compute the value of the FRA to the fixed rate payer since the value to the floating rate payer is the additive inverse.\n",
    "\n",
    "As of the valuation date, the FRA has 3 months left in its life ($T_1 = 3/12$) and matures 12 months from now ($T_2 = 1$). Fortunately, the required information is all in the given term structure of zero rates, so no interpolation is required. We only need to compute the forward rate for the period $[3/12, 1]$ based on zero rates at the valuation date."
   ]
  },
  {
   "cell_type": "code",
   "execution_count": 13,
   "id": "f98dce04",
   "metadata": {},
   "outputs": [
    {
     "name": "stdout",
     "output_type": "stream",
     "text": [
      "   Time    Rate        DF\n",
      "0  0.25  0.0215  0.994654\n",
      "1  1.00  0.0410  0.960615\n"
     ]
    }
   ],
   "source": [
    "# Create summary of FRA characteristics at valuation date (manually entered)\n",
    "T1_val = 3/12\n",
    "T2_val = 1\n",
    "fra_summary2 = pd.DataFrame({'Time': [T1_val, T2_val], 'Rate': [2.15, 4.10]})\n",
    "fra_summary2['Rate'] = fra_summary2['Rate'] / 100\n",
    "fra_summary2['DF'] = 1 / (1 + fra_summary2['Rate'] * fra_summary2['Time'])\n",
    "print(fra_summary2)"
   ]
  },
  {
   "cell_type": "code",
   "execution_count": 14,
   "id": "d0f23abb",
   "metadata": {},
   "outputs": [
    {
     "data": {
      "text/plain": [
       "0.04724605246798467"
      ]
     },
     "execution_count": 14,
     "metadata": {},
     "output_type": "execute_result"
    }
   ],
   "source": [
    "# Compute the forward rate observed today\n",
    "fwd_rate = (fra_summary2.iloc[0,2] / fra_summary2.iloc[1,2] - 1) / (T2_val - T1_val)\n",
    "fwd_rate"
   ]
  },
  {
   "cell_type": "markdown",
   "id": "3657d72c",
   "metadata": {},
   "source": [
    "Using the formula\n",
    "\n",
    "$$p(t) = L(R_F - R_{\\text{fixed}})(T_2 - T_1) P(t,T_2),$$\n",
    "\n",
    "the value of the FRA today to the fixed rate payer is:"
   ]
  },
  {
   "cell_type": "code",
   "execution_count": 15,
   "id": "d8c76970",
   "metadata": {},
   "outputs": [
    {
     "data": {
      "text/plain": [
       "-5389.903365415351"
      ]
     },
     "execution_count": 15,
     "metadata": {},
     "output_type": "execute_result"
    }
   ],
   "source": [
    "fra_value = notional * (fwd_rate - fwd_rate_contract) * (T2_val - T1_val) * fra_summary2.iloc[1,2]\n",
    "fra_value"
   ]
  },
  {
   "cell_type": "markdown",
   "id": "df4feafa",
   "metadata": {},
   "source": [
    "The FRA can also be valued using the alternative formula \n",
    "\n",
    "$$p(t) = LP(t,T_1) - L(1 + R_{\\text{fixed}}(T_2 - T-1)) P(t,T_2).$$\n",
    "\n",
    "We verify that we obtain the same result (with some rounding issues)."
   ]
  },
  {
   "cell_type": "code",
   "execution_count": 16,
   "id": "e2c2b649",
   "metadata": {},
   "outputs": [
    {
     "data": {
      "text/plain": [
       "-5389.903365415521"
      ]
     },
     "execution_count": 16,
     "metadata": {},
     "output_type": "execute_result"
    }
   ],
   "source": [
    "fra_value2 = notional * fra_summary2.iloc[0,2] - notional * (1 + fwd_rate_contract * (T2_val - T1_val)) * fra_summary2.iloc[1,2]\n",
    "fra_value2"
   ]
  },
  {
   "cell_type": "markdown",
   "id": "7cf18ccb",
   "metadata": {},
   "source": [
    "### Cash Settlement at Expiry of the FRA\n",
    "\n",
    "This calculation will be left as an exercise, as it is a straightforward application of the formula \n",
    "\n",
    "$$L(R_{\\text{float}} - R_{\\text{fixed}})(T_2 - T_1),$$\n",
    "\n",
    "where $T_2 - T_1 = 9/12$ years. At the expiry of the FRA (15 January 2024, 5 months from 15 August 2023), it is known that the 6-month zero rate is 3.65% and the 1-year zero rate is 4.05%. In the formula above, $R_{\\text{float}}$ is taken to be the realized 9-month rate at expirty, which must be interpolated from the given data. With $R_{\\text{fixed}}$ taken to be **fwd_rate_contract** above."
   ]
  },
  {
   "cell_type": "markdown",
   "id": "9957855d",
   "metadata": {},
   "source": [
    "## 3 Interest Rate Swaps\n",
    "\n",
    "We first identify the IRS contract features and compute the required forward rates."
   ]
  },
  {
   "cell_type": "code",
   "execution_count": 17,
   "id": "502f06ca",
   "metadata": {},
   "outputs": [
    {
     "name": "stdout",
     "output_type": "stream",
     "text": [
      "       Time    Event  TimeDiff\n",
      "0  0.102778    Reset  0.000000\n",
      "1  0.613889  Payment  0.511111\n",
      "2  1.116667  Payment  0.502778\n",
      "3  1.627778  Payment  0.511111\n"
     ]
    }
   ],
   "source": [
    "# IRS contract features\n",
    "date_today = datetime(2017, 6, 8)\n",
    "n_pmt_dates = 3\n",
    "resetpmt_dates = np.array([datetime(2017, 7, 15), datetime(2018, 1, 15), datetime(2018, 7, 15), datetime(2019, 1, 15)])\n",
    "resetpmt_dates_from_today = resetpmt_dates - date_today\n",
    "\n",
    "# IRS cash flow summary\n",
    "irs_summary = pd.DataFrame({'Time': resetpmt_dates_from_today})\n",
    "irs_summary['Time'] = irs_summary['Time'].dt.days / 360\n",
    "irs_summary['Event'] = np.array(['Reset', 'Payment', 'Payment', 'Payment'])\n",
    "\n",
    "# Calculate time differences between successive reset and payment dates\n",
    "irs_summary['TimeDiff'] = np.array([0] * (n_pmt_dates + 1))\n",
    "\n",
    "for i in range(1, n_pmt_dates+1):\n",
    "    irs_summary.loc[irs_summary.index[i],'TimeDiff'] = irs_summary.loc[irs_summary.index[i],'Time'] - irs_summary.loc[irs_summary.index[i-1],'Time']\n",
    "    \n",
    "print(irs_summary)\n",
    "    "
   ]
  },
  {
   "cell_type": "markdown",
   "id": "d3424bf9",
   "metadata": {},
   "source": [
    "Next, we need to identify the applicable zero rates observed today with tenor corresponding to the reset or payment dates. Interpolation is necessary."
   ]
  },
  {
   "cell_type": "code",
   "execution_count": 18,
   "id": "d4806a39",
   "metadata": {},
   "outputs": [
    {
     "name": "stdout",
     "output_type": "stream",
     "text": [
      "      Tenor    Rate\n",
      "0  0.083333  0.0185\n",
      "1  0.250000  0.0211\n",
      "2  0.500000  0.0265\n",
      "3  1.000000  0.0317\n",
      "4  1.500000  0.0355\n",
      "5  2.000000  0.0405\n"
     ]
    }
   ],
   "source": [
    "# Simple zero rates today\n",
    "tenor = np.array([1/12, 3/12, 6/12, 1, 1.5, 2])\n",
    "rates = np.array([1.85, 2.11, 2.65, 3.17, 3.55, 4.05]) / 100\n",
    "zero_rates = pd.DataFrame({'Tenor': tenor, 'Rate': rates})\n",
    "print(zero_rates)"
   ]
  },
  {
   "cell_type": "code",
   "execution_count": 19,
   "id": "4d4511cb",
   "metadata": {},
   "outputs": [
    {
     "name": "stdout",
     "output_type": "stream",
     "text": [
      "       Time    Event  TimeDiff      Rate        DF\n",
      "0  0.102778    Reset  0.000000  0.018803  0.998071\n",
      "1  0.613889  Payment  0.511111  0.027684  0.983289\n",
      "2  1.116667  Payment  0.502778  0.032587  0.964889\n",
      "3  1.627778  Payment  0.511111  0.036778  0.943515\n"
     ]
    }
   ],
   "source": [
    "# Interpolate zero rates for IRS reset and payment dates\n",
    "interp_rates = np.interp(x = irs_summary['Time'], xp = zero_rates['Tenor'], fp = zero_rates['Rate'])\n",
    "irs_summary['Rate'] = interp_rates\n",
    "\n",
    "# Compute discount factors\n",
    "irs_summary['DF'] = 1 / (1 + irs_summary['Rate'] * irs_summary['Time'])\n",
    "\n",
    "print(irs_summary)"
   ]
  },
  {
   "cell_type": "markdown",
   "id": "d78513b8",
   "metadata": {},
   "source": [
    "Finally, we compute the forward rates observed today for all periods in between the reset and payment dates."
   ]
  },
  {
   "cell_type": "code",
   "execution_count": 20,
   "id": "7b87c470",
   "metadata": {},
   "outputs": [
    {
     "name": "stdout",
     "output_type": "stream",
     "text": [
      "       Time    Event  TimeDiff      Rate        DF  ForwardRate\n",
      "0  0.102778    Reset  0.000000  0.018803  0.998071     0.000000\n",
      "1  0.613889  Payment  0.511111  0.027684  0.983289     0.029413\n",
      "2  1.116667  Payment  0.502778  0.032587  0.964889     0.037928\n",
      "3  1.627778  Payment  0.511111  0.036778  0.943515     0.044322\n"
     ]
    }
   ],
   "source": [
    "# Compute forward rates\n",
    "# n_pmt_dates = irs_summary.shape[0] - 1 # Number of rows minus 1\n",
    "# print(n_pmt_dates)\n",
    "\n",
    "# # Some testing\n",
    "# # Vectorized calculation of forward rates (alternatively, for-loops can be used)\n",
    "# print(irs_summary.iloc[1:n_pmt_dates+1, 3]) # Gives P(t,T_{i+1}) for i=0,1,2\n",
    "# print(irs_summary.iloc[0:n_pmt_dates, 3]) # Gives P(t,T_i)) for i=0,1,2\n",
    "# print(np.array(irs_summary.iloc[1:n_pmt_dates+1, 0]) - np.array(irs_summary.iloc[0:n_pmt_dates, 0])) # Gives T_{i+1} - T_i for i=0,1,2\n",
    "# fwd_rates = (np.array(irs_summary.iloc[0:n_pmt_dates, 3]) / np.array(irs_summary.iloc[1:n_pmt_dates+1, 3]) - 1) \\\n",
    "# / (np.array(irs_summary.iloc[1:n_pmt_dates+1, 0]) - np.array(irs_summary.iloc[0:n_pmt_dates, 0])) \n",
    "\n",
    "fwd_rate_num = np.array(irs_summary.iloc[0:n_pmt_dates, 4]) / np.array(irs_summary.iloc[1:n_pmt_dates+1, 4]) - 1\n",
    "fwd_rate_denom = np.array(irs_summary.iloc[1:n_pmt_dates+1, 2])\n",
    "fwd_rate = fwd_rate_num / fwd_rate_denom\n",
    "fwd_rate = np.append([0], fwd_rate)\n",
    "\n",
    "# fwd_rate_num = np.array(irs_summary.truncate(before = 0, after = n_pmt_dates-1))\n",
    "\n",
    "irs_summary['ForwardRate'] = fwd_rate\n",
    "print(irs_summary)"
   ]
  },
  {
   "cell_type": "markdown",
   "id": "1765b164",
   "metadata": {},
   "source": [
    "### Calculating the Swap Rate\n",
    "\n",
    "Using the zero rates observed today (8 June 2017), we need compute the swap rate using the formula\n",
    "\n",
    "$$s(t) = \\frac{\\sum_{i=0}^{N-1} R_F(t;T_i,T_{i+1})(T_{i+1} - T_i) P(t, T_{i+1})}{\\sum_{i=0}^{N-1}(T_{i+1} - T_i)P(t,T_{i+1})}.$$"
   ]
  },
  {
   "cell_type": "code",
   "execution_count": 21,
   "id": "3d140d64",
   "metadata": {},
   "outputs": [
    {
     "name": "stdout",
     "output_type": "stream",
     "text": [
      "The swap rate is: 3.711434280134335 %\n"
     ]
    }
   ],
   "source": [
    "# Calculate floating leg summands\n",
    "irs_summary['FloatComp'] = irs_summary['ForwardRate'] * irs_summary['TimeDiff'] * irs_summary['DF']\n",
    "\n",
    "# Calculate fixed leg summands\n",
    "irs_summary['FixedComp'] = irs_summary['TimeDiff'] * irs_summary['DF']\n",
    "\n",
    "# Calculate swap rate\n",
    "swap_rate = sum(irs_summary['FloatComp']) / sum(irs_summary['FixedComp'])\n",
    "print('The swap rate is:', swap_rate * 100, '%')"
   ]
  },
  {
   "cell_type": "markdown",
   "id": "57aa3b12",
   "metadata": {},
   "source": [
    "### Valuing the IRS\n",
    "\n"
   ]
  },
  {
   "cell_type": "code",
   "execution_count": 22,
   "id": "f3095eae",
   "metadata": {},
   "outputs": [
    {
     "name": "stdout",
     "output_type": "stream",
     "text": [
      "       Time    Event  TimeDiff\n",
      "0  0.000000    Reset  0.000000\n",
      "1  0.511111  Payment  0.511111\n",
      "2  1.013889  Payment  0.502778\n",
      "3  1.525000  Payment  0.511111\n"
     ]
    }
   ],
   "source": [
    "# Contract features as of today = 15 July 2017\n",
    "date_today = datetime(2017, 7, 15)\n",
    "n_pmt_dates = 3\n",
    "resetpmt_dates = np.array([datetime(2017, 7, 15), datetime(2018, 1, 15), datetime(2018, 7, 15), datetime(2019, 1, 15)])\n",
    "resetpmt_dates_from_today = resetpmt_dates - date_today\n",
    "\n",
    "# IRS cash flow summary\n",
    "irs_summary = pd.DataFrame({'Time': resetpmt_dates_from_today})\n",
    "irs_summary['Time'] = irs_summary['Time'].dt.days / 360\n",
    "irs_summary['Event'] = np.array(['Reset', 'Payment', 'Payment', 'Payment'])\n",
    "\n",
    "# Calculate time differences between successive reset and payment dates\n",
    "irs_summary['TimeDiff'] = np.array([0] * (n_pmt_dates + 1))\n",
    "\n",
    "for i in range(1, n_pmt_dates+1):\n",
    "    irs_summary.loc[irs_summary.index[i],'TimeDiff'] = irs_summary.loc[irs_summary.index[i],'Time'] - irs_summary.loc[irs_summary.index[i-1],'Time']\n",
    "    \n",
    "print(irs_summary)"
   ]
  },
  {
   "cell_type": "code",
   "execution_count": 23,
   "id": "7275f7ca",
   "metadata": {},
   "outputs": [
    {
     "name": "stdout",
     "output_type": "stream",
     "text": [
      "      Tenor    Rate\n",
      "0  0.083333  0.0210\n",
      "1  0.250000  0.0236\n",
      "2  0.500000  0.0290\n",
      "3  1.000000  0.0342\n",
      "4  1.500000  0.0380\n",
      "5  2.000000  0.0430\n"
     ]
    }
   ],
   "source": [
    "# Simple zero rates today\n",
    "tenor = np.array([1/12, 3/12, 6/12, 1, 1.5, 2])\n",
    "rates = np.array([2.10, 2.36, 2.90, 3.42, 3.80, 4.30]) / 100\n",
    "zero_rates = pd.DataFrame({'Tenor': tenor, 'Rate': rates})\n",
    "print(zero_rates)"
   ]
  },
  {
   "cell_type": "markdown",
   "id": "8ff41502",
   "metadata": {},
   "source": [
    "**Note:** Due to the day-count convention, the payment dates do not coincide with the tenor of the zero rates observed today. However, in terms of months, the payment dates match the tenors. In this case, we will assume that the zero rates for the 6-month, 1-year, and 1.5-year tenors apply to our payment dates (i.e. we do not need to interpolate)."
   ]
  },
  {
   "cell_type": "code",
   "execution_count": 24,
   "id": "ec7b8ba8",
   "metadata": {},
   "outputs": [
    {
     "name": "stdout",
     "output_type": "stream",
     "text": [
      "       Time    Event  TimeDiff    Rate        DF\n",
      "0  0.000000    Reset  0.000000  0.0000  1.000000\n",
      "1  0.511111  Payment  0.511111  0.0290  0.985394\n",
      "2  1.013889  Payment  0.502778  0.0342  0.966487\n",
      "3  1.525000  Payment  0.511111  0.0380  0.945224\n"
     ]
    }
   ],
   "source": [
    "# Append zero rates and corresponding discount factors to the irs_summary table\n",
    "irs_summary['Rate'] = np.array([0, 2.90, 3.42, 3.80]) / 100\n",
    "irs_summary['DF'] = 1 / (1 + irs_summary['Rate'] * irs_summary['Time'])\n",
    "print(irs_summary)"
   ]
  },
  {
   "cell_type": "code",
   "execution_count": 25,
   "id": "5acfee1c",
   "metadata": {},
   "outputs": [
    {
     "name": "stdout",
     "output_type": "stream",
     "text": [
      "       Time    Event  TimeDiff    Rate        DF  ForwardRate\n",
      "0  0.000000    Reset  0.000000  0.0000  1.000000     0.000000\n",
      "1  0.511111  Payment  0.511111  0.0290  0.985394     0.029000\n",
      "2  1.013889  Payment  0.502778  0.0342  0.966487     0.038909\n",
      "3  1.525000  Payment  0.511111  0.0380  0.945224     0.044012\n"
     ]
    }
   ],
   "source": [
    "# Compute forward rates\n",
    "fwd_rate_num = np.array(irs_summary.iloc[0:n_pmt_dates, 4]) / np.array(irs_summary.iloc[1:n_pmt_dates+1, 4]) - 1\n",
    "fwd_rate_denom = np.array(irs_summary.iloc[1:n_pmt_dates+1, 2])\n",
    "fwd_rate = fwd_rate_num / fwd_rate_denom\n",
    "fwd_rate = np.append([0], fwd_rate)\n",
    "\n",
    "# fwd_rate_num = np.array(irs_summary.truncate(before = 0, after = n_pmt_dates-1))\n",
    "\n",
    "irs_summary['ForwardRate'] = fwd_rate\n",
    "print(irs_summary)"
   ]
  },
  {
   "cell_type": "markdown",
   "id": "ae77d005",
   "metadata": {},
   "source": [
    "We now compute the value of the floating and fixed legs by calculating the summands in the formulas below:\n",
    "\\begin{align*}\n",
    "V_{\\text{float}}(t) & = L\\sum_{i=0}^{N-1} R_F(t;T_i,T_{i+1})(T_{i+1} - T_i) P(t, T_{i+1}) \\\\\n",
    "V_{\\text{fixed}}(t) & = LK\\sum_{i=0}^{N-1}(T_{i+1} - T_i)P(t,T_{i+1})\n",
    "\\end{align*}"
   ]
  },
  {
   "cell_type": "code",
   "execution_count": 26,
   "id": "6a3d385f",
   "metadata": {},
   "outputs": [
    {
     "name": "stdout",
     "output_type": "stream",
     "text": [
      "       Time    Event  TimeDiff    Rate        DF  ForwardRate  FloatComp  \\\n",
      "0  0.000000    Reset  0.000000  0.0000  1.000000     0.000000   0.000000   \n",
      "1  0.511111  Payment  0.511111  0.0290  0.985394     0.029000   0.014606   \n",
      "2  1.013889  Payment  0.502778  0.0342  0.966487     0.038909   0.018907   \n",
      "3  1.525000  Payment  0.511111  0.0380  0.945224     0.044012   0.021263   \n",
      "\n",
      "   FixedComp  \n",
      "0   0.000000  \n",
      "1   0.503646  \n",
      "2   0.485928  \n",
      "3   0.483115  \n",
      "The value of the IRS to the fixed rate payer is AUD 589.3439175679814\n"
     ]
    }
   ],
   "source": [
    "# Compute floating and fixed leg summands\n",
    "irs_summary['FloatComp'] = irs_summary['ForwardRate'] * irs_summary['TimeDiff'] * irs_summary['DF']\n",
    "irs_summary['FixedComp'] = irs_summary['TimeDiff'] * irs_summary['DF']\n",
    "\n",
    "# Compute value of the IRS to the fixed rate payer\n",
    "notional = 5000000\n",
    "irs_value = notional * sum(irs_summary['FloatComp']) - notional * swap_rate * sum(irs_summary['FixedComp'])\n",
    "\n",
    "print(irs_summary)\n",
    "print('The value of the IRS to the fixed rate payer is AUD', irs_value)"
   ]
  },
  {
   "cell_type": "markdown",
   "id": "4d43e4b4",
   "metadata": {},
   "source": [
    "## 4 Currency Forwards\n",
    "\n",
    "We first encode the assumed zero rates for the foreign (South Korean) and domestic (Australian) markets."
   ]
  },
  {
   "cell_type": "code",
   "execution_count": 27,
   "id": "742013b9",
   "metadata": {},
   "outputs": [
    {
     "name": "stdout",
     "output_type": "stream",
     "text": [
      "   Tenor  Domestic  Foreign\n",
      "0   0.25    0.0286   0.0425\n",
      "1   0.50    0.0296   0.0464\n",
      "2   0.75    0.0306   0.0489\n"
     ]
    }
   ],
   "source": [
    "# Zero rates for domestic and foreign markets\n",
    "zero_rates = pd.DataFrame({'Tenor':[3/12, 6/12, 9/12],\n",
    "                          'Domestic':[0.0286, 0.0296, 0.0306],\n",
    "                          'Foreign':[0.0425, 0.0464, 0.0489]})\n",
    "print(zero_rates)"
   ]
  },
  {
   "cell_type": "markdown",
   "id": "c08ca827",
   "metadata": {},
   "source": [
    "### Forward Exchange Rate\n",
    "\n",
    "Today, 15 August 2023, we enter a forward contract with delivery date 1 March 2024. We first determine how many years the contract has between inception and delivery."
   ]
  },
  {
   "cell_type": "code",
   "execution_count": 28,
   "id": "8fcaf401",
   "metadata": {},
   "outputs": [
    {
     "name": "stdout",
     "output_type": "stream",
     "text": [
      "0.5527777777777778\n"
     ]
    }
   ],
   "source": [
    "# Dates\n",
    "date_today = datetime(2023, 8, 15)\n",
    "delivery_date = datetime(2024, 3, 1)\n",
    "time_diff = delivery_date - date_today\n",
    "time_diff = time_diff.days / 360\n",
    "print(time_diff)"
   ]
  },
  {
   "cell_type": "markdown",
   "id": "aaf0258c",
   "metadata": {},
   "source": [
    "We thus have to interpolate the applicable interest rates from the given data."
   ]
  },
  {
   "cell_type": "code",
   "execution_count": 29,
   "id": "84c904ef",
   "metadata": {},
   "outputs": [
    {
     "name": "stdout",
     "output_type": "stream",
     "text": [
      "0.02981111111111111 0.04692777777777778\n"
     ]
    }
   ],
   "source": [
    "# Interpolate rates\n",
    "r_dom = np.interp(x = time_diff, xp = zero_rates['Tenor'], fp = zero_rates['Domestic'])\n",
    "r_for = np.interp(x = time_diff, xp = zero_rates['Tenor'], fp = zero_rates['Foreign'])\n",
    "print(r_dom, r_for)"
   ]
  },
  {
   "cell_type": "markdown",
   "id": "fe37b371",
   "metadata": {},
   "source": [
    "The spot exchange rate is 865 KRW per AUD. Thus, $S(0) = \\frac{1}{865}$ AUD per KRW. We can then compute the forward exchange rate as \n",
    "\n",
    "$$F(0,T) = e^{(r - r_f) T} S(0).$$"
   ]
  },
  {
   "cell_type": "code",
   "execution_count": 30,
   "id": "53902819",
   "metadata": {},
   "outputs": [],
   "source": [
    "# Spot foreign exchange rate\n",
    "spot_fx = 1 / 865\n",
    "\n",
    "# Forward exchange rate\n",
    "fwd_fx = np.exp((r_dom - r_for) * time_diff) * spot_fx"
   ]
  },
  {
   "cell_type": "markdown",
   "id": "7074a99a",
   "metadata": {},
   "source": [
    "The computed forward exchange rate here will serve as the contractual rate for the currency forward."
   ]
  },
  {
   "cell_type": "code",
   "execution_count": 31,
   "id": "253e088e",
   "metadata": {},
   "outputs": [],
   "source": [
    "# Contract forward exchange rate\n",
    "contract_fwd_fx = fwd_fx"
   ]
  },
  {
   "cell_type": "markdown",
   "id": "f49517ec",
   "metadata": {},
   "source": [
    "### Forward Contract Valuation"
   ]
  },
  {
   "cell_type": "markdown",
   "id": "27902384",
   "metadata": {},
   "source": [
    "We now state the valuation date and the time until the delivery date. The term structure of interest rates in both markets are assumed to be the same as the previous item, but we need to determine the applicable rates. We also note the spot foreign exchange on the valuation date."
   ]
  },
  {
   "cell_type": "code",
   "execution_count": 32,
   "id": "56b63dae",
   "metadata": {},
   "outputs": [],
   "source": [
    "# Dates\n",
    "date_today = datetime(2023, 10, 15)\n",
    "time_diff = delivery_date - date_today\n",
    "time_diff = time_diff.days / 360\n",
    "\n",
    "# Interpolate rates\n",
    "r_dom = np.interp(x = time_diff, xp = zero_rates['Tenor'], fp = zero_rates['Domestic'])\n",
    "r_for = np.interp(x = time_diff, xp = zero_rates['Tenor'], fp = zero_rates['Foreign'])\n",
    "\n",
    "# Spot foreign exchange rate\n",
    "spot_fx = 1 / 880\n",
    "\n",
    "# Forward exchange rate at valuation date\n",
    "fwd_fx = np.exp((r_dom - r_for) * time_diff) * spot_fx"
   ]
  },
  {
   "cell_type": "markdown",
   "id": "573d2c7d",
   "metadata": {},
   "source": [
    "We are now ready to compute the value of the forward contract for the long position."
   ]
  },
  {
   "cell_type": "code",
   "execution_count": 33,
   "id": "9e722732",
   "metadata": {},
   "outputs": [
    {
     "name": "stdout",
     "output_type": "stream",
     "text": [
      "The value of the forward contract is AUD -1.5355251240873522e-05 per KRW or AUD -383.88128102183805\n"
     ]
    }
   ],
   "source": [
    "# Forward contract value\n",
    "value = (fwd_fx - contract_fwd_fx) * np.exp(-r_dom * time_diff)\n",
    "print('The value of the forward contract is AUD', value, 'per KRW or AUD', 25000000 * value)"
   ]
  }
 ],
 "metadata": {
  "kernelspec": {
   "display_name": "Python 3 (ipykernel)",
   "language": "python",
   "name": "python3"
  },
  "language_info": {
   "codemirror_mode": {
    "name": "ipython",
    "version": 3
   },
   "file_extension": ".py",
   "mimetype": "text/x-python",
   "name": "python",
   "nbconvert_exporter": "python",
   "pygments_lexer": "ipython3",
   "version": "3.9.13"
  }
 },
 "nbformat": 4,
 "nbformat_minor": 5
}

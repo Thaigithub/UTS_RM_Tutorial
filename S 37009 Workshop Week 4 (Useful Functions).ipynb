{
 "cells": [
  {
   "cell_type": "markdown",
   "id": "46fcf346",
   "metadata": {},
   "source": [
    "# 37009 Workshop Week 4: Risk Factor Mapping"
   ]
  },
  {
   "cell_type": "markdown",
   "id": "f22a1084",
   "metadata": {},
   "source": [
    "## Some Useful Functions\n",
    "\n",
    "The following functions shall be useful in carrying out some of the calculations in the exercises. Specifically, we recall the option prices and Greeks under the Black-Scholes-Merton model. In addition, we construct a two-vertex cash flow mapping function."
   ]
  },
  {
   "cell_type": "code",
   "execution_count": 2,
   "id": "0dc83b43",
   "metadata": {},
   "outputs": [],
   "source": [
    "# Required libraries\n",
    "import numpy as np\n",
    "import scipy as sp\n",
    "import scipy.stats\n",
    "import pandas as pd\n",
    "import math"
   ]
  },
  {
   "cell_type": "markdown",
   "id": "df3db469",
   "metadata": {},
   "source": [
    "### Black-Scholes-Merton Formulas for European Put and Call Options"
   ]
  },
  {
   "cell_type": "code",
   "execution_count": 3,
   "id": "6e5b890e",
   "metadata": {},
   "outputs": [],
   "source": [
    "# Pricing function for European calls and puts\n",
    "def BSprice(spot_price, strike_price, time_to_maturity, risk_free_rate, dividend_yield, volatility, option_type):\n",
    "    \n",
    "    # Use mathematical notation for function inputs\n",
    "    s = spot_price\n",
    "    K = strike_price\n",
    "    tau = time_to_maturity # (T-t) in notes\n",
    "    r = risk_free_rate\n",
    "    q = dividend_yield\n",
    "    sigma = volatility\n",
    "    \n",
    "    # Calculate d1 and d2\n",
    "    d1 = (np.log(s / K) + (r - q + 0.5 * sigma ** 2) * tau) / (sigma * np.sqrt(tau))\n",
    "    d2 = d1 - sigma * np.sqrt(tau)\n",
    "    \n",
    "    # Calculate option prices\n",
    "    if option_type == 'call':\n",
    "        price = (np.exp(-q * tau) * s * sp.stats.norm.cdf(d1, 0.0, 1.0) \\\n",
    "                 - np.exp(-r * tau) * K * sp.stats.norm.cdf(d2, 0.0, 1.0))\n",
    "        \n",
    "    if option_type == 'put':\n",
    "        price = (np.exp(-r * tau) * K * sp.stats.norm.cdf(-d2, 0.0, 1.0) \\\n",
    "                 - np.exp(-q * tau) * s * sp.stats.norm.cdf(-d1, 0.0, 1.0))\n",
    "        \n",
    "    return price"
   ]
  },
  {
   "cell_type": "code",
   "execution_count": 4,
   "id": "d3006307",
   "metadata": {},
   "outputs": [],
   "source": [
    "# Function to calculate option delta under the Black-Scholes-Merton model\n",
    "def BSdelta(spot_price, strike_price, time_to_maturity, risk_free_rate, dividend_yield, volatility, option_type):\n",
    "    \n",
    "    # Use mathematical notation for function inputs\n",
    "    s = spot_price\n",
    "    K = strike_price\n",
    "    tau = time_to_maturity # (T-t) in notes\n",
    "    r = risk_free_rate\n",
    "    q = dividend_yield\n",
    "    sigma = volatility\n",
    "    \n",
    "    # Calculate d1 and d2\n",
    "    d1 = (np.log(s / K) + (r - q + 0.5 * sigma ** 2) * tau) / (sigma * np.sqrt(tau))\n",
    "    \n",
    "    # Calculate option delta\n",
    "    if option_type == 'call':\n",
    "        value = sp.stats.norm.cdf(d1, 0.0, 1.0)\n",
    "    \n",
    "    if option_type == 'put':\n",
    "        value = sp.stats.norm.cdf(d1, 0.0, 1.0) - 1\n",
    "    \n",
    "    return value    "
   ]
  },
  {
   "cell_type": "code",
   "execution_count": 5,
   "id": "57ac27bc",
   "metadata": {},
   "outputs": [],
   "source": [
    "# Function to calculate option gamma under the Black-Scholes-Merton model\n",
    "def BSgamma(spot_price, strike_price, time_to_maturity, risk_free_rate, dividend_yield, volatility):\n",
    "    \n",
    "    # Use mathematical notation for function inputs\n",
    "    s = spot_price\n",
    "    K = strike_price\n",
    "    tau = time_to_maturity # (T-t) in notes\n",
    "    r = risk_free_rate\n",
    "    q = dividend_yield\n",
    "    sigma = volatility\n",
    "    \n",
    "    # Compute option gamma (same for calls and puts)\n",
    "    d1 = (np.log(s / K) + (r - q + 0.5 * sigma ** 2) * tau) / (sigma * np.sqrt(tau))\n",
    "    value = sp.stats.norm.pdf(d1, 0.0, 1.0) / (s * sigma * np.sqrt(tau))\n",
    "    \n",
    "    return value"
   ]
  },
  {
   "cell_type": "markdown",
   "id": "f701b257",
   "metadata": {},
   "source": [
    "### Cash Flow Mapping (PV and Duration or Volatility Invariant Maps with Two Vertices)"
   ]
  },
  {
   "cell_type": "code",
   "execution_count": 7,
   "id": "3603ce66",
   "metadata": {},
   "outputs": [],
   "source": [
    "# Cash flow mapping using two vertices\n",
    "def CFmap2V(maturity, left_maturity, right_maturity, map_type = \"Duration\", \n",
    "            left_vol = None, right_vol = None, left_right_cor = None):\n",
    "    \n",
    "    # Assumption: Cash flow at non-standard maturity is mapped to two vertices, one on the left and one on the right.\n",
    "    # Imposes PV-invariance; may impose duration-invariance or volatility-invariance, but not both.\n",
    "    \n",
    "    # Output: alpha parameter to allocate a PV of 1 to the left vertex T1. \n",
    "    # For the volatility mapping, the function returns two values of alpha. \n",
    "    # We often will choose the alpha that is between 0 and 1.\n",
    "    \n",
    "    # Use mathematical notation for function inputs\n",
    "    T = maturity\n",
    "    T1 = left_maturity\n",
    "    T2 = right_maturity\n",
    "    \n",
    "    if map_type == \"Duration\":\n",
    "        alpha = (T2 - T) / (T2 - T1)\n",
    "        return alpha\n",
    "    \n",
    "    if map_type == \"Volatility\":\n",
    "        \n",
    "        if (left_vol == None or right_vol == None or left_right_cor == None):\n",
    "            print(\"Please provide non-empty volatility-invariant mapping inputs\")\n",
    "        \n",
    "        else:\n",
    "            # Extract volatility-invariant CF map inputs\n",
    "            sigma1 = left_vol\n",
    "            sigma2 = right_vol\n",
    "            rho = left_right_cor\n",
    "            \n",
    "            # Linearly interpolate the variance at the non-standard maturity\n",
    "            sq_sigma_interp = np.interp(x = T, xp = np.array([T1, T2]), fp = np.array([sigma1 ** 2, sigma2 ** 2]))\n",
    "            \n",
    "            # Coefficients of quadratic equation for alpha\n",
    "            a_coeff = sigma1 ** 2 - 2 * rho * sigma1 * sigma2 + sigma2 ** 2\n",
    "            b_coeff = 2 * rho * sigma1 * sigma2 - 2 * sigma2 ** 2\n",
    "            c_coeff = sigma2 ** 2 - sq_sigma_interp\n",
    "            \n",
    "            # Solve quadratic equation for alpha\n",
    "            alpha1 = (-b_coeff + np.sqrt(b_coeff ** 2 - 4 * a_coeff * c_coeff)) / (2 * a_coeff)\n",
    "            alpha2 = (-b_coeff - np.sqrt(b_coeff ** 2 - 4 * a_coeff * c_coeff)) / (2 * a_coeff)\n",
    "            alpha = np.array([alpha1, alpha2])\n",
    "            \n",
    "            return alpha"
   ]
  },
  {
   "cell_type": "code",
   "execution_count": null,
   "id": "06d9a00c",
   "metadata": {},
   "outputs": [],
   "source": []
  }
 ],
 "metadata": {
  "kernelspec": {
   "display_name": "Python 3 (ipykernel)",
   "language": "python",
   "name": "python3"
  },
  "language_info": {
   "codemirror_mode": {
    "name": "ipython",
    "version": 3
   },
   "file_extension": ".py",
   "mimetype": "text/x-python",
   "name": "python",
   "nbconvert_exporter": "python",
   "pygments_lexer": "ipython3",
   "version": "3.10.9"
  }
 },
 "nbformat": 4,
 "nbformat_minor": 5
}
